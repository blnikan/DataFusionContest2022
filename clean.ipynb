{
 "cells": [
  {
   "cell_type": "code",
   "execution_count": 1,
   "metadata": {
    "execution": {
     "iopub.execute_input": "2022-05-12T21:37:42.797842Z",
     "iopub.status.busy": "2022-05-12T21:37:42.796836Z",
     "iopub.status.idle": "2022-05-12T21:37:42.825197Z",
     "shell.execute_reply": "2022-05-12T21:37:42.824402Z",
     "shell.execute_reply.started": "2022-05-12T21:37:42.797709Z"
    }
   },
   "outputs": [],
   "source": [
    "import numpy as np\n",
    "import pandas as pd"
   ]
  },
  {
   "cell_type": "code",
   "execution_count": 3,
   "metadata": {
    "execution": {
     "iopub.execute_input": "2022-05-12T21:37:47.655485Z",
     "iopub.status.busy": "2022-05-12T21:37:47.655026Z",
     "iopub.status.idle": "2022-05-12T21:37:47.722466Z",
     "shell.execute_reply": "2022-05-12T21:37:47.721476Z",
     "shell.execute_reply.started": "2022-05-12T21:37:47.655452Z"
    }
   },
   "outputs": [],
   "source": [
    "# загружаю  данные \n",
    "\n",
    "train = pd.read_csv('DATA_data_fusion_contest_2022/train.csv')\n",
    "#pd.read_csv(\"../input/vtbdatafusion2022/train.csv\")\n",
    "\n",
    "tra_val = pd.read_csv('DATA_data_fusion_contest_2022/train_matching.csv')\n",
    "#pd.read_csv('../input/vtbdatafusion2022/train_matching.csv')\n",
    "\n",
    "click_data = pd.read_csv('DATA_data_fusion_contest_2022/clickstream.csv') #очень аккуратно надо выполнять!! \n",
    "#pd.read_csv('../input/vtbdatafusion2022/clickstream.csv')\n",
    "\n",
    "trans = pd.read_csv('DATA_data_fusion_contest_2022/transactions.csv') \n",
    "#pd.read_csv('../input/vtbdatafusion2022/transactions.csv')"
   ]
  },
  {
   "cell_type": "code",
   "execution_count": 4,
   "metadata": {},
   "outputs": [],
   "source": [
    "#получаю людей с вышкой и без нее в 2 отдельные переменные\n",
    "train_h_edu_only = train[train.higher_education==1]\n",
    "#train_h_edu_only.head\n",
    "\n",
    "train_h_edu_no = train[train.higher_education==0]\n",
    "#train_h_edu_no.head"
   ]
  },
  {
   "cell_type": "code",
   "execution_count": 5,
   "metadata": {},
   "outputs": [],
   "source": [
    "#вышенайденным людям нахожу их rkt -> после надо взять самый большой файл и скрестить их\n",
    "df_h_edu_only = train_h_edu_only.merge(tra_val)\n",
    "#df_h_edu_only\n",
    "\n",
    "df_h_edu_no = train_h_edu_no.merge(tra_val)\n",
    "#df_h_edu_no"
   ]
  },
  {
   "cell_type": "code",
   "execution_count": 6,
   "metadata": {},
   "outputs": [],
   "source": [
    "#переименую чтобы потом скрестить таблицы\n",
    "\n",
    "df_h_edu_no.rename(columns = {'rtk' : 'user_id'}, inplace = True)\n",
    "#df_h_edu_no\n",
    "df_h_edu_only.rename(columns = {'rtk' : 'user_id'}, inplace = True)"
   ]
  },
  {
   "cell_type": "code",
   "execution_count": 7,
   "metadata": {},
   "outputs": [],
   "source": [
    "#таблички идут на свидание\n",
    "df_clik_h_edu_no = click_data.merge(df_h_edu_no)\n",
    "\n",
    "df_clik_h_edu_only = click_data.merge(df_h_edu_only)"
   ]
  },
  {
   "cell_type": "code",
   "execution_count": 9,
   "metadata": {},
   "outputs": [
    {
     "data": {
      "text/html": [
       "<div>\n",
       "<style scoped>\n",
       "    .dataframe tbody tr th:only-of-type {\n",
       "        vertical-align: middle;\n",
       "    }\n",
       "\n",
       "    .dataframe tbody tr th {\n",
       "        vertical-align: top;\n",
       "    }\n",
       "\n",
       "    .dataframe thead th {\n",
       "        text-align: right;\n",
       "    }\n",
       "</style>\n",
       "<table border=\"1\" class=\"dataframe\">\n",
       "  <thead>\n",
       "    <tr style=\"text-align: right;\">\n",
       "      <th></th>\n",
       "      <th>user_id</th>\n",
       "      <th>cat_id</th>\n",
       "      <th>timestamp</th>\n",
       "      <th>new_uid</th>\n",
       "      <th>bank</th>\n",
       "      <th>higher_education</th>\n",
       "    </tr>\n",
       "  </thead>\n",
       "  <tbody>\n",
       "    <tr>\n",
       "      <th>0</th>\n",
       "      <td>003a54bc170f4e109036fe534f78c7af</td>\n",
       "      <td>535</td>\n",
       "      <td>2021-01-27 10:07:46</td>\n",
       "      <td>931116</td>\n",
       "      <td>6a6ac0a2e96f4ef98829c0d720b62f09</td>\n",
       "      <td>0.0</td>\n",
       "    </tr>\n",
       "    <tr>\n",
       "      <th>1</th>\n",
       "      <td>003a54bc170f4e109036fe534f78c7af</td>\n",
       "      <td>25</td>\n",
       "      <td>2021-02-03 07:22:16</td>\n",
       "      <td>931116</td>\n",
       "      <td>6a6ac0a2e96f4ef98829c0d720b62f09</td>\n",
       "      <td>0.0</td>\n",
       "    </tr>\n",
       "    <tr>\n",
       "      <th>2</th>\n",
       "      <td>003a54bc170f4e109036fe534f78c7af</td>\n",
       "      <td>165</td>\n",
       "      <td>2021-02-04 02:02:34</td>\n",
       "      <td>931116</td>\n",
       "      <td>6a6ac0a2e96f4ef98829c0d720b62f09</td>\n",
       "      <td>0.0</td>\n",
       "    </tr>\n",
       "    <tr>\n",
       "      <th>3</th>\n",
       "      <td>003a54bc170f4e109036fe534f78c7af</td>\n",
       "      <td>931</td>\n",
       "      <td>2021-02-06 01:31:54</td>\n",
       "      <td>931116</td>\n",
       "      <td>6a6ac0a2e96f4ef98829c0d720b62f09</td>\n",
       "      <td>0.0</td>\n",
       "    </tr>\n",
       "    <tr>\n",
       "      <th>4</th>\n",
       "      <td>003a54bc170f4e109036fe534f78c7af</td>\n",
       "      <td>503</td>\n",
       "      <td>2021-02-06 14:07:00</td>\n",
       "      <td>931116</td>\n",
       "      <td>6a6ac0a2e96f4ef98829c0d720b62f09</td>\n",
       "      <td>0.0</td>\n",
       "    </tr>\n",
       "    <tr>\n",
       "      <th>...</th>\n",
       "      <td>...</td>\n",
       "      <td>...</td>\n",
       "      <td>...</td>\n",
       "      <td>...</td>\n",
       "      <td>...</td>\n",
       "      <td>...</td>\n",
       "    </tr>\n",
       "    <tr>\n",
       "      <th>10219101</th>\n",
       "      <td>fff3a88d5d114a69ae58d6bbe994359d</td>\n",
       "      <td>289</td>\n",
       "      <td>2021-07-25 14:53:00</td>\n",
       "      <td>280080</td>\n",
       "      <td>24afae657bbf4b03851c191e2871d309</td>\n",
       "      <td>0.0</td>\n",
       "    </tr>\n",
       "    <tr>\n",
       "      <th>10219102</th>\n",
       "      <td>fff3a88d5d114a69ae58d6bbe994359d</td>\n",
       "      <td>165</td>\n",
       "      <td>2021-07-29 14:46:05</td>\n",
       "      <td>559932</td>\n",
       "      <td>24afae657bbf4b03851c191e2871d309</td>\n",
       "      <td>0.0</td>\n",
       "    </tr>\n",
       "    <tr>\n",
       "      <th>10219103</th>\n",
       "      <td>fff3a88d5d114a69ae58d6bbe994359d</td>\n",
       "      <td>931</td>\n",
       "      <td>2021-07-30 15:10:20</td>\n",
       "      <td>559932</td>\n",
       "      <td>24afae657bbf4b03851c191e2871d309</td>\n",
       "      <td>0.0</td>\n",
       "    </tr>\n",
       "    <tr>\n",
       "      <th>10219104</th>\n",
       "      <td>fff3a88d5d114a69ae58d6bbe994359d</td>\n",
       "      <td>531</td>\n",
       "      <td>2021-08-03 02:41:32</td>\n",
       "      <td>728053</td>\n",
       "      <td>24afae657bbf4b03851c191e2871d309</td>\n",
       "      <td>0.0</td>\n",
       "    </tr>\n",
       "    <tr>\n",
       "      <th>10219105</th>\n",
       "      <td>fff3a88d5d114a69ae58d6bbe994359d</td>\n",
       "      <td>772</td>\n",
       "      <td>2021-08-04 02:23:05</td>\n",
       "      <td>559932</td>\n",
       "      <td>24afae657bbf4b03851c191e2871d309</td>\n",
       "      <td>0.0</td>\n",
       "    </tr>\n",
       "  </tbody>\n",
       "</table>\n",
       "<p>10219106 rows × 6 columns</p>\n",
       "</div>"
      ],
      "text/plain": [
       "                                   user_id  cat_id            timestamp  \\\n",
       "0         003a54bc170f4e109036fe534f78c7af     535  2021-01-27 10:07:46   \n",
       "1         003a54bc170f4e109036fe534f78c7af      25  2021-02-03 07:22:16   \n",
       "2         003a54bc170f4e109036fe534f78c7af     165  2021-02-04 02:02:34   \n",
       "3         003a54bc170f4e109036fe534f78c7af     931  2021-02-06 01:31:54   \n",
       "4         003a54bc170f4e109036fe534f78c7af     503  2021-02-06 14:07:00   \n",
       "...                                    ...     ...                  ...   \n",
       "10219101  fff3a88d5d114a69ae58d6bbe994359d     289  2021-07-25 14:53:00   \n",
       "10219102  fff3a88d5d114a69ae58d6bbe994359d     165  2021-07-29 14:46:05   \n",
       "10219103  fff3a88d5d114a69ae58d6bbe994359d     931  2021-07-30 15:10:20   \n",
       "10219104  fff3a88d5d114a69ae58d6bbe994359d     531  2021-08-03 02:41:32   \n",
       "10219105  fff3a88d5d114a69ae58d6bbe994359d     772  2021-08-04 02:23:05   \n",
       "\n",
       "          new_uid                              bank  higher_education  \n",
       "0          931116  6a6ac0a2e96f4ef98829c0d720b62f09               0.0  \n",
       "1          931116  6a6ac0a2e96f4ef98829c0d720b62f09               0.0  \n",
       "2          931116  6a6ac0a2e96f4ef98829c0d720b62f09               0.0  \n",
       "3          931116  6a6ac0a2e96f4ef98829c0d720b62f09               0.0  \n",
       "4          931116  6a6ac0a2e96f4ef98829c0d720b62f09               0.0  \n",
       "...           ...                               ...               ...  \n",
       "10219101   280080  24afae657bbf4b03851c191e2871d309               0.0  \n",
       "10219102   559932  24afae657bbf4b03851c191e2871d309               0.0  \n",
       "10219103   559932  24afae657bbf4b03851c191e2871d309               0.0  \n",
       "10219104   728053  24afae657bbf4b03851c191e2871d309               0.0  \n",
       "10219105   559932  24afae657bbf4b03851c191e2871d309               0.0  \n",
       "\n",
       "[10219106 rows x 6 columns]"
      ]
     },
     "metadata": {},
     "output_type": "display_data"
    }
   ],
   "source": [
    "# пришло время попробовать очистить память\n",
    "#click_data = 0\n",
    "#tra_val = 0\n",
    "#train = 0\n",
    "\n",
    "\n",
    "\n",
    "#display(df_clik_h_edu_no)\n",
    "#display(df_clik_h_edu_only)"
   ]
  },
  {
   "cell_type": "code",
   "execution_count": 10,
   "metadata": {},
   "outputs": [],
   "source": [
    "# а так же сохраню в в отдельный файл\n",
    "\n",
    "df_clik_h_edu_no.to_csv('df_clik_h_edu_no.csv', sep='\\t', encoding='utf-8')\n",
    "df_clik_h_edu_only.to_csv('df_clik_h_edu_only.csv', sep='\\t', encoding='utf-8')\n",
    "#к имени надо добавлять .csv"
   ]
  },
  {
   "cell_type": "code",
   "execution_count": 13,
   "metadata": {},
   "outputs": [
    {
     "name": "stdout",
     "output_type": "stream",
     "text": [
      "(10219106, 6) (30476953, 6)\n"
     ]
    }
   ],
   "source": [
    "#посмотрю размер\n",
    "print(df_clik_h_edu_no.shape , df_clik_h_edu_only.shape)"
   ]
  },
  {
   "cell_type": "code",
   "execution_count": 20,
   "metadata": {
    "collapsed": true
   },
   "outputs": [
    {
     "data": {
      "text/html": [
       "<div>\n",
       "<style scoped>\n",
       "    .dataframe tbody tr th:only-of-type {\n",
       "        vertical-align: middle;\n",
       "    }\n",
       "\n",
       "    .dataframe tbody tr th {\n",
       "        vertical-align: top;\n",
       "    }\n",
       "\n",
       "    .dataframe thead th {\n",
       "        text-align: right;\n",
       "    }\n",
       "</style>\n",
       "<table border=\"1\" class=\"dataframe\">\n",
       "  <thead>\n",
       "    <tr style=\"text-align: right;\">\n",
       "      <th></th>\n",
       "      <th>user_id</th>\n",
       "      <th>mcc_code</th>\n",
       "      <th>currency_rk</th>\n",
       "      <th>transaction_amt</th>\n",
       "      <th>timestamp</th>\n",
       "    </tr>\n",
       "  </thead>\n",
       "  <tbody>\n",
       "    <tr>\n",
       "      <th>0</th>\n",
       "      <td>000932580e404dafbecd5916d4640938</td>\n",
       "      <td>5411</td>\n",
       "      <td>48</td>\n",
       "      <td>-361.072300</td>\n",
       "      <td>2020-08-03 08:05:23</td>\n",
       "    </tr>\n",
       "    <tr>\n",
       "      <th>1</th>\n",
       "      <td>000932580e404dafbecd5916d4640938</td>\n",
       "      <td>5499</td>\n",
       "      <td>48</td>\n",
       "      <td>-137.313980</td>\n",
       "      <td>2020-08-05 01:27:40</td>\n",
       "    </tr>\n",
       "    <tr>\n",
       "      <th>2</th>\n",
       "      <td>000932580e404dafbecd5916d4640938</td>\n",
       "      <td>5499</td>\n",
       "      <td>48</td>\n",
       "      <td>-138.849810</td>\n",
       "      <td>2020-08-05 03:28:11</td>\n",
       "    </tr>\n",
       "    <tr>\n",
       "      <th>3</th>\n",
       "      <td>000932580e404dafbecd5916d4640938</td>\n",
       "      <td>4829</td>\n",
       "      <td>48</td>\n",
       "      <td>-309.476530</td>\n",
       "      <td>2020-08-06 00:36:29</td>\n",
       "    </tr>\n",
       "    <tr>\n",
       "      <th>4</th>\n",
       "      <td>000932580e404dafbecd5916d4640938</td>\n",
       "      <td>5411</td>\n",
       "      <td>48</td>\n",
       "      <td>-133.473700</td>\n",
       "      <td>2020-08-09 00:30:13</td>\n",
       "    </tr>\n",
       "    <tr>\n",
       "      <th>...</th>\n",
       "      <td>...</td>\n",
       "      <td>...</td>\n",
       "      <td>...</td>\n",
       "      <td>...</td>\n",
       "      <td>...</td>\n",
       "    </tr>\n",
       "    <tr>\n",
       "      <th>19821905</th>\n",
       "      <td>fffb051877b949f49bed6538393a06ae</td>\n",
       "      <td>5411</td>\n",
       "      <td>48</td>\n",
       "      <td>-40.727768</td>\n",
       "      <td>2021-07-31 05:33:03</td>\n",
       "    </tr>\n",
       "    <tr>\n",
       "      <th>19821906</th>\n",
       "      <td>fffb051877b949f49bed6538393a06ae</td>\n",
       "      <td>5411</td>\n",
       "      <td>48</td>\n",
       "      <td>-277.494350</td>\n",
       "      <td>2021-07-31 08:57:02</td>\n",
       "    </tr>\n",
       "    <tr>\n",
       "      <th>19821907</th>\n",
       "      <td>fffb051877b949f49bed6538393a06ae</td>\n",
       "      <td>5411</td>\n",
       "      <td>48</td>\n",
       "      <td>-138.097350</td>\n",
       "      <td>2021-07-31 08:59:33</td>\n",
       "    </tr>\n",
       "    <tr>\n",
       "      <th>19821908</th>\n",
       "      <td>fffb051877b949f49bed6538393a06ae</td>\n",
       "      <td>6011</td>\n",
       "      <td>48</td>\n",
       "      <td>-86.046776</td>\n",
       "      <td>2021-08-01 23:04:41</td>\n",
       "    </tr>\n",
       "    <tr>\n",
       "      <th>19821909</th>\n",
       "      <td>fffb051877b949f49bed6538393a06ae</td>\n",
       "      <td>6012</td>\n",
       "      <td>48</td>\n",
       "      <td>-4864.049300</td>\n",
       "      <td>2021-08-02 09:20:43</td>\n",
       "    </tr>\n",
       "  </tbody>\n",
       "</table>\n",
       "<p>19821910 rows × 5 columns</p>\n",
       "</div>"
      ],
      "text/plain": [
       "                                   user_id  mcc_code  currency_rk  \\\n",
       "0         000932580e404dafbecd5916d4640938      5411           48   \n",
       "1         000932580e404dafbecd5916d4640938      5499           48   \n",
       "2         000932580e404dafbecd5916d4640938      5499           48   \n",
       "3         000932580e404dafbecd5916d4640938      4829           48   \n",
       "4         000932580e404dafbecd5916d4640938      5411           48   \n",
       "...                                    ...       ...          ...   \n",
       "19821905  fffb051877b949f49bed6538393a06ae      5411           48   \n",
       "19821906  fffb051877b949f49bed6538393a06ae      5411           48   \n",
       "19821907  fffb051877b949f49bed6538393a06ae      5411           48   \n",
       "19821908  fffb051877b949f49bed6538393a06ae      6011           48   \n",
       "19821909  fffb051877b949f49bed6538393a06ae      6012           48   \n",
       "\n",
       "          transaction_amt            timestamp  \n",
       "0             -361.072300  2020-08-03 08:05:23  \n",
       "1             -137.313980  2020-08-05 01:27:40  \n",
       "2             -138.849810  2020-08-05 03:28:11  \n",
       "3             -309.476530  2020-08-06 00:36:29  \n",
       "4             -133.473700  2020-08-09 00:30:13  \n",
       "...                   ...                  ...  \n",
       "19821905       -40.727768  2021-07-31 05:33:03  \n",
       "19821906      -277.494350  2021-07-31 08:57:02  \n",
       "19821907      -138.097350  2021-07-31 08:59:33  \n",
       "19821908       -86.046776  2021-08-01 23:04:41  \n",
       "19821909     -4864.049300  2021-08-02 09:20:43  \n",
       "\n",
       "[19821910 rows x 5 columns]"
      ]
     },
     "metadata": {},
     "output_type": "display_data"
    }
   ],
   "source": [
    "#переименовать графу времени!\n",
    "trans.rename (columns = {'transaction_dttm': 'timestamp'}, inplace = True)\n",
    "display(trans)"
   ]
  },
  {
   "cell_type": "code",
   "execution_count": 21,
   "metadata": {},
   "outputs": [],
   "source": [
    "df_all_h_edu_no = trans.merge(df_clik_h_edu_no)"
   ]
  },
  {
   "cell_type": "code",
   "execution_count": 25,
   "metadata": {},
   "outputs": [],
   "source": [
    "#df_all_h_edu_no # тут пока что лажа. чуть позже еще подумаю\n",
    "# все фигня. по дате нет совпадений.\n"
   ]
  },
  {
   "cell_type": "code",
   "execution_count": 26,
   "metadata": {},
   "outputs": [],
   "source": [
    "sub_data = pd.read_csv('DATA_data_fusion_contest_2022/sample_submission.csv')"
   ]
  },
  {
   "cell_type": "code",
   "execution_count": 27,
   "metadata": {
    "collapsed": true
   },
   "outputs": [
    {
     "data": {
      "text/html": [
       "<div>\n",
       "<style scoped>\n",
       "    .dataframe tbody tr th:only-of-type {\n",
       "        vertical-align: middle;\n",
       "    }\n",
       "\n",
       "    .dataframe tbody tr th {\n",
       "        vertical-align: top;\n",
       "    }\n",
       "\n",
       "    .dataframe thead th {\n",
       "        text-align: right;\n",
       "    }\n",
       "</style>\n",
       "<table border=\"1\" class=\"dataframe\">\n",
       "  <thead>\n",
       "    <tr style=\"text-align: right;\">\n",
       "      <th></th>\n",
       "      <th>bank</th>\n",
       "      <th>higher_education_proba</th>\n",
       "    </tr>\n",
       "  </thead>\n",
       "  <tbody>\n",
       "    <tr>\n",
       "      <th>0</th>\n",
       "      <td>85ef628894e34ad6869778a9a5d15ba5</td>\n",
       "      <td>0.5</td>\n",
       "    </tr>\n",
       "    <tr>\n",
       "      <th>1</th>\n",
       "      <td>5ec7a78c6efd4d6291e371a6f30ed5c0</td>\n",
       "      <td>0.5</td>\n",
       "    </tr>\n",
       "    <tr>\n",
       "      <th>2</th>\n",
       "      <td>d0f5d1884ad74e3e9aae7e49f2e1b77b</td>\n",
       "      <td>0.5</td>\n",
       "    </tr>\n",
       "    <tr>\n",
       "      <th>3</th>\n",
       "      <td>c3c0f24dda94413ab98036f6d9018d3d</td>\n",
       "      <td>0.5</td>\n",
       "    </tr>\n",
       "    <tr>\n",
       "      <th>4</th>\n",
       "      <td>6a137054df2a42218a518479317e5b1e</td>\n",
       "      <td>0.5</td>\n",
       "    </tr>\n",
       "    <tr>\n",
       "      <th>...</th>\n",
       "      <td>...</td>\n",
       "      <td>...</td>\n",
       "    </tr>\n",
       "    <tr>\n",
       "      <th>3995</th>\n",
       "      <td>6b4e9d5efdc346969b5bd2cd1423e1df</td>\n",
       "      <td>0.5</td>\n",
       "    </tr>\n",
       "    <tr>\n",
       "      <th>3996</th>\n",
       "      <td>aa94374db32c492a9a0bd70566ff6127</td>\n",
       "      <td>0.5</td>\n",
       "    </tr>\n",
       "    <tr>\n",
       "      <th>3997</th>\n",
       "      <td>4a73e124aa894bf8a014c7ea02ad61bf</td>\n",
       "      <td>0.5</td>\n",
       "    </tr>\n",
       "    <tr>\n",
       "      <th>3998</th>\n",
       "      <td>1739a132cead43ffa3872de4f7450ad6</td>\n",
       "      <td>0.5</td>\n",
       "    </tr>\n",
       "    <tr>\n",
       "      <th>3999</th>\n",
       "      <td>9a12ee6ce5784824aa6f8dcbdc3143f0</td>\n",
       "      <td>0.5</td>\n",
       "    </tr>\n",
       "  </tbody>\n",
       "</table>\n",
       "<p>4000 rows × 2 columns</p>\n",
       "</div>"
      ],
      "text/plain": [
       "                                  bank  higher_education_proba\n",
       "0     85ef628894e34ad6869778a9a5d15ba5                     0.5\n",
       "1     5ec7a78c6efd4d6291e371a6f30ed5c0                     0.5\n",
       "2     d0f5d1884ad74e3e9aae7e49f2e1b77b                     0.5\n",
       "3     c3c0f24dda94413ab98036f6d9018d3d                     0.5\n",
       "4     6a137054df2a42218a518479317e5b1e                     0.5\n",
       "...                                ...                     ...\n",
       "3995  6b4e9d5efdc346969b5bd2cd1423e1df                     0.5\n",
       "3996  aa94374db32c492a9a0bd70566ff6127                     0.5\n",
       "3997  4a73e124aa894bf8a014c7ea02ad61bf                     0.5\n",
       "3998  1739a132cead43ffa3872de4f7450ad6                     0.5\n",
       "3999  9a12ee6ce5784824aa6f8dcbdc3143f0                     0.5\n",
       "\n",
       "[4000 rows x 2 columns]"
      ]
     },
     "execution_count": 27,
     "metadata": {},
     "output_type": "execute_result"
    }
   ],
   "source": [
    "sub_data"
   ]
  },
  {
   "cell_type": "code",
   "execution_count": 32,
   "metadata": {},
   "outputs": [
    {
     "data": {
      "text/plain": [
       "'85ef628894e34ad6869778a9a5d15ba5'"
      ]
     },
     "execution_count": 32,
     "metadata": {},
     "output_type": "execute_result"
    }
   ],
   "source": [
    "# таким образом я узнал, что можно обращаться по индексам\n",
    "sub_data.bank[0]"
   ]
  },
  {
   "cell_type": "code",
   "execution_count": 31,
   "metadata": {},
   "outputs": [
    {
     "ename": "KeyboardInterrupt",
     "evalue": "",
     "output_type": "error",
     "traceback": [
      "\u001b[0;31m---------------------------------------------------------------------------\u001b[0m",
      "\u001b[0;31mKeyboardInterrupt\u001b[0m                         Traceback (most recent call last)",
      "\u001b[0;32m/tmp/ipykernel_32058/144099050.py\u001b[0m in \u001b[0;36m<module>\u001b[0;34m\u001b[0m\n\u001b[1;32m      5\u001b[0m         \u001b[0;32mif\u001b[0m \u001b[0mcou\u001b[0m\u001b[0;34m/\u001b[0m\u001b[0;36m100\u001b[0m \u001b[0;34m==\u001b[0m \u001b[0mint\u001b[0m\u001b[0;34m(\u001b[0m\u001b[0mcou\u001b[0m\u001b[0;34m/\u001b[0m\u001b[0;36m100\u001b[0m\u001b[0;34m)\u001b[0m\u001b[0;34m:\u001b[0m\u001b[0;34m\u001b[0m\u001b[0;34m\u001b[0m\u001b[0m\n\u001b[1;32m      6\u001b[0m             \u001b[0mprint\u001b[0m\u001b[0;34m(\u001b[0m\u001b[0mcou\u001b[0m\u001b[0;34m)\u001b[0m\u001b[0;34m\u001b[0m\u001b[0;34m\u001b[0m\u001b[0m\n\u001b[0;32m----> 7\u001b[0;31m     \u001b[0;32mif\u001b[0m \u001b[0mdf_clik_h_edu_only\u001b[0m\u001b[0;34m.\u001b[0m\u001b[0mbank\u001b[0m\u001b[0;34m.\u001b[0m\u001b[0misin\u001b[0m\u001b[0;34m(\u001b[0m\u001b[0;34m[\u001b[0m\u001b[0mi\u001b[0m\u001b[0;34m]\u001b[0m\u001b[0;34m)\u001b[0m\u001b[0;34m.\u001b[0m\u001b[0many\u001b[0m\u001b[0;34m(\u001b[0m\u001b[0;34m)\u001b[0m\u001b[0;34m:\u001b[0m\u001b[0;31m#df_clik_h_edu_only.bank == i:\u001b[0m\u001b[0;34m\u001b[0m\u001b[0;34m\u001b[0m\u001b[0m\n\u001b[0m\u001b[1;32m      8\u001b[0m         \u001b[0mcou\u001b[0m \u001b[0;34m+=\u001b[0m \u001b[0;36m1\u001b[0m\u001b[0;34m\u001b[0m\u001b[0;34m\u001b[0m\u001b[0m\n\u001b[1;32m      9\u001b[0m     \u001b[0;32mif\u001b[0m \u001b[0mdf_clik_h_edu_no\u001b[0m\u001b[0;34m.\u001b[0m\u001b[0mbank\u001b[0m\u001b[0;34m.\u001b[0m\u001b[0misin\u001b[0m\u001b[0;34m(\u001b[0m\u001b[0;34m[\u001b[0m\u001b[0mi\u001b[0m\u001b[0;34m]\u001b[0m\u001b[0;34m)\u001b[0m\u001b[0;34m.\u001b[0m\u001b[0many\u001b[0m\u001b[0;34m(\u001b[0m\u001b[0;34m)\u001b[0m\u001b[0;34m:\u001b[0m\u001b[0;31m#df_clik_h_edu_no == i:\u001b[0m\u001b[0;34m\u001b[0m\u001b[0;34m\u001b[0m\u001b[0m\n",
      "\u001b[0;32m~/anaconda3/lib/python3.9/site-packages/pandas/core/series.py\u001b[0m in \u001b[0;36misin\u001b[0;34m(self, values)\u001b[0m\n\u001b[1;32m   5023\u001b[0m         \u001b[0mdtype\u001b[0m\u001b[0;34m:\u001b[0m \u001b[0mbool\u001b[0m\u001b[0;34m\u001b[0m\u001b[0;34m\u001b[0m\u001b[0m\n\u001b[1;32m   5024\u001b[0m         \"\"\"\n\u001b[0;32m-> 5025\u001b[0;31m         \u001b[0mresult\u001b[0m \u001b[0;34m=\u001b[0m \u001b[0malgorithms\u001b[0m\u001b[0;34m.\u001b[0m\u001b[0misin\u001b[0m\u001b[0;34m(\u001b[0m\u001b[0mself\u001b[0m\u001b[0;34m.\u001b[0m\u001b[0m_values\u001b[0m\u001b[0;34m,\u001b[0m \u001b[0mvalues\u001b[0m\u001b[0;34m)\u001b[0m\u001b[0;34m\u001b[0m\u001b[0;34m\u001b[0m\u001b[0m\n\u001b[0m\u001b[1;32m   5026\u001b[0m         return self._constructor(result, index=self.index).__finalize__(\n\u001b[1;32m   5027\u001b[0m             \u001b[0mself\u001b[0m\u001b[0;34m,\u001b[0m \u001b[0mmethod\u001b[0m\u001b[0;34m=\u001b[0m\u001b[0;34m\"isin\"\u001b[0m\u001b[0;34m\u001b[0m\u001b[0;34m\u001b[0m\u001b[0m\n",
      "\u001b[0;32m~/anaconda3/lib/python3.9/site-packages/pandas/core/algorithms.py\u001b[0m in \u001b[0;36misin\u001b[0;34m(comps, values)\u001b[0m\n\u001b[1;32m    522\u001b[0m         \u001b[0mf\u001b[0m \u001b[0;34m=\u001b[0m \u001b[0mhtable\u001b[0m\u001b[0;34m.\u001b[0m\u001b[0mismember\u001b[0m\u001b[0;34m\u001b[0m\u001b[0;34m\u001b[0m\u001b[0m\n\u001b[1;32m    523\u001b[0m \u001b[0;34m\u001b[0m\u001b[0m\n\u001b[0;32m--> 524\u001b[0;31m     \u001b[0;32mreturn\u001b[0m \u001b[0mf\u001b[0m\u001b[0;34m(\u001b[0m\u001b[0mcomps\u001b[0m\u001b[0;34m,\u001b[0m \u001b[0mvalues\u001b[0m\u001b[0;34m)\u001b[0m\u001b[0;34m\u001b[0m\u001b[0;34m\u001b[0m\u001b[0m\n\u001b[0m\u001b[1;32m    525\u001b[0m \u001b[0;34m\u001b[0m\u001b[0m\n\u001b[1;32m    526\u001b[0m \u001b[0;34m\u001b[0m\u001b[0m\n",
      "\u001b[0;31mKeyboardInterrupt\u001b[0m: "
     ]
    }
   ],
   "source": [
    "cou = 0\n",
    "\n",
    "for i in sub_data.bank:\n",
    "    if cou>0:\n",
    "        if cou/100 == int(cou/100):\n",
    "            print(cou)\n",
    "    if df_clik_h_edu_only.bank.isin([i]).any():#df_clik_h_edu_only.bank == i:\n",
    "        cou += 1\n",
    "    if df_clik_h_edu_no.bank.isin([i]).any():#df_clik_h_edu_no == i:\n",
    "        cou += 1\n",
    "\n",
    "        #my_df[\"range\"].isin([45]).any()"
   ]
  },
  {
   "cell_type": "code",
   "execution_count": 33,
   "metadata": {},
   "outputs": [
    {
     "name": "stdout",
     "output_type": "stream",
     "text": [
      "0\n"
     ]
    }
   ],
   "source": [
    "print(cou)"
   ]
  },
  {
   "cell_type": "code",
   "execution_count": null,
   "metadata": {},
   "outputs": [],
   "source": [
    "df_clik_h_edu_only.bank.isin([sub_data.bank[:]]).any()"
   ]
  },
  {
   "cell_type": "code",
   "execution_count": null,
   "metadata": {},
   "outputs": [],
   "source": []
  }
 ],
 "metadata": {
  "kernelspec": {
   "display_name": "Python 3 (ipykernel)",
   "language": "python",
   "name": "python3"
  },
  "language_info": {
   "codemirror_mode": {
    "name": "ipython",
    "version": 3
   },
   "file_extension": ".py",
   "mimetype": "text/x-python",
   "name": "python",
   "nbconvert_exporter": "python",
   "pygments_lexer": "ipython3",
   "version": "3.9.7"
  }
 },
 "nbformat": 4,
 "nbformat_minor": 4
}
