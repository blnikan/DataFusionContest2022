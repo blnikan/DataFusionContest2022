{
 "cells": [
  {
   "cell_type": "code",
   "execution_count": 1,
   "metadata": {
    "execution": {
     "iopub.execute_input": "2022-05-15T11:20:28.995668Z",
     "iopub.status.busy": "2022-05-15T11:20:28.995322Z",
     "iopub.status.idle": "2022-05-15T11:20:29.022886Z",
     "shell.execute_reply": "2022-05-15T11:20:29.022197Z",
     "shell.execute_reply.started": "2022-05-15T11:20:28.995571Z"
    }
   },
   "outputs": [],
   "source": [
    "import numpy as np\n",
    "import pandas as pd"
   ]
  },
  {
   "cell_type": "markdown",
   "metadata": {},
   "source": [
    "######  Загружаю данные"
   ]
  },
  {
   "cell_type": "code",
   "execution_count": 2,
   "metadata": {
    "execution": {
     "iopub.execute_input": "2022-05-15T13:19:15.808058Z",
     "iopub.status.busy": "2022-05-15T13:19:15.807795Z",
     "iopub.status.idle": "2022-05-15T13:20:54.733100Z",
     "shell.execute_reply": "2022-05-15T13:20:54.731605Z",
     "shell.execute_reply.started": "2022-05-15T13:19:15.808030Z"
    }
   },
   "outputs": [
    {
     "name": "stdout",
     "output_type": "stream",
     "text": [
      "transactions.csv - DONE!\n",
      "df_clik_h_edu_no - DONE!\n",
      "df_clik_h_edu_only - DONE!\n"
     ]
    }
   ],
   "source": [
    "# загружаю  данные \n",
    "\n",
    "#traidisplay pd.read_csv('DATA_data_fusion_contest_2022/train.csv')\n",
    "#pd.read_csv(\"../input/vtbdatafusion2022/train.csv\")\n",
    "#print('train.csv - DONE!')\n",
    "\n",
    "\n",
    "#tra_val = pd.read_csv('DATA_data_fusion_contest_2022/train_matching.csv')\n",
    "#pd.read_csv('../input/vtbdatafusion2022/train_matching.csv')\n",
    "#print('train_matching.csv - DONE!')\n",
    "\n",
    "\n",
    "#click_data = pd.read_csv('DATA_data_fusion_contest_2022/clickstream.csv') #очень аккуратно надо выполнять!! \n",
    "#pd.read_csv('../input/vtbdatafusion2022/clickstream.csv')\n",
    "#print('clickstream.csv - DONE!')\n",
    "\n",
    "\n",
    "trans = pd.read_csv('DATA_data_fusion_contest_2022/transactions.csv')\n",
    "#trans = pd.read_csv('../input/vtbdatafusion2022/transactions.csv')\n",
    "print('transactions.csv - DONE!')\n",
    "\n",
    "\n",
    "#sub_data = pd.read_csv('DATA_data_fusion_contest_2022/sample_submission.csv')\n",
    "#sub_data = pd.read_csv('../input/vtbdatafusion2022/sample_submission.csv')\n",
    "#print('sample_submission.csv - DONE!')\n",
    "\n",
    "\n",
    "df_clik_h_edu_no = pd.read_csv('newdatadatafusion/df_clik_h_edu_no2.csv')\n",
    "#df_clik_h_edu_no = pd.read_csv('../input/df2022-converted/df_clik_h_edu_no.csv')\n",
    "print('df_clik_h_edu_no - DONE!')\n",
    "\n",
    "\n",
    "df_clik_h_edu_only = pd.read_csv('newdatadatafusion/df_clik_h_edu_only2.csv')\n",
    "#df_clik_h_edu_only = pd.read_csv('../input/df2022-converted/df_clik_h_edu_only.csv')\n",
    "print('df_clik_h_edu_only - DONE!')\n"
   ]
  },
  {
   "cell_type": "markdown",
   "metadata": {},
   "source": [
    "######  разделяю на 2 разные таблицы с выщкой и без неё\n"
   ]
  },
  {
   "cell_type": "code",
   "execution_count": 4,
   "metadata": {
    "execution": {
     "iopub.execute_input": "2022-05-15T13:20:58.660539Z",
     "iopub.status.busy": "2022-05-15T13:20:58.659687Z",
     "iopub.status.idle": "2022-05-15T13:20:58.702360Z",
     "shell.execute_reply": "2022-05-15T13:20:58.701554Z",
     "shell.execute_reply.started": "2022-05-15T13:20:58.660504Z"
    }
   },
   "outputs": [],
   "source": [
    "display(df_clik_h_edu_no)\n",
    "display(df_clik_h_edu_only)"
   ]
  },
  {
   "cell_type": "code",
   "execution_count": null,
   "metadata": {},
   "outputs": [],
   "source": [
    "train_h_edu_only = train[train.higher_education==1]\n",
    "#train_h_edu_only.head\n",
    "\n",
    "train_h_edu_no = train[train.higher_education==0]\n",
    "#train_h_edu_no.head"
   ]
  },
  {
   "cell_type": "markdown",
   "metadata": {},
   "source": [
    "###### вышенайденным людям нахожу их rkt -> после надо взять самый большой файл и скрестить их. а так же переименую чтобы потом скрестить таблицы"
   ]
  },
  {
   "cell_type": "code",
   "execution_count": null,
   "metadata": {},
   "outputs": [],
   "source": [
    "df_h_edu_only = train_h_edu_only.merge(tra_val)\n",
    "df_h_edu_no = train_h_edu_no.merge(tra_val)\n",
    "\n",
    "\n",
    "df_h_edu_no.rename(columns = {'rtk' : 'user_id'}, inplace = True)\n",
    "df_h_edu_only.rename(columns = {'rtk' : 'user_id'}, inplace = True)"
   ]
  },
  {
   "cell_type": "markdown",
   "metadata": {},
   "source": [
    "######  опять скрещиваю таблицы "
   ]
  },
  {
   "cell_type": "code",
   "execution_count": null,
   "metadata": {},
   "outputs": [],
   "source": [
    "#таблички идут на свидание\n",
    "df_clik_h_edu_no = click_data.merge(df_h_edu_no)\n",
    "\n",
    "df_clik_h_edu_only = click_data.merge(df_h_edu_only)"
   ]
  },
  {
   "cell_type": "markdown",
   "metadata": {},
   "source": [
    "###### а так же сохраню в в отдельный файл"
   ]
  },
  {
   "cell_type": "code",
   "execution_count": null,
   "metadata": {},
   "outputs": [],
   "source": [
    "#df_clik_h_edu_no.to_csv('df_clik_h_edu_no.csv', sep='\\t', encoding='utf-8')\n",
    "#df_clik_h_edu_only.to_csv('df_clik_h_edu_only.csv', sep='\\t', encoding='utf-8')\n",
    "#к имени надо добавлять .csv"
   ]
  },
  {
   "cell_type": "code",
   "execution_count": null,
   "metadata": {},
   "outputs": [],
   "source": [
    "#посмотрю размер\n",
    "print(df_clik_h_edu_no.shape , df_clik_h_edu_only.shape)"
   ]
  },
  {
   "cell_type": "code",
   "execution_count": null,
   "metadata": {
    "collapsed": true,
    "jupyter": {
     "outputs_hidden": true
    }
   },
   "outputs": [],
   "source": [
    "#переименовать графу времени!\n",
    "#trans.rename (columns = {'transaction_dttm': 'timestamp'}, inplace = True)\n",
    "#display(trans)"
   ]
  },
  {
   "cell_type": "code",
   "execution_count": null,
   "metadata": {},
   "outputs": [],
   "source": [
    "df_all_h_edu_no = trans.merge(df_clik_h_edu_no)\n",
    "#df_all_h_edu_no # тут пока что лажа. чуть позже еще подумаю\n",
    "# все фигня. по дате нет совпадений."
   ]
  },
  {
   "cell_type": "code",
   "execution_count": null,
   "metadata": {},
   "outputs": [],
   "source": []
  },
  {
   "cell_type": "markdown",
   "metadata": {},
   "source": [
    "#  работа с данными которые надо предсказать\n"
   ]
  },
  {
   "cell_type": "code",
   "execution_count": 4,
   "metadata": {
    "execution": {
     "iopub.execute_input": "2022-05-15T11:24:00.278562Z",
     "iopub.status.busy": "2022-05-15T11:24:00.277660Z",
     "iopub.status.idle": "2022-05-15T11:24:00.303624Z",
     "shell.execute_reply": "2022-05-15T11:24:00.303041Z",
     "shell.execute_reply.started": "2022-05-15T11:24:00.278516Z"
    }
   },
   "outputs": [],
   "source": [
    "sub_data"
   ]
  },
  {
   "cell_type": "code",
   "execution_count": 5,
   "metadata": {
    "execution": {
     "iopub.execute_input": "2022-05-15T11:24:16.962394Z",
     "iopub.status.busy": "2022-05-15T11:24:16.961608Z",
     "iopub.status.idle": "2022-05-15T11:24:16.981908Z",
     "shell.execute_reply": "2022-05-15T11:24:16.981259Z",
     "shell.execute_reply.started": "2022-05-15T11:24:16.962343Z"
    }
   },
   "outputs": [],
   "source": [
    "sub_data.rename(columns={'bank':'user_id'}, inplace = True)\n",
    "sub_data"
   ]
  },
  {
   "cell_type": "code",
   "execution_count": null,
   "metadata": {},
   "outputs": [],
   "source": [
    "# таким образом я узнал, что можно обращаться по индексам\n",
    "#sub_data.bank[0]"
   ]
  },
  {
   "cell_type": "code",
   "execution_count": null,
   "metadata": {},
   "outputs": [],
   "source": [
    "#my_df[\"range\"].isin([45]).any()\n",
    "#trans.user_id.isin([sub_data.bank[0]]).any()"
   ]
  },
  {
   "cell_type": "code",
   "execution_count": null,
   "metadata": {},
   "outputs": [],
   "source": [
    "# появиль новые интересные факты...\n",
    "#щя будем смотреть"
   ]
  },
  {
   "cell_type": "code",
   "execution_count": 6,
   "metadata": {
    "execution": {
     "iopub.execute_input": "2022-05-15T11:24:28.369019Z",
     "iopub.status.busy": "2022-05-15T11:24:28.368297Z",
     "iopub.status.idle": "2022-05-15T11:24:32.176168Z",
     "shell.execute_reply": "2022-05-15T11:24:32.175269Z",
     "shell.execute_reply.started": "2022-05-15T11:24:28.368948Z"
    }
   },
   "outputs": [],
   "source": [
    "df_sub_data = sub_data.merge(trans)\n",
    "df_sub_data\n"
   ]
  },
  {
   "cell_type": "code",
   "execution_count": 15,
   "metadata": {
    "execution": {
     "iopub.execute_input": "2022-05-15T11:29:42.093709Z",
     "iopub.status.busy": "2022-05-15T11:29:42.093386Z",
     "iopub.status.idle": "2022-05-15T11:29:42.491472Z",
     "shell.execute_reply": "2022-05-15T11:29:42.490634Z",
     "shell.execute_reply.started": "2022-05-15T11:29:42.093678Z"
    }
   },
   "outputs": [],
   "source": [
    "#так я узнал для всех ли нашлись траты\n",
    "\n",
    "n = len(pd.unique(df_sub_data['user_id'])) \n",
    "n "
   ]
  },
  {
   "cell_type": "code",
   "execution_count": 7,
   "metadata": {
    "execution": {
     "iopub.execute_input": "2022-05-15T11:24:50.674448Z",
     "iopub.status.busy": "2022-05-15T11:24:50.673796Z",
     "iopub.status.idle": "2022-05-15T11:24:51.075803Z",
     "shell.execute_reply": "2022-05-15T11:24:51.075064Z",
     "shell.execute_reply.started": "2022-05-15T11:24:50.674397Z"
    }
   },
   "outputs": [],
   "source": [
    "# убрал mcc = -1 т.к. такого кода нет\n",
    "df_sub_data = df_sub_data.loc[df_sub_data['mcc_code'] != -1]\n",
    "df_sub_data"
   ]
  },
  {
   "cell_type": "code",
   "execution_count": 14,
   "metadata": {
    "execution": {
     "iopub.execute_input": "2022-05-15T11:27:14.628171Z",
     "iopub.status.busy": "2022-05-15T11:27:14.627812Z",
     "iopub.status.idle": "2022-05-15T11:27:15.132615Z",
     "shell.execute_reply": "2022-05-15T11:27:15.131564Z",
     "shell.execute_reply.started": "2022-05-15T11:27:14.628134Z"
    }
   },
   "outputs": [],
   "source": [
    "#df_sub_data = df_sub_data.reset_index()\n",
    "js = np.array(df_sub_data.index)\n",
    "js = js[1:]\n",
    "js = max(js)\n",
    "js"
   ]
  },
  {
   "cell_type": "markdown",
   "metadata": {},
   "source": [
    "### без учета валюты "
   ]
  },
  {
   "cell_type": "code",
   "execution_count": 32,
   "metadata": {
    "collapsed": true,
    "execution": {
     "iopub.execute_input": "2022-05-15T12:05:35.521915Z",
     "iopub.status.busy": "2022-05-15T12:05:35.521511Z",
     "iopub.status.idle": "2022-05-15T12:08:05.838634Z",
     "shell.execute_reply": "2022-05-15T12:08:05.837237Z",
     "shell.execute_reply.started": "2022-05-15T12:05:35.521866Z"
    },
    "jupyter": {
     "outputs_hidden": true
    }
   },
   "outputs": [],
   "source": [
    "mon = np.zeros( len(pd.unique(df_sub_data['user_id'])) )\n",
    "col_VO = np.zeros( len(pd.unique(df_sub_data['user_id'])) )\n",
    "i = 0\n",
    "j = 0\n",
    "#cou = 0\n",
    "#df_sub_data.reset_index()\n",
    "#js = np.array(df_sub_data.index)\n",
    "#js = js[1:]\n",
    "\n",
    "mon[i] += float(df_sub_data.transaction_amt[j]) \n",
    "# Н учесть первый эл-т тк далее я добав сразу j+1\n",
    "\n",
    "for j in  range (js-1):\n",
    "    #print(j)\n",
    "    if j/(js//100) == int(j/(js//100)):\n",
    "        print(j/(js//100),'%')\n",
    "        \n",
    "    \n",
    "    h1 = str( df_sub_data.user_id[j] )\n",
    "    h2 = str( df_sub_data.user_id[j + 1] )\n",
    "    \n",
    "    if h1 == h2: #проверяю нынешний и след\n",
    "        #cou += 1\n",
    "        \n",
    "        m2 = float(df_sub_data.transaction_amt[j+1])\n",
    "        \n",
    "        col_VO[i] += 1\n",
    "        mon[i] += m2\n",
    "    else:\n",
    "        \n",
    "        # типо до этого я плюсовал только j+1 так что каджый раз проспускал первый эл-т\n",
    "        mon [i+1] += float(df_sub_data.transaction_amt[j+1]) \n",
    "        \n",
    "        i += 1\n",
    "print('mon\\n',mon)\n",
    "print('col-VO\\n',col_VO)\n",
    "cr_tran = mon[:]/col_VO[:]\n",
    "print('cr_tran')\n",
    "print(cr_tran)\n"
   ]
  },
  {
   "cell_type": "code",
   "execution_count": 45,
   "metadata": {
    "execution": {
     "iopub.execute_input": "2022-05-15T12:53:26.226803Z",
     "iopub.status.busy": "2022-05-15T12:53:26.225967Z",
     "iopub.status.idle": "2022-05-15T12:53:26.265897Z",
     "shell.execute_reply": "2022-05-15T12:53:26.265086Z",
     "shell.execute_reply.started": "2022-05-15T12:53:26.226762Z"
    }
   },
   "outputs": [],
   "source": [
    "#добавлю новые столб and save file\n",
    "#sub_data['all_mon'] = mon\n",
    "#sub_data['col_VO_tran'] = col_VO\n",
    "#sub_data['cr_tran'] = cr_tran\n",
    "#sub_data./\n",
    "\n",
    "sub_data.to_csv('./sub_data_new.csv', index = False)#, sep='\\t', encoding='utf-8')"
   ]
  },
  {
   "cell_type": "code",
   "execution_count": 34,
   "metadata": {
    "collapsed": true,
    "execution": {
     "iopub.execute_input": "2022-05-15T12:11:48.195181Z",
     "iopub.status.busy": "2022-05-15T12:11:48.194834Z",
     "iopub.status.idle": "2022-05-15T12:11:48.241680Z",
     "shell.execute_reply": "2022-05-15T12:11:48.240799Z",
     "shell.execute_reply.started": "2022-05-15T12:11:48.195142Z"
    },
    "jupyter": {
     "outputs_hidden": true
    }
   },
   "outputs": [],
   "source": [
    "n = len(pd.unique(df_sub_data['currency_rk'])) \n",
    "print(n)\n",
    "df_sub_data"
   ]
  },
  {
   "cell_type": "code",
   "execution_count": null,
   "metadata": {},
   "outputs": [],
   "source": []
  },
  {
   "cell_type": "code",
   "execution_count": null,
   "metadata": {},
   "outputs": [],
   "source": []
  },
  {
   "cell_type": "code",
   "execution_count": null,
   "metadata": {},
   "outputs": [],
   "source": [
    "print(mon)"
   ]
  },
  {
   "cell_type": "code",
   "execution_count": null,
   "metadata": {},
   "outputs": [],
   "source": [
    "he = float(df_sub_data.transaction_amt[j])\n",
    "type(he)"
   ]
  },
  {
   "cell_type": "code",
   "execution_count": null,
   "metadata": {},
   "outputs": [],
   "source": [
    " if df_sub_data.user_id[0] == sub_data.user_id[0]:\n",
    "        print(float(df_sub_data.transaction_amt[0]))"
   ]
  },
  {
   "cell_type": "code",
   "execution_count": null,
   "metadata": {
    "collapsed": true,
    "jupyter": {
     "outputs_hidden": true
    }
   },
   "outputs": [],
   "source": [
    "sub_data"
   ]
  },
  {
   "cell_type": "code",
   "execution_count": null,
   "metadata": {
    "collapsed": true,
    "jupyter": {
     "outputs_hidden": true
    }
   },
   "outputs": [],
   "source": [
    "df_sub_data = df_sub_data.reset_index()\n",
    "df_sub_data"
   ]
  },
  {
   "cell_type": "code",
   "execution_count": 52,
   "metadata": {
    "execution": {
     "iopub.execute_input": "2022-05-15T12:58:45.333374Z",
     "iopub.status.busy": "2022-05-15T12:58:45.333072Z",
     "iopub.status.idle": "2022-05-15T12:58:45.361675Z",
     "shell.execute_reply": "2022-05-15T12:58:45.360398Z",
     "shell.execute_reply.started": "2022-05-15T12:58:45.333341Z"
    }
   },
   "outputs": [],
   "source": [
    " #del #sub_data\n",
    "display(df_clik_h_edu_no)\n",
    "df_clik_h_edu_no.user_id\n",
    "#trans.rename(columns={})"
   ]
  },
  {
   "cell_type": "code",
   "execution_count": 9,
   "metadata": {},
   "outputs": [
    {
     "data": {
      "text/plain": [
       "19821910"
      ]
     },
     "execution_count": 9,
     "metadata": {},
     "output_type": "execute_result"
    }
   ],
   "source": [
    "trans.shape[0]"
   ]
  },
  {
   "cell_type": "code",
   "execution_count": 12,
   "metadata": {},
   "outputs": [
    {
     "name": "stdout",
     "output_type": "stream",
     "text": [
      "0.0 %\n",
      "1.0 %\n",
      "2.0 %\n",
      "3.0 %\n",
      "4.0 %\n",
      "5.0 %\n",
      "6.0 %\n",
      "7.0 %\n",
      "8.0 %\n",
      "9.0 %\n",
      "10.0 %\n",
      "11.0 %\n",
      "12.0 %\n",
      "13.0 %\n",
      "14.0 %\n",
      "15.0 %\n",
      "16.0 %\n",
      "17.0 %\n",
      "18.0 %\n",
      "19.0 %\n",
      "20.0 %\n",
      "21.0 %\n",
      "22.0 %\n",
      "23.0 %\n",
      "24.0 %\n",
      "25.0 %\n"
     ]
    },
    {
     "ename": "KeyboardInterrupt",
     "evalue": "",
     "output_type": "error",
     "traceback": [
      "\u001b[0;31m---------------------------------------------------------------------------\u001b[0m",
      "\u001b[0;31mKeyboardInterrupt\u001b[0m                         Traceback (most recent call last)",
      "\u001b[0;32m/tmp/ipykernel_9721/128017607.py\u001b[0m in \u001b[0;36m<module>\u001b[0;34m\u001b[0m\n\u001b[1;32m     16\u001b[0m         \u001b[0mm2\u001b[0m \u001b[0;34m=\u001b[0m \u001b[0mfloat\u001b[0m\u001b[0;34m(\u001b[0m \u001b[0mtrans\u001b[0m\u001b[0;34m.\u001b[0m\u001b[0mtransaction_amt\u001b[0m\u001b[0;34m[\u001b[0m\u001b[0mj\u001b[0m\u001b[0;34m+\u001b[0m\u001b[0;36m1\u001b[0m\u001b[0;34m]\u001b[0m \u001b[0;34m)\u001b[0m\u001b[0;34m\u001b[0m\u001b[0;34m\u001b[0m\u001b[0m\n\u001b[1;32m     17\u001b[0m         \u001b[0mcol_VO2\u001b[0m\u001b[0;34m[\u001b[0m\u001b[0mi\u001b[0m\u001b[0;34m]\u001b[0m \u001b[0;34m+=\u001b[0m \u001b[0;36m1\u001b[0m\u001b[0;34m\u001b[0m\u001b[0;34m\u001b[0m\u001b[0m\n\u001b[0;32m---> 18\u001b[0;31m         \u001b[0mmon2\u001b[0m \u001b[0;34m+=\u001b[0m\u001b[0mm2\u001b[0m\u001b[0;34m\u001b[0m\u001b[0;34m\u001b[0m\u001b[0m\n\u001b[0m\u001b[1;32m     19\u001b[0m     \u001b[0;32melse\u001b[0m\u001b[0;34m:\u001b[0m\u001b[0;34m\u001b[0m\u001b[0;34m\u001b[0m\u001b[0m\n\u001b[1;32m     20\u001b[0m         \u001b[0mmon2\u001b[0m\u001b[0;34m[\u001b[0m\u001b[0mi\u001b[0m\u001b[0;34m+\u001b[0m\u001b[0;36m1\u001b[0m\u001b[0;34m]\u001b[0m \u001b[0;34m+=\u001b[0m \u001b[0mfloat\u001b[0m\u001b[0;34m(\u001b[0m \u001b[0mtrans\u001b[0m\u001b[0;34m.\u001b[0m\u001b[0mtransaction_amt\u001b[0m\u001b[0;34m[\u001b[0m\u001b[0mj\u001b[0m\u001b[0;34m+\u001b[0m\u001b[0;36m1\u001b[0m\u001b[0;34m]\u001b[0m\u001b[0;34m)\u001b[0m\u001b[0;34m\u001b[0m\u001b[0;34m\u001b[0m\u001b[0m\n",
      "\u001b[0;31mKeyboardInterrupt\u001b[0m: "
     ]
    }
   ],
   "source": [
    "\n",
    "size = trans.shape[0]\n",
    "mon2 = np.zeros( len(pd.unique(trans['user_id']))  ) \n",
    "col_VO2 = np.zeros( len(pd.unique(trans['user_id'])) )\n",
    "i = 0\n",
    "j = 0\n",
    "\n",
    "for j in  range(size-1):\n",
    "    \n",
    "    if j/(size//100) == int(j/(size//100)):\n",
    "        print(j/(size//100),'%')\n",
    "        \n",
    "    u1 = str(trans.user_id[i])\n",
    "    u2 = str(trans.user_id[i+1])\n",
    "    \n",
    "    if u1 == u2:\n",
    "        m2 = float( trans.transaction_amt[j+1] )\n",
    "        col_VO2[i] += 1\n",
    "        mon2 +=m2\n",
    "    else:\n",
    "        mon2[i+1] += float( trans.transaction_amt[j+1])\n",
    "        i += 1\n",
    "        \n",
    "        \n",
    "print('mon\\n',mon2)\n",
    "print('col-VO\\n',col_VO2)\n",
    "cr_tran = mon2[:]/col_VO2[:]\n",
    "print('cr_tran')\n",
    "print(cr_tran)"
   ]
  },
  {
   "cell_type": "code",
   "execution_count": 13,
   "metadata": {},
   "outputs": [
    {
     "data": {
      "text/html": [
       "<div>\n",
       "<style scoped>\n",
       "    .dataframe tbody tr th:only-of-type {\n",
       "        vertical-align: middle;\n",
       "    }\n",
       "\n",
       "    .dataframe tbody tr th {\n",
       "        vertical-align: top;\n",
       "    }\n",
       "\n",
       "    .dataframe thead th {\n",
       "        text-align: right;\n",
       "    }\n",
       "</style>\n",
       "<table border=\"1\" class=\"dataframe\">\n",
       "  <thead>\n",
       "    <tr style=\"text-align: right;\">\n",
       "      <th></th>\n",
       "      <th>user_id</th>\n",
       "      <th>cat_id</th>\n",
       "      <th>timestamp</th>\n",
       "      <th>new_uid</th>\n",
       "      <th>bank</th>\n",
       "      <th>higher_education</th>\n",
       "    </tr>\n",
       "  </thead>\n",
       "  <tbody>\n",
       "    <tr>\n",
       "      <th>0</th>\n",
       "      <td>003a54bc170f4e109036fe534f78c7af</td>\n",
       "      <td>535</td>\n",
       "      <td>2021-01-27 10:07:46</td>\n",
       "      <td>931116</td>\n",
       "      <td>6a6ac0a2e96f4ef98829c0d720b62f09</td>\n",
       "      <td>0</td>\n",
       "    </tr>\n",
       "    <tr>\n",
       "      <th>1</th>\n",
       "      <td>003a54bc170f4e109036fe534f78c7af</td>\n",
       "      <td>25</td>\n",
       "      <td>2021-02-03 07:22:16</td>\n",
       "      <td>931116</td>\n",
       "      <td>6a6ac0a2e96f4ef98829c0d720b62f09</td>\n",
       "      <td>0</td>\n",
       "    </tr>\n",
       "    <tr>\n",
       "      <th>2</th>\n",
       "      <td>003a54bc170f4e109036fe534f78c7af</td>\n",
       "      <td>165</td>\n",
       "      <td>2021-02-04 02:02:34</td>\n",
       "      <td>931116</td>\n",
       "      <td>6a6ac0a2e96f4ef98829c0d720b62f09</td>\n",
       "      <td>0</td>\n",
       "    </tr>\n",
       "    <tr>\n",
       "      <th>3</th>\n",
       "      <td>003a54bc170f4e109036fe534f78c7af</td>\n",
       "      <td>931</td>\n",
       "      <td>2021-02-06 01:31:54</td>\n",
       "      <td>931116</td>\n",
       "      <td>6a6ac0a2e96f4ef98829c0d720b62f09</td>\n",
       "      <td>0</td>\n",
       "    </tr>\n",
       "    <tr>\n",
       "      <th>4</th>\n",
       "      <td>003a54bc170f4e109036fe534f78c7af</td>\n",
       "      <td>503</td>\n",
       "      <td>2021-02-06 14:07:00</td>\n",
       "      <td>931116</td>\n",
       "      <td>6a6ac0a2e96f4ef98829c0d720b62f09</td>\n",
       "      <td>0</td>\n",
       "    </tr>\n",
       "    <tr>\n",
       "      <th>...</th>\n",
       "      <td>...</td>\n",
       "      <td>...</td>\n",
       "      <td>...</td>\n",
       "      <td>...</td>\n",
       "      <td>...</td>\n",
       "      <td>...</td>\n",
       "    </tr>\n",
       "    <tr>\n",
       "      <th>1048570</th>\n",
       "      <td>1f627a283e9d4f97a28c1bec5c224906</td>\n",
       "      <td>165</td>\n",
       "      <td>2021-07-03 16:34:00</td>\n",
       "      <td>1774470</td>\n",
       "      <td>118bb16b0371465eba8c2d3784a62ca6</td>\n",
       "      <td>0</td>\n",
       "    </tr>\n",
       "    <tr>\n",
       "      <th>1048571</th>\n",
       "      <td>1f627a283e9d4f97a28c1bec5c224906</td>\n",
       "      <td>165</td>\n",
       "      <td>2021-07-03 17:24:00</td>\n",
       "      <td>1774470</td>\n",
       "      <td>118bb16b0371465eba8c2d3784a62ca6</td>\n",
       "      <td>0</td>\n",
       "    </tr>\n",
       "    <tr>\n",
       "      <th>1048572</th>\n",
       "      <td>1f627a283e9d4f97a28c1bec5c224906</td>\n",
       "      <td>165</td>\n",
       "      <td>2021-07-03 21:15:00</td>\n",
       "      <td>1774470</td>\n",
       "      <td>118bb16b0371465eba8c2d3784a62ca6</td>\n",
       "      <td>0</td>\n",
       "    </tr>\n",
       "    <tr>\n",
       "      <th>1048573</th>\n",
       "      <td>1f627a283e9d4f97a28c1bec5c224906</td>\n",
       "      <td>165</td>\n",
       "      <td>2021-07-03 22:32:00</td>\n",
       "      <td>1774470</td>\n",
       "      <td>118bb16b0371465eba8c2d3784a62ca6</td>\n",
       "      <td>0</td>\n",
       "    </tr>\n",
       "    <tr>\n",
       "      <th>1048574</th>\n",
       "      <td>1f627a283e9d4f97a28c1bec5c224906</td>\n",
       "      <td>535</td>\n",
       "      <td>2021-07-03 22:38:00</td>\n",
       "      <td>1774470</td>\n",
       "      <td>118bb16b0371465eba8c2d3784a62ca6</td>\n",
       "      <td>0</td>\n",
       "    </tr>\n",
       "  </tbody>\n",
       "</table>\n",
       "<p>1048575 rows × 6 columns</p>\n",
       "</div>"
      ],
      "text/plain": [
       "                                  user_id  cat_id            timestamp  \\\n",
       "0        003a54bc170f4e109036fe534f78c7af     535  2021-01-27 10:07:46   \n",
       "1        003a54bc170f4e109036fe534f78c7af      25  2021-02-03 07:22:16   \n",
       "2        003a54bc170f4e109036fe534f78c7af     165  2021-02-04 02:02:34   \n",
       "3        003a54bc170f4e109036fe534f78c7af     931  2021-02-06 01:31:54   \n",
       "4        003a54bc170f4e109036fe534f78c7af     503  2021-02-06 14:07:00   \n",
       "...                                   ...     ...                  ...   \n",
       "1048570  1f627a283e9d4f97a28c1bec5c224906     165  2021-07-03 16:34:00   \n",
       "1048571  1f627a283e9d4f97a28c1bec5c224906     165  2021-07-03 17:24:00   \n",
       "1048572  1f627a283e9d4f97a28c1bec5c224906     165  2021-07-03 21:15:00   \n",
       "1048573  1f627a283e9d4f97a28c1bec5c224906     165  2021-07-03 22:32:00   \n",
       "1048574  1f627a283e9d4f97a28c1bec5c224906     535  2021-07-03 22:38:00   \n",
       "\n",
       "         new_uid                              bank  higher_education  \n",
       "0         931116  6a6ac0a2e96f4ef98829c0d720b62f09                 0  \n",
       "1         931116  6a6ac0a2e96f4ef98829c0d720b62f09                 0  \n",
       "2         931116  6a6ac0a2e96f4ef98829c0d720b62f09                 0  \n",
       "3         931116  6a6ac0a2e96f4ef98829c0d720b62f09                 0  \n",
       "4         931116  6a6ac0a2e96f4ef98829c0d720b62f09                 0  \n",
       "...          ...                               ...               ...  \n",
       "1048570  1774470  118bb16b0371465eba8c2d3784a62ca6                 0  \n",
       "1048571  1774470  118bb16b0371465eba8c2d3784a62ca6                 0  \n",
       "1048572  1774470  118bb16b0371465eba8c2d3784a62ca6                 0  \n",
       "1048573  1774470  118bb16b0371465eba8c2d3784a62ca6                 0  \n",
       "1048574  1774470  118bb16b0371465eba8c2d3784a62ca6                 0  \n",
       "\n",
       "[1048575 rows x 6 columns]"
      ]
     },
     "execution_count": 13,
     "metadata": {},
     "output_type": "execute_result"
    }
   ],
   "source": [
    "#df_clik_h_edu_no.pop('Unnamed: 0')\n",
    "#df_clik_h_edu_no.rename(columns={})"
   ]
  },
  {
   "cell_type": "code",
   "execution_count": 18,
   "metadata": {},
   "outputs": [
    {
     "data": {
      "text/html": [
       "<div>\n",
       "<style scoped>\n",
       "    .dataframe tbody tr th:only-of-type {\n",
       "        vertical-align: middle;\n",
       "    }\n",
       "\n",
       "    .dataframe tbody tr th {\n",
       "        vertical-align: top;\n",
       "    }\n",
       "\n",
       "    .dataframe thead th {\n",
       "        text-align: right;\n",
       "    }\n",
       "</style>\n",
       "<table border=\"1\" class=\"dataframe\">\n",
       "  <thead>\n",
       "    <tr style=\"text-align: right;\">\n",
       "      <th></th>\n",
       "      <th>bank</th>\n",
       "      <th>mcc_code</th>\n",
       "      <th>currency_rk</th>\n",
       "      <th>transaction_amt</th>\n",
       "      <th>transaction_dttm</th>\n",
       "    </tr>\n",
       "  </thead>\n",
       "  <tbody>\n",
       "    <tr>\n",
       "      <th>0</th>\n",
       "      <td>000932580e404dafbecd5916d4640938</td>\n",
       "      <td>5411</td>\n",
       "      <td>48</td>\n",
       "      <td>-361.072300</td>\n",
       "      <td>2020-08-03 08:05:23</td>\n",
       "    </tr>\n",
       "    <tr>\n",
       "      <th>1</th>\n",
       "      <td>000932580e404dafbecd5916d4640938</td>\n",
       "      <td>5499</td>\n",
       "      <td>48</td>\n",
       "      <td>-137.313980</td>\n",
       "      <td>2020-08-05 01:27:40</td>\n",
       "    </tr>\n",
       "    <tr>\n",
       "      <th>2</th>\n",
       "      <td>000932580e404dafbecd5916d4640938</td>\n",
       "      <td>5499</td>\n",
       "      <td>48</td>\n",
       "      <td>-138.849810</td>\n",
       "      <td>2020-08-05 03:28:11</td>\n",
       "    </tr>\n",
       "    <tr>\n",
       "      <th>3</th>\n",
       "      <td>000932580e404dafbecd5916d4640938</td>\n",
       "      <td>4829</td>\n",
       "      <td>48</td>\n",
       "      <td>-309.476530</td>\n",
       "      <td>2020-08-06 00:36:29</td>\n",
       "    </tr>\n",
       "    <tr>\n",
       "      <th>4</th>\n",
       "      <td>000932580e404dafbecd5916d4640938</td>\n",
       "      <td>5411</td>\n",
       "      <td>48</td>\n",
       "      <td>-133.473700</td>\n",
       "      <td>2020-08-09 00:30:13</td>\n",
       "    </tr>\n",
       "    <tr>\n",
       "      <th>...</th>\n",
       "      <td>...</td>\n",
       "      <td>...</td>\n",
       "      <td>...</td>\n",
       "      <td>...</td>\n",
       "      <td>...</td>\n",
       "    </tr>\n",
       "    <tr>\n",
       "      <th>19821905</th>\n",
       "      <td>fffb051877b949f49bed6538393a06ae</td>\n",
       "      <td>5411</td>\n",
       "      <td>48</td>\n",
       "      <td>-40.727768</td>\n",
       "      <td>2021-07-31 05:33:03</td>\n",
       "    </tr>\n",
       "    <tr>\n",
       "      <th>19821906</th>\n",
       "      <td>fffb051877b949f49bed6538393a06ae</td>\n",
       "      <td>5411</td>\n",
       "      <td>48</td>\n",
       "      <td>-277.494350</td>\n",
       "      <td>2021-07-31 08:57:02</td>\n",
       "    </tr>\n",
       "    <tr>\n",
       "      <th>19821907</th>\n",
       "      <td>fffb051877b949f49bed6538393a06ae</td>\n",
       "      <td>5411</td>\n",
       "      <td>48</td>\n",
       "      <td>-138.097350</td>\n",
       "      <td>2021-07-31 08:59:33</td>\n",
       "    </tr>\n",
       "    <tr>\n",
       "      <th>19821908</th>\n",
       "      <td>fffb051877b949f49bed6538393a06ae</td>\n",
       "      <td>6011</td>\n",
       "      <td>48</td>\n",
       "      <td>-86.046776</td>\n",
       "      <td>2021-08-01 23:04:41</td>\n",
       "    </tr>\n",
       "    <tr>\n",
       "      <th>19821909</th>\n",
       "      <td>fffb051877b949f49bed6538393a06ae</td>\n",
       "      <td>6012</td>\n",
       "      <td>48</td>\n",
       "      <td>-4864.049300</td>\n",
       "      <td>2021-08-02 09:20:43</td>\n",
       "    </tr>\n",
       "  </tbody>\n",
       "</table>\n",
       "<p>19821910 rows × 5 columns</p>\n",
       "</div>"
      ],
      "text/plain": [
       "                                      bank  mcc_code  currency_rk  \\\n",
       "0         000932580e404dafbecd5916d4640938      5411           48   \n",
       "1         000932580e404dafbecd5916d4640938      5499           48   \n",
       "2         000932580e404dafbecd5916d4640938      5499           48   \n",
       "3         000932580e404dafbecd5916d4640938      4829           48   \n",
       "4         000932580e404dafbecd5916d4640938      5411           48   \n",
       "...                                    ...       ...          ...   \n",
       "19821905  fffb051877b949f49bed6538393a06ae      5411           48   \n",
       "19821906  fffb051877b949f49bed6538393a06ae      5411           48   \n",
       "19821907  fffb051877b949f49bed6538393a06ae      5411           48   \n",
       "19821908  fffb051877b949f49bed6538393a06ae      6011           48   \n",
       "19821909  fffb051877b949f49bed6538393a06ae      6012           48   \n",
       "\n",
       "          transaction_amt     transaction_dttm  \n",
       "0             -361.072300  2020-08-03 08:05:23  \n",
       "1             -137.313980  2020-08-05 01:27:40  \n",
       "2             -138.849810  2020-08-05 03:28:11  \n",
       "3             -309.476530  2020-08-06 00:36:29  \n",
       "4             -133.473700  2020-08-09 00:30:13  \n",
       "...                   ...                  ...  \n",
       "19821905       -40.727768  2021-07-31 05:33:03  \n",
       "19821906      -277.494350  2021-07-31 08:57:02  \n",
       "19821907      -138.097350  2021-07-31 08:59:33  \n",
       "19821908       -86.046776  2021-08-01 23:04:41  \n",
       "19821909     -4864.049300  2021-08-02 09:20:43  \n",
       "\n",
       "[19821910 rows x 5 columns]"
      ]
     },
     "execution_count": 18,
     "metadata": {},
     "output_type": "execute_result"
    }
   ],
   "source": [
    "trans.rename(columns={'user_id': 'bank'}, inplace = True)\n",
    "trans\n",
    "#df_tenm"
   ]
  },
  {
   "cell_type": "code",
   "execution_count": null,
   "metadata": {},
   "outputs": [],
   "source": [
    "df_tenp = trans.merge(df_clik_h_edu_no)\n",
    "df_temp"
   ]
  },
  {
   "cell_type": "code",
   "execution_count": null,
   "metadata": {},
   "outputs": [],
   "source": []
  }
 ],
 "metadata": {
  "kernelspec": {
   "display_name": "Python 3 (ipykernel)",
   "language": "python",
   "name": "python3"
  },
  "language_info": {
   "codemirror_mode": {
    "name": "ipython",
    "version": 3
   },
   "file_extension": ".py",
   "mimetype": "text/x-python",
   "name": "python",
   "nbconvert_exporter": "python",
   "pygments_lexer": "ipython3",
   "version": "3.9.7"
  }
 },
 "nbformat": 4,
 "nbformat_minor": 4
}
