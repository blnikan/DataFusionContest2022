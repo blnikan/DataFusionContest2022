{
 "cells": [
  {
   "cell_type": "code",
   "execution_count": 1,
   "metadata": {
    "execution": {
     "iopub.execute_input": "2022-05-15T11:20:28.995668Z",
     "iopub.status.busy": "2022-05-15T11:20:28.995322Z",
     "iopub.status.idle": "2022-05-15T11:20:29.022886Z",
     "shell.execute_reply": "2022-05-15T11:20:29.022197Z",
     "shell.execute_reply.started": "2022-05-15T11:20:28.995571Z"
    }
   },
   "outputs": [],
   "source": [
    "import numpy as np\n",
    "import pandas as pd"
   ]
  },
  {
   "cell_type": "markdown",
   "metadata": {},
   "source": [
    "######  Загружаю данные"
   ]
  },
  {
   "cell_type": "code",
   "execution_count": 3,
   "metadata": {
    "execution": {
     "iopub.execute_input": "2022-05-15T13:19:15.808058Z",
     "iopub.status.busy": "2022-05-15T13:19:15.807795Z",
     "iopub.status.idle": "2022-05-15T13:20:54.733100Z",
     "shell.execute_reply": "2022-05-15T13:20:54.731605Z",
     "shell.execute_reply.started": "2022-05-15T13:19:15.808030Z"
    }
   },
   "outputs": [],
   "source": [
    "# загружаю  данные \n",
    "\n",
    "#traidisplay pd.read_csv('DATA_data_fusion_contest_2022/train.csv')\n",
    "#pd.read_csv(\"../input/vtbdatafusion2022/train.csv\")\n",
    "#print('train.csv - DONE!')\n",
    "\n",
    "\n",
    "#tra_val = pd.read_csv('DATA_data_fusion_contest_2022/train_matching.csv')\n",
    "#pd.read_csv('../input/vtbdatafusion2022/train_matching.csv')\n",
    "#print('train_matching.csv - DONE!')\n",
    "\n",
    "\n",
    "#click_data = pd.read_csv('DATA_data_fusion_contest_2022/clickstream.csv') #очень аккуратно надо выполнять!! \n",
    "#pd.read_csv('../input/vtbdatafusion2022/clickstream.csv')\n",
    "#print('clickstream.csv - DONE!')\n",
    "\n",
    "\n",
    "#trans = pd.read_csv('DATA_data_fusion_contest_2022/transactions.csv')\n",
    "#trans = pd.read_csv('../input/vtbdatafusion2022/transactions.csv')\n",
    "#print('transactions.csv - DONE!')\n",
    "\n",
    "\n",
    "#sub_data = pd.read_csv('DATA_data_fusion_contest_2022/sample_submission.csv')\n",
    "#sub_data = pd.read_csv('../input/vtbdatafusion2022/sample_submission.csv')\n",
    "#print('sample_submission.csv - DONE!')\n",
    "\n",
    "\n",
    "#df_clik_h_edu_no = pd.read_csv('newdatadatafusion/df_clik_h_edu_no.csv')\n",
    "#df_clik_h_edu_no = pd.read_csv('../input/df2022-converted/df_clik_h_edu_no.csv')\n",
    "#print('df_clik_h_edu_no - DONE!')\n",
    "\n",
    "\n",
    "#df_clik_h_edu_only = pd.read_csv('newdatadatafusion/df_clik_h_edu_only.csv')\n",
    "#df_clik_h_edu_only = pd.read_csv('../input/df2022-converted/df_clik_h_edu_only.csv')\n",
    "#print('df_clik_h_edu_only - DONE!')\n",
    "\n"
   ]
  },
  {
   "cell_type": "markdown",
   "metadata": {},
   "source": [
    "######  разделяю на 2 разные таблицы с выщкой и без неё\n"
   ]
  },
  {
   "cell_type": "code",
   "execution_count": 4,
   "metadata": {
    "execution": {
     "iopub.execute_input": "2022-05-15T13:20:58.660539Z",
     "iopub.status.busy": "2022-05-15T13:20:58.659687Z",
     "iopub.status.idle": "2022-05-15T13:20:58.702360Z",
     "shell.execute_reply": "2022-05-15T13:20:58.701554Z",
     "shell.execute_reply.started": "2022-05-15T13:20:58.660504Z"
    }
   },
   "outputs": [],
   "source": [
    "display(df_clik_h_edu_no)\n",
    "display(df_clik_h_edu_only)"
   ]
  },
  {
   "cell_type": "code",
   "execution_count": null,
   "metadata": {},
   "outputs": [],
   "source": [
    "train_h_edu_only = train[train.higher_education==1]\n",
    "#train_h_edu_only.head\n",
    "\n",
    "train_h_edu_no = train[train.higher_education==0]\n",
    "#train_h_edu_no.head"
   ]
  },
  {
   "cell_type": "markdown",
   "metadata": {},
   "source": [
    "###### вышенайденным людям нахожу их rkt -> после надо взять самый большой файл и скрестить их. а так же переименую чтобы потом скрестить таблицы"
   ]
  },
  {
   "cell_type": "code",
   "execution_count": null,
   "metadata": {},
   "outputs": [],
   "source": [
    "df_h_edu_only = train_h_edu_only.merge(tra_val)\n",
    "df_h_edu_no = train_h_edu_no.merge(tra_val)\n",
    "\n",
    "\n",
    "df_h_edu_no.rename(columns = {'rtk' : 'user_id'}, inplace = True)\n",
    "df_h_edu_only.rename(columns = {'rtk' : 'user_id'}, inplace = True)"
   ]
  },
  {
   "cell_type": "markdown",
   "metadata": {},
   "source": [
    "######  опять скрещиваю таблицы "
   ]
  },
  {
   "cell_type": "code",
   "execution_count": null,
   "metadata": {},
   "outputs": [],
   "source": [
    "#таблички идут на свидание\n",
    "df_clik_h_edu_no = click_data.merge(df_h_edu_no)\n",
    "\n",
    "df_clik_h_edu_only = click_data.merge(df_h_edu_only)"
   ]
  },
  {
   "cell_type": "markdown",
   "metadata": {},
   "source": [
    "###### а так же сохраню в в отдельный файл"
   ]
  },
  {
   "cell_type": "code",
   "execution_count": null,
   "metadata": {},
   "outputs": [],
   "source": [
    "#df_clik_h_edu_no.to_csv('df_clik_h_edu_no.csv', sep='\\t', encoding='utf-8')\n",
    "#df_clik_h_edu_only.to_csv('df_clik_h_edu_only.csv', sep='\\t', encoding='utf-8')\n",
    "#к имени надо добавлять .csv"
   ]
  },
  {
   "cell_type": "code",
   "execution_count": null,
   "metadata": {},
   "outputs": [],
   "source": [
    "#посмотрю размер\n",
    "print(df_clik_h_edu_no.shape , df_clik_h_edu_only.shape)"
   ]
  },
  {
   "cell_type": "code",
   "execution_count": null,
   "metadata": {
    "collapsed": true,
    "jupyter": {
     "outputs_hidden": true
    }
   },
   "outputs": [],
   "source": [
    "#переименовать графу времени!\n",
    "#trans.rename (columns = {'transaction_dttm': 'timestamp'}, inplace = True)\n",
    "#display(trans)"
   ]
  },
  {
   "cell_type": "code",
   "execution_count": null,
   "metadata": {},
   "outputs": [],
   "source": [
    "df_all_h_edu_no = trans.merge(df_clik_h_edu_no)\n",
    "#df_all_h_edu_no # тут пока что лажа. чуть позже еще подумаю\n",
    "# все фигня. по дате нет совпадений."
   ]
  },
  {
   "cell_type": "code",
   "execution_count": null,
   "metadata": {},
   "outputs": [],
   "source": []
  },
  {
   "cell_type": "markdown",
   "metadata": {},
   "source": [
    "#  работа с данными которые надо предсказать\n"
   ]
  },
  {
   "cell_type": "code",
   "execution_count": 4,
   "metadata": {
    "execution": {
     "iopub.execute_input": "2022-05-15T11:24:00.278562Z",
     "iopub.status.busy": "2022-05-15T11:24:00.277660Z",
     "iopub.status.idle": "2022-05-15T11:24:00.303624Z",
     "shell.execute_reply": "2022-05-15T11:24:00.303041Z",
     "shell.execute_reply.started": "2022-05-15T11:24:00.278516Z"
    }
   },
   "outputs": [],
   "source": [
    "sub_data"
   ]
  },
  {
   "cell_type": "code",
   "execution_count": 5,
   "metadata": {
    "execution": {
     "iopub.execute_input": "2022-05-15T11:24:16.962394Z",
     "iopub.status.busy": "2022-05-15T11:24:16.961608Z",
     "iopub.status.idle": "2022-05-15T11:24:16.981908Z",
     "shell.execute_reply": "2022-05-15T11:24:16.981259Z",
     "shell.execute_reply.started": "2022-05-15T11:24:16.962343Z"
    }
   },
   "outputs": [],
   "source": [
    "sub_data.rename(columns={'bank':'user_id'}, inplace = True)\n",
    "sub_data"
   ]
  },
  {
   "cell_type": "code",
   "execution_count": null,
   "metadata": {},
   "outputs": [],
   "source": [
    "# таким образом я узнал, что можно обращаться по индексам\n",
    "#sub_data.bank[0]"
   ]
  },
  {
   "cell_type": "code",
   "execution_count": null,
   "metadata": {},
   "outputs": [],
   "source": [
    "#my_df[\"range\"].isin([45]).any()\n",
    "#trans.user_id.isin([sub_data.bank[0]]).any()"
   ]
  },
  {
   "cell_type": "code",
   "execution_count": null,
   "metadata": {},
   "outputs": [],
   "source": [
    "# появиль новые интересные факты...\n",
    "#щя будем смотреть"
   ]
  },
  {
   "cell_type": "code",
   "execution_count": 6,
   "metadata": {
    "execution": {
     "iopub.execute_input": "2022-05-15T11:24:28.369019Z",
     "iopub.status.busy": "2022-05-15T11:24:28.368297Z",
     "iopub.status.idle": "2022-05-15T11:24:32.176168Z",
     "shell.execute_reply": "2022-05-15T11:24:32.175269Z",
     "shell.execute_reply.started": "2022-05-15T11:24:28.368948Z"
    }
   },
   "outputs": [],
   "source": [
    "df_sub_data = sub_data.merge(trans)\n",
    "df_sub_data\n"
   ]
  },
  {
   "cell_type": "code",
   "execution_count": 15,
   "metadata": {
    "execution": {
     "iopub.execute_input": "2022-05-15T11:29:42.093709Z",
     "iopub.status.busy": "2022-05-15T11:29:42.093386Z",
     "iopub.status.idle": "2022-05-15T11:29:42.491472Z",
     "shell.execute_reply": "2022-05-15T11:29:42.490634Z",
     "shell.execute_reply.started": "2022-05-15T11:29:42.093678Z"
    }
   },
   "outputs": [],
   "source": [
    "#так я узнал для всех ли нашлись траты\n",
    "\n",
    "n = len(pd.unique(df_sub_data['user_id'])) \n",
    "n "
   ]
  },
  {
   "cell_type": "code",
   "execution_count": 7,
   "metadata": {
    "execution": {
     "iopub.execute_input": "2022-05-15T11:24:50.674448Z",
     "iopub.status.busy": "2022-05-15T11:24:50.673796Z",
     "iopub.status.idle": "2022-05-15T11:24:51.075803Z",
     "shell.execute_reply": "2022-05-15T11:24:51.075064Z",
     "shell.execute_reply.started": "2022-05-15T11:24:50.674397Z"
    }
   },
   "outputs": [],
   "source": [
    "# убрал mcc = -1 т.к. такого кода нет\n",
    "df_sub_data = df_sub_data.loc[df_sub_data['mcc_code'] != -1]\n",
    "df_sub_data"
   ]
  },
  {
   "cell_type": "code",
   "execution_count": 14,
   "metadata": {
    "execution": {
     "iopub.execute_input": "2022-05-15T11:27:14.628171Z",
     "iopub.status.busy": "2022-05-15T11:27:14.627812Z",
     "iopub.status.idle": "2022-05-15T11:27:15.132615Z",
     "shell.execute_reply": "2022-05-15T11:27:15.131564Z",
     "shell.execute_reply.started": "2022-05-15T11:27:14.628134Z"
    }
   },
   "outputs": [],
   "source": [
    "#df_sub_data = df_sub_data.reset_index()\n",
    "js = np.array(df_sub_data.index)\n",
    "js = js[1:]\n",
    "js = max(js)\n",
    "js"
   ]
  },
  {
   "cell_type": "markdown",
   "metadata": {},
   "source": [
    "### без учета валюты "
   ]
  },
  {
   "cell_type": "code",
   "execution_count": 32,
   "metadata": {
    "collapsed": true,
    "execution": {
     "iopub.execute_input": "2022-05-15T12:05:35.521915Z",
     "iopub.status.busy": "2022-05-15T12:05:35.521511Z",
     "iopub.status.idle": "2022-05-15T12:08:05.838634Z",
     "shell.execute_reply": "2022-05-15T12:08:05.837237Z",
     "shell.execute_reply.started": "2022-05-15T12:05:35.521866Z"
    },
    "jupyter": {
     "outputs_hidden": true
    }
   },
   "outputs": [],
   "source": [
    "mon = np.zeros( len(pd.unique(df_sub_data['user_id'])) )\n",
    "col_VO = np.zeros( len(pd.unique(df_sub_data['user_id'])) )\n",
    "i = 0\n",
    "j = 0\n",
    "#cou = 0\n",
    "#df_sub_data.reset_index()\n",
    "#js = np.array(df_sub_data.index)\n",
    "#js = js[1:]\n",
    "\n",
    "mon[i] += float(df_sub_data.transaction_amt[j]) \n",
    "# Н учесть первый эл-т тк далее я добав сразу j+1\n",
    "\n",
    "for j in  range (js-1):\n",
    "    #print(j)\n",
    "    if j/(js//100) == int(j/(js//100)):\n",
    "        print(j/(js//100),'%')\n",
    "        \n",
    "    \n",
    "    h1 = str( df_sub_data.user_id[j] )\n",
    "    h2 = str( df_sub_data.user_id[j + 1] )\n",
    "    \n",
    "    if h1 == h2: #проверяю нынешний и след\n",
    "        #cou += 1\n",
    "        \n",
    "        m2 = float(df_sub_data.transaction_amt[j+1])\n",
    "        \n",
    "        col_VO[i] += 1\n",
    "        mon[i] += m2\n",
    "    else:\n",
    "        \n",
    "        # типо до этого я плюсовал только j+1 так что каджый раз проспускал первый эл-т\n",
    "        mon [i+1] += float(df_sub_data.transaction_amt[j+1]) \n",
    "        \n",
    "        i += 1\n",
    "print('mon\\n',mon)\n",
    "print('col-VO\\n',col_VO)\n",
    "cr_tran = mon[:]/col_VO[:]\n",
    "print('cr_tran')\n",
    "print(cr_tran)\n"
   ]
  },
  {
   "cell_type": "code",
   "execution_count": 45,
   "metadata": {
    "execution": {
     "iopub.execute_input": "2022-05-15T12:53:26.226803Z",
     "iopub.status.busy": "2022-05-15T12:53:26.225967Z",
     "iopub.status.idle": "2022-05-15T12:53:26.265897Z",
     "shell.execute_reply": "2022-05-15T12:53:26.265086Z",
     "shell.execute_reply.started": "2022-05-15T12:53:26.226762Z"
    }
   },
   "outputs": [],
   "source": [
    "#добавлю новые столб and save file\n",
    "#sub_data['all_mon'] = mon\n",
    "#sub_data['col_VO_tran'] = col_VO\n",
    "#sub_data['cr_tran'] = cr_tran\n",
    "#sub_data./\n",
    "\n",
    "sub_data.to_csv('./sub_data_new.csv', index = False)#, sep='\\t', encoding='utf-8')"
   ]
  },
  {
   "cell_type": "code",
   "execution_count": 34,
   "metadata": {
    "collapsed": true,
    "execution": {
     "iopub.execute_input": "2022-05-15T12:11:48.195181Z",
     "iopub.status.busy": "2022-05-15T12:11:48.194834Z",
     "iopub.status.idle": "2022-05-15T12:11:48.241680Z",
     "shell.execute_reply": "2022-05-15T12:11:48.240799Z",
     "shell.execute_reply.started": "2022-05-15T12:11:48.195142Z"
    },
    "jupyter": {
     "outputs_hidden": true
    }
   },
   "outputs": [],
   "source": [
    "n = len(pd.unique(df_sub_data['currency_rk'])) \n",
    "print(n)\n",
    "df_sub_data"
   ]
  },
  {
   "cell_type": "code",
   "execution_count": null,
   "metadata": {},
   "outputs": [],
   "source": []
  },
  {
   "cell_type": "code",
   "execution_count": null,
   "metadata": {},
   "outputs": [],
   "source": [
    "max_mon = np.zeros(4000)\n",
    "i = 0\n",
    "\n",
    "#df_sub_data\n",
    "\n",
    "for j in js:\n",
    "    \n",
    "    h1 = str(df_sub_data.user_id[j])\n",
    "    h2 = str(df_sub_data.user_id[j-1])\n",
    "    \n",
    "    if h1 == h2:\n",
    "        if df_sub_data.transaction_amt[j] > df_sub_data.transaction_amt[j-1]:\n",
    "            \n",
    "            #df = df.drop(index=[888])\n",
    "\n",
    "            df_sub_data.drop(index = [j-1])\n",
    "            #max_mon[i]\n",
    "        else:\n",
    "            df_sub_data.drop(index = [j])\n",
    "    else:\n",
    "        i+=1\n",
    "        "
   ]
  },
  {
   "cell_type": "code",
   "execution_count": null,
   "metadata": {},
   "outputs": [],
   "source": []
  },
  {
   "cell_type": "code",
   "execution_count": null,
   "metadata": {},
   "outputs": [],
   "source": [
    "print(mon)"
   ]
  },
  {
   "cell_type": "code",
   "execution_count": null,
   "metadata": {},
   "outputs": [],
   "source": [
    "he = float(df_sub_data.transaction_amt[j])\n",
    "type(he)"
   ]
  },
  {
   "cell_type": "code",
   "execution_count": null,
   "metadata": {},
   "outputs": [],
   "source": [
    " if df_sub_data.user_id[0] == sub_data.user_id[0]:\n",
    "        print(float(df_sub_data.transaction_amt[0]))"
   ]
  },
  {
   "cell_type": "code",
   "execution_count": null,
   "metadata": {
    "collapsed": true,
    "jupyter": {
     "outputs_hidden": true
    }
   },
   "outputs": [],
   "source": [
    "sub_data"
   ]
  },
  {
   "cell_type": "code",
   "execution_count": null,
   "metadata": {
    "collapsed": true,
    "jupyter": {
     "outputs_hidden": true
    }
   },
   "outputs": [],
   "source": [
    "df_sub_data = df_sub_data.reset_index()\n",
    "df_sub_data"
   ]
  },
  {
   "cell_type": "code",
   "execution_count": 52,
   "metadata": {
    "execution": {
     "iopub.execute_input": "2022-05-15T12:58:45.333374Z",
     "iopub.status.busy": "2022-05-15T12:58:45.333072Z",
     "iopub.status.idle": "2022-05-15T12:58:45.361675Z",
     "shell.execute_reply": "2022-05-15T12:58:45.360398Z",
     "shell.execute_reply.started": "2022-05-15T12:58:45.333341Z"
    }
   },
   "outputs": [],
   "source": [
    " #del #sub_data\n",
    "display(df_clik_h_edu_no)\n",
    "df_clik_h_edu_no.user_id\n",
    "#trans.rename(columns={})"
   ]
  },
  {
   "cell_type": "code",
   "execution_count": null,
   "metadata": {},
   "outputs": [],
   "source": []
  }
 ],
 "metadata": {
  "kernelspec": {
   "display_name": "Python 3 (ipykernel)",
   "language": "python",
   "name": "python3"
  },
  "language_info": {
   "codemirror_mode": {
    "name": "ipython",
    "version": 3
   },
   "file_extension": ".py",
   "mimetype": "text/x-python",
   "name": "python",
   "nbconvert_exporter": "python",
   "pygments_lexer": "ipython3",
   "version": "3.9.7"
  }
 },
 "nbformat": 4,
 "nbformat_minor": 4
}
