{
 "cells": [
  {
   "cell_type": "code",
   "execution_count": 2,
   "id": "e75e4d06",
   "metadata": {},
   "outputs": [],
   "source": [
    "import pandas as pd\n",
    "import numpy as np"
   ]
  },
  {
   "cell_type": "code",
   "execution_count": null,
   "id": "4b901fd7",
   "metadata": {},
   "outputs": [],
   "source": [
    "# загружаю  данные \n",
    "\n",
    "#traidisplay pd.read_csv('DATA_data_fusion_contest_2022/train.csv')\n",
    "#pd.read_csv(\"../input/vtbdatafusion2022/train.csv\")\n",
    "#print('train.csv - DONE!')\n",
    "\n",
    "\n",
    "#tra_val = pd.read_csv('DATA_data_fusion_contest_2022/train_matching.csv')\n",
    "#pd.read_csv('../input/vtbdatafusion2022/train_matching.csv')\n",
    "#print('train_matching.csv - DONE!')\n",
    "\n",
    "\n",
    "#click_data = pd.read_csv('DATA_data_fusion_contest_2022/clickstream.csv') #очень аккуратно надо выполнять!! \n",
    "#pd.read_csv('../input/vtbdatafusion2022/clickstream.csv')\n",
    "#print('clickstream.csv - DONE!')\n",
    "\n",
    "\n",
    "#trans = pd.read_csv('DATA_data_fusion_contest_2022/transactions.csv')\n",
    "#trans = pd.read_csv('../input/vtbdatafusion2022/transactions.csv')\n",
    "#print('transactions.csv - DONE!')\n",
    "\n",
    "\n",
    "#sub_data = pd.read_csv('DATA_data_fusion_contest_2022/sample_submission.csv')\n",
    "#sub_data = pd.read_csv('../input/vtbdatafusion2022/sample_submission.csv')\n",
    "#print('sample_submission.csv - DONE!')\n",
    "\n",
    "\n",
    "df_clik_h_edu_no = pd.read_csv('newdatadatafusion/df_clik_h_edu_no.csv')\n",
    "#df_clik_h_edu_no = pd.read_csv('../input/df2022-converted/df_clik_h_edu_no.csv')\n",
    "print('df_clik_h_edu_no - DONE!')\n",
    "\n",
    "\n",
    "df_clik_h_edu_only = pd.read_csv('newdatadatafusion/df_clik_h_edu_only.csv')\n",
    "#df_clik_h_edu_only = pd.read_csv('../input/df2022-converted/df_clik_h_edu_only.csv')\n",
    "print('df_clik_h_edu_only - DONE!')\n",
    "\n"
   ]
  },
  {
   "cell_type": "code",
   "execution_count": null,
   "id": "7cfa0721",
   "metadata": {},
   "outputs": [],
   "source": [
    "display(df_clik_h_edu_only)\n",
    "display(df_clik_h_edu_no)"
   ]
  },
  {
   "cell_type": "code",
   "execution_count": null,
   "id": "01fcb7af",
   "metadata": {},
   "outputs": [],
   "source": []
  }
 ],
 "metadata": {
  "kernelspec": {
   "display_name": "Python 3 (ipykernel)",
   "language": "python",
   "name": "python3"
  },
  "language_info": {
   "codemirror_mode": {
    "name": "ipython",
    "version": 3
   },
   "file_extension": ".py",
   "mimetype": "text/x-python",
   "name": "python",
   "nbconvert_exporter": "python",
   "pygments_lexer": "ipython3",
   "version": "3.9.7"
  }
 },
 "nbformat": 4,
 "nbformat_minor": 5
}
