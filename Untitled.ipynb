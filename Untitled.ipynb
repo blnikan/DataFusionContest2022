{
 "cells": [
  {
   "cell_type": "code",
   "execution_count": 1,
   "id": "f2500abe",
   "metadata": {},
   "outputs": [],
   "source": [
    "import numpy as np\n",
    "import pandas as pd"
   ]
  },
  {
   "cell_type": "code",
   "execution_count": 2,
   "id": "2b138b41",
   "metadata": {},
   "outputs": [],
   "source": [
    "train = pd.read_csv(\"train.csv\")\n",
    "tra_val = pd.read_csv('train_matching.csv')"
   ]
  },
  {
   "cell_type": "code",
   "execution_count": 8,
   "id": "0c52e855",
   "metadata": {},
   "outputs": [
    {
     "data": {
      "text/plain": [
       "(8509, 2)"
      ]
     },
     "execution_count": 8,
     "metadata": {},
     "output_type": "execute_result"
    }
   ],
   "source": [
    "train.shape"
   ]
  },
  {
   "cell_type": "code",
   "execution_count": 9,
   "id": "312fd0da",
   "metadata": {},
   "outputs": [
    {
     "data": {
      "text/html": [
       "<div>\n",
       "<style scoped>\n",
       "    .dataframe tbody tr th:only-of-type {\n",
       "        vertical-align: middle;\n",
       "    }\n",
       "\n",
       "    .dataframe tbody tr th {\n",
       "        vertical-align: top;\n",
       "    }\n",
       "\n",
       "    .dataframe thead th {\n",
       "        text-align: right;\n",
       "    }\n",
       "</style>\n",
       "<table border=\"1\" class=\"dataframe\">\n",
       "  <thead>\n",
       "    <tr style=\"text-align: right;\">\n",
       "      <th></th>\n",
       "      <th>bank</th>\n",
       "      <th>higher_education</th>\n",
       "    </tr>\n",
       "  </thead>\n",
       "  <tbody>\n",
       "    <tr>\n",
       "      <th>0</th>\n",
       "      <td>3755b59782464456bac1aec1a44e0db3</td>\n",
       "      <td>0.0</td>\n",
       "    </tr>\n",
       "    <tr>\n",
       "      <th>1</th>\n",
       "      <td>604a550439d644718ea6e1693fbf03dc</td>\n",
       "      <td>0.0</td>\n",
       "    </tr>\n",
       "    <tr>\n",
       "      <th>2</th>\n",
       "      <td>542d4776ebe5454fb8ab36f1c276fe0e</td>\n",
       "      <td>1.0</td>\n",
       "    </tr>\n",
       "    <tr>\n",
       "      <th>3</th>\n",
       "      <td>ee37fecea44d475ca030cde7ff7d545d</td>\n",
       "      <td>0.0</td>\n",
       "    </tr>\n",
       "    <tr>\n",
       "      <th>4</th>\n",
       "      <td>18617a1100f44a99b3a0772341fec3db</td>\n",
       "      <td>0.0</td>\n",
       "    </tr>\n",
       "  </tbody>\n",
       "</table>\n",
       "</div>"
      ],
      "text/plain": [
       "                               bank  higher_education\n",
       "0  3755b59782464456bac1aec1a44e0db3               0.0\n",
       "1  604a550439d644718ea6e1693fbf03dc               0.0\n",
       "2  542d4776ebe5454fb8ab36f1c276fe0e               1.0\n",
       "3  ee37fecea44d475ca030cde7ff7d545d               0.0\n",
       "4  18617a1100f44a99b3a0772341fec3db               0.0"
      ]
     },
     "execution_count": 9,
     "metadata": {},
     "output_type": "execute_result"
    }
   ],
   "source": [
    "train.head()"
   ]
  },
  {
   "cell_type": "code",
   "execution_count": 10,
   "id": "08d5d2d1",
   "metadata": {},
   "outputs": [
    {
     "data": {
      "text/plain": [
       "(17581, 2)"
      ]
     },
     "execution_count": 10,
     "metadata": {},
     "output_type": "execute_result"
    }
   ],
   "source": [
    "tra_val.shape"
   ]
  },
  {
   "cell_type": "code",
   "execution_count": 11,
   "id": "16ea88ca",
   "metadata": {
    "scrolled": true
   },
   "outputs": [
    {
     "data": {
      "text/html": [
       "<div>\n",
       "<style scoped>\n",
       "    .dataframe tbody tr th:only-of-type {\n",
       "        vertical-align: middle;\n",
       "    }\n",
       "\n",
       "    .dataframe tbody tr th {\n",
       "        vertical-align: top;\n",
       "    }\n",
       "\n",
       "    .dataframe thead th {\n",
       "        text-align: right;\n",
       "    }\n",
       "</style>\n",
       "<table border=\"1\" class=\"dataframe\">\n",
       "  <thead>\n",
       "    <tr style=\"text-align: right;\">\n",
       "      <th></th>\n",
       "      <th>bank</th>\n",
       "      <th>rtk</th>\n",
       "    </tr>\n",
       "  </thead>\n",
       "  <tbody>\n",
       "    <tr>\n",
       "      <th>0</th>\n",
       "      <td>178b387813ac4a63a2200274a9e3876e</td>\n",
       "      <td>e19c0f141e9442c5bdb0d5751f6fba1c</td>\n",
       "    </tr>\n",
       "    <tr>\n",
       "      <th>1</th>\n",
       "      <td>47cffa46e6b04389ba91a70735d2c3ff</td>\n",
       "      <td>7df3371aabd349e4ac2de8299238627d</td>\n",
       "    </tr>\n",
       "    <tr>\n",
       "      <th>2</th>\n",
       "      <td>f73b767cfd72472aa06df9a69e746aaf</td>\n",
       "      <td>b23d62c7e41145a7ad140a4fcfaafefa</td>\n",
       "    </tr>\n",
       "    <tr>\n",
       "      <th>3</th>\n",
       "      <td>48da649603734185b98dcea93484dbc7</td>\n",
       "      <td>63ad789541c54463ad54d0a707b3ab8b</td>\n",
       "    </tr>\n",
       "    <tr>\n",
       "      <th>4</th>\n",
       "      <td>37304ef19de542ee8fe8a6f050236525</td>\n",
       "      <td>c0e96de5dd594d948a8b9fde9e6980cb</td>\n",
       "    </tr>\n",
       "  </tbody>\n",
       "</table>\n",
       "</div>"
      ],
      "text/plain": [
       "                               bank                               rtk\n",
       "0  178b387813ac4a63a2200274a9e3876e  e19c0f141e9442c5bdb0d5751f6fba1c\n",
       "1  47cffa46e6b04389ba91a70735d2c3ff  7df3371aabd349e4ac2de8299238627d\n",
       "2  f73b767cfd72472aa06df9a69e746aaf  b23d62c7e41145a7ad140a4fcfaafefa\n",
       "3  48da649603734185b98dcea93484dbc7  63ad789541c54463ad54d0a707b3ab8b\n",
       "4  37304ef19de542ee8fe8a6f050236525  c0e96de5dd594d948a8b9fde9e6980cb"
      ]
     },
     "execution_count": 11,
     "metadata": {},
     "output_type": "execute_result"
    }
   ],
   "source": [
    "tra_val.head()"
   ]
  },
  {
   "cell_type": "code",
   "execution_count": 18,
   "id": "64c44197",
   "metadata": {},
   "outputs": [],
   "source": [
    "new_df = train.merge(tra_val) # а так тоже получилось 6354\n",
    "#  pd.merge(train.bank, tra_val.bank) #так получилось 6354"
   ]
  },
  {
   "cell_type": "code",
   "execution_count": 19,
   "id": "0244ad39",
   "metadata": {},
   "outputs": [
    {
     "data": {
      "text/html": [
       "<div>\n",
       "<style scoped>\n",
       "    .dataframe tbody tr th:only-of-type {\n",
       "        vertical-align: middle;\n",
       "    }\n",
       "\n",
       "    .dataframe tbody tr th {\n",
       "        vertical-align: top;\n",
       "    }\n",
       "\n",
       "    .dataframe thead th {\n",
       "        text-align: right;\n",
       "    }\n",
       "</style>\n",
       "<table border=\"1\" class=\"dataframe\">\n",
       "  <thead>\n",
       "    <tr style=\"text-align: right;\">\n",
       "      <th></th>\n",
       "      <th>bank</th>\n",
       "      <th>higher_education</th>\n",
       "      <th>rtk</th>\n",
       "    </tr>\n",
       "  </thead>\n",
       "  <tbody>\n",
       "    <tr>\n",
       "      <th>0</th>\n",
       "      <td>604a550439d644718ea6e1693fbf03dc</td>\n",
       "      <td>0.0</td>\n",
       "      <td>fece9b32c7d84acb836c3b1271cfdcc9</td>\n",
       "    </tr>\n",
       "    <tr>\n",
       "      <th>1</th>\n",
       "      <td>542d4776ebe5454fb8ab36f1c276fe0e</td>\n",
       "      <td>1.0</td>\n",
       "      <td>38ac442698524d178f6ca361e0c603bb</td>\n",
       "    </tr>\n",
       "    <tr>\n",
       "      <th>2</th>\n",
       "      <td>ee37fecea44d475ca030cde7ff7d545d</td>\n",
       "      <td>0.0</td>\n",
       "      <td>839669a7588b42ee9e01a9f200e5f638</td>\n",
       "    </tr>\n",
       "    <tr>\n",
       "      <th>3</th>\n",
       "      <td>079f07153c0149d19f54646618452929</td>\n",
       "      <td>0.0</td>\n",
       "      <td>f9d8f9f57453493186964049c43da914</td>\n",
       "    </tr>\n",
       "    <tr>\n",
       "      <th>4</th>\n",
       "      <td>6dee55b3d7284d18bed3094ee3103812</td>\n",
       "      <td>1.0</td>\n",
       "      <td>6d6b702132d94a8692cba48f4e28e7b2</td>\n",
       "    </tr>\n",
       "    <tr>\n",
       "      <th>...</th>\n",
       "      <td>...</td>\n",
       "      <td>...</td>\n",
       "      <td>...</td>\n",
       "    </tr>\n",
       "    <tr>\n",
       "      <th>6349</th>\n",
       "      <td>8564a4f0b06d44db882a8b0c2e956344</td>\n",
       "      <td>1.0</td>\n",
       "      <td>0b76cdb34090489282c7d53489c17b98</td>\n",
       "    </tr>\n",
       "    <tr>\n",
       "      <th>6350</th>\n",
       "      <td>9ff4ccff76464408822d7dfc6bdef07c</td>\n",
       "      <td>1.0</td>\n",
       "      <td>a595c7d182a94b57a12e4e65a9a6f5f7</td>\n",
       "    </tr>\n",
       "    <tr>\n",
       "      <th>6351</th>\n",
       "      <td>352334d727214979b33ab6bd108fd8cc</td>\n",
       "      <td>1.0</td>\n",
       "      <td>541f2b8bc392429f924fdd6259875b78</td>\n",
       "    </tr>\n",
       "    <tr>\n",
       "      <th>6352</th>\n",
       "      <td>a00707e26c6447d689d1a85e9cb26121</td>\n",
       "      <td>1.0</td>\n",
       "      <td>81d7af0f94ab452abc6efc38aa20d994</td>\n",
       "    </tr>\n",
       "    <tr>\n",
       "      <th>6353</th>\n",
       "      <td>67d608d085d6489197cfc4b6e61a7842</td>\n",
       "      <td>1.0</td>\n",
       "      <td>a6a74071c02d49719a7411c3dd5ccc13</td>\n",
       "    </tr>\n",
       "  </tbody>\n",
       "</table>\n",
       "<p>6354 rows × 3 columns</p>\n",
       "</div>"
      ],
      "text/plain": [
       "                                  bank  higher_education  \\\n",
       "0     604a550439d644718ea6e1693fbf03dc               0.0   \n",
       "1     542d4776ebe5454fb8ab36f1c276fe0e               1.0   \n",
       "2     ee37fecea44d475ca030cde7ff7d545d               0.0   \n",
       "3     079f07153c0149d19f54646618452929               0.0   \n",
       "4     6dee55b3d7284d18bed3094ee3103812               1.0   \n",
       "...                                ...               ...   \n",
       "6349  8564a4f0b06d44db882a8b0c2e956344               1.0   \n",
       "6350  9ff4ccff76464408822d7dfc6bdef07c               1.0   \n",
       "6351  352334d727214979b33ab6bd108fd8cc               1.0   \n",
       "6352  a00707e26c6447d689d1a85e9cb26121               1.0   \n",
       "6353  67d608d085d6489197cfc4b6e61a7842               1.0   \n",
       "\n",
       "                                   rtk  \n",
       "0     fece9b32c7d84acb836c3b1271cfdcc9  \n",
       "1     38ac442698524d178f6ca361e0c603bb  \n",
       "2     839669a7588b42ee9e01a9f200e5f638  \n",
       "3     f9d8f9f57453493186964049c43da914  \n",
       "4     6d6b702132d94a8692cba48f4e28e7b2  \n",
       "...                                ...  \n",
       "6349  0b76cdb34090489282c7d53489c17b98  \n",
       "6350  a595c7d182a94b57a12e4e65a9a6f5f7  \n",
       "6351  541f2b8bc392429f924fdd6259875b78  \n",
       "6352  81d7af0f94ab452abc6efc38aa20d994  \n",
       "6353  a6a74071c02d49719a7411c3dd5ccc13  \n",
       "\n",
       "[6354 rows x 3 columns]"
      ]
     },
     "execution_count": 19,
     "metadata": {},
     "output_type": "execute_result"
    }
   ],
   "source": [
    "new_df\n",
    "#таким образом мы делаем вывод что людей у которых мы знаем сразу несколько параметров = 6354"
   ]
  },
  {
   "cell_type": "code",
   "execution_count": 20,
   "id": "2c501b36",
   "metadata": {},
   "outputs": [],
   "source": [
    "trans = pd.read_csv('transactions.csv')"
   ]
  },
  {
   "cell_type": "code",
   "execution_count": 49,
   "id": "851b7318",
   "metadata": {},
   "outputs": [
    {
     "data": {
      "text/html": [
       "<div>\n",
       "<style scoped>\n",
       "    .dataframe tbody tr th:only-of-type {\n",
       "        vertical-align: middle;\n",
       "    }\n",
       "\n",
       "    .dataframe tbody tr th {\n",
       "        vertical-align: top;\n",
       "    }\n",
       "\n",
       "    .dataframe thead th {\n",
       "        text-align: right;\n",
       "    }\n",
       "</style>\n",
       "<table border=\"1\" class=\"dataframe\">\n",
       "  <thead>\n",
       "    <tr style=\"text-align: right;\">\n",
       "      <th></th>\n",
       "      <th>user_id</th>\n",
       "      <th>mcc_code</th>\n",
       "      <th>currency_rk</th>\n",
       "      <th>transaction_amt</th>\n",
       "      <th>transaction_dttm</th>\n",
       "    </tr>\n",
       "  </thead>\n",
       "  <tbody>\n",
       "    <tr>\n",
       "      <th>0</th>\n",
       "      <td>000932580e404dafbecd5916d4640938</td>\n",
       "      <td>5411</td>\n",
       "      <td>48</td>\n",
       "      <td>-361.07230</td>\n",
       "      <td>2020-08-03 08:05:23</td>\n",
       "    </tr>\n",
       "    <tr>\n",
       "      <th>1</th>\n",
       "      <td>000932580e404dafbecd5916d4640938</td>\n",
       "      <td>5499</td>\n",
       "      <td>48</td>\n",
       "      <td>-137.31398</td>\n",
       "      <td>2020-08-05 01:27:40</td>\n",
       "    </tr>\n",
       "    <tr>\n",
       "      <th>2</th>\n",
       "      <td>000932580e404dafbecd5916d4640938</td>\n",
       "      <td>5499</td>\n",
       "      <td>48</td>\n",
       "      <td>-138.84981</td>\n",
       "      <td>2020-08-05 03:28:11</td>\n",
       "    </tr>\n",
       "    <tr>\n",
       "      <th>3</th>\n",
       "      <td>000932580e404dafbecd5916d4640938</td>\n",
       "      <td>4829</td>\n",
       "      <td>48</td>\n",
       "      <td>-309.47653</td>\n",
       "      <td>2020-08-06 00:36:29</td>\n",
       "    </tr>\n",
       "    <tr>\n",
       "      <th>4</th>\n",
       "      <td>000932580e404dafbecd5916d4640938</td>\n",
       "      <td>5411</td>\n",
       "      <td>48</td>\n",
       "      <td>-133.47370</td>\n",
       "      <td>2020-08-09 00:30:13</td>\n",
       "    </tr>\n",
       "  </tbody>\n",
       "</table>\n",
       "</div>"
      ],
      "text/plain": [
       "                            user_id  mcc_code  currency_rk  transaction_amt  \\\n",
       "0  000932580e404dafbecd5916d4640938      5411           48       -361.07230   \n",
       "1  000932580e404dafbecd5916d4640938      5499           48       -137.31398   \n",
       "2  000932580e404dafbecd5916d4640938      5499           48       -138.84981   \n",
       "3  000932580e404dafbecd5916d4640938      4829           48       -309.47653   \n",
       "4  000932580e404dafbecd5916d4640938      5411           48       -133.47370   \n",
       "\n",
       "      transaction_dttm  \n",
       "0  2020-08-03 08:05:23  \n",
       "1  2020-08-05 01:27:40  \n",
       "2  2020-08-05 03:28:11  \n",
       "3  2020-08-06 00:36:29  \n",
       "4  2020-08-09 00:30:13  "
      ]
     },
     "execution_count": 49,
     "metadata": {},
     "output_type": "execute_result"
    }
   ],
   "source": [
    "trans.head()"
   ]
  },
  {
   "cell_type": "code",
   "execution_count": 21,
   "id": "879ef020",
   "metadata": {},
   "outputs": [
    {
     "data": {
      "text/plain": [
       "(19821910, 5)"
      ]
     },
     "execution_count": 21,
     "metadata": {},
     "output_type": "execute_result"
    }
   ],
   "source": [
    "trans.shape"
   ]
  },
  {
   "cell_type": "code",
   "execution_count": null,
   "id": "8af3f42f",
   "metadata": {},
   "outputs": [],
   "source": [
    "trans = trans.rename(columns={''})"
   ]
  }
 ],
 "metadata": {
  "kernelspec": {
   "display_name": "Python 3 (ipykernel)",
   "language": "python",
   "name": "python3"
  },
  "language_info": {
   "codemirror_mode": {
    "name": "ipython",
    "version": 3
   },
   "file_extension": ".py",
   "mimetype": "text/x-python",
   "name": "python",
   "nbconvert_exporter": "python",
   "pygments_lexer": "ipython3",
   "version": "3.9.7"
  }
 },
 "nbformat": 4,
 "nbformat_minor": 5
}
