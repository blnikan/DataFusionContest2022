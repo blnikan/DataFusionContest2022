{
 "cells": [
  {
   "cell_type": "code",
   "execution_count": 1,
   "metadata": {
    "execution": {
     "iopub.execute_input": "2022-05-15T14:44:22.334697Z",
     "iopub.status.busy": "2022-05-15T14:44:22.334327Z",
     "iopub.status.idle": "2022-05-15T14:44:22.359857Z",
     "shell.execute_reply": "2022-05-15T14:44:22.359163Z",
     "shell.execute_reply.started": "2022-05-15T14:44:22.334594Z"
    }
   },
   "outputs": [],
   "source": [
    "import numpy as np\n",
    "import pandas as pd"
   ]
  },
  {
   "cell_type": "markdown",
   "metadata": {},
   "source": [
    "######  Загружаю данные"
   ]
  },
  {
   "cell_type": "code",
   "execution_count": 23,
   "metadata": {
    "execution": {
     "iopub.execute_input": "2022-05-15T14:56:32.210044Z",
     "iopub.status.busy": "2022-05-15T14:56:32.209335Z",
     "iopub.status.idle": "2022-05-15T14:56:32.240329Z",
     "shell.execute_reply": "2022-05-15T14:56:32.239658Z",
     "shell.execute_reply.started": "2022-05-15T14:56:32.210009Z"
    }
   },
   "outputs": [],
   "source": [
    "# загружаю  данные \n",
    "\n",
    "#train =  pd.read_csv('DATA_data_fusion_contest_2022/train.csv')\n",
    "#train = pd.read_csv(\"../input/vtbdatafusion2022/train.csv\")\n",
    "print('train.csv - DONE!')\n",
    "\n",
    "\n",
    "#tra_val = pd.read_csv('DATA_data_fusion_contest_2022/train_matching.csv')\n",
    "#tra_val = pd.read_csv('../input/vtbdatafusion2022/train_matching.csv')\n",
    "print('train_matching.csv - DONE!')\n",
    "\n",
    "\n",
    "#click_data = pd.read_csv('DATA_data_fusion_contest_2022/clickstream.csv') #очень аккуратно надо выполнять!! \n",
    "#pd.read_csv('../input/vtbdatafusion2022/clickstream.csv')\n",
    "#print('clickstream.csv - DONE!')\n",
    "\n",
    "\n",
    "#trans = pd.read_csv('DATA_data_fusion_contest_2022/transactions.csv')\n",
    "#trans = pd.read_csv('../input/vtbdatafusion2022/transactions.csv')\n",
    "print('transactions.csv - DONE!')\n",
    "\n",
    "\n",
    "#sub_data = pd.read_csv('DATA_data_fusion_contest_2022/sample_submission.csv')\n",
    "sub_data = pd.read_csv('../input/vtbdatafusion2022/sample_submission.csv')\n",
    "print('sample_submission.csv - DONE!')\n",
    "\n",
    "\n",
    "#df_clik_h_edu_no = pd.read_csv('newdatadatafusion/df_clik_h_edu_no2.csv')\n",
    "#df_clik_h_edu_no = pd.read_csv('../input/df2022-converted/df_clik_h_edu_no2.csv')\n",
    "#print('df_clik_h_edu_no - DONE!')\n",
    "\n",
    "\n",
    "#df_clik_h_edu_only = pd.read_csv('newdatadatafusion/df_clik_h_edu_only2.csv')\n",
    "#df_clik_h_edu_only = pd.read_csv('../input/df2022-converted/df_clik_h_edu_only2.csv')\n",
    "#print('df_clik_h_edu_only - DONE!')\n"
   ]
  },
  {
   "cell_type": "markdown",
   "metadata": {},
   "source": [
    "######  разделяю на 2 разные таблицы с выщкой и без неё\n"
   ]
  },
  {
   "cell_type": "code",
   "execution_count": 8,
   "metadata": {
    "execution": {
     "iopub.execute_input": "2022-05-15T14:46:52.582579Z",
     "iopub.status.busy": "2022-05-15T14:46:52.582086Z",
     "iopub.status.idle": "2022-05-15T14:46:52.606536Z",
     "shell.execute_reply": "2022-05-15T14:46:52.605903Z",
     "shell.execute_reply.started": "2022-05-15T14:46:52.582540Z"
    }
   },
   "outputs": [],
   "source": [
    "display(train,tra_val)"
   ]
  },
  {
   "cell_type": "code",
   "execution_count": 9,
   "metadata": {
    "execution": {
     "iopub.execute_input": "2022-05-15T14:46:56.930314Z",
     "iopub.status.busy": "2022-05-15T14:46:56.929970Z",
     "iopub.status.idle": "2022-05-15T14:46:56.938031Z",
     "shell.execute_reply": "2022-05-15T14:46:56.937084Z",
     "shell.execute_reply.started": "2022-05-15T14:46:56.930233Z"
    }
   },
   "outputs": [],
   "source": [
    "train_h_edu_only = train[train.higher_education==1]\n",
    "#train_h_edu_only.head\n",
    "\n",
    "train_h_edu_no = train[train.higher_education==0]\n",
    "#train_h_edu_no.head"
   ]
  },
  {
   "cell_type": "markdown",
   "metadata": {},
   "source": [
    "###### вышенайденным людям нахожу их rkt -> после надо взять самый большой файл и скрестить их. а так же переименую чтобы потом скрестить таблицы"
   ]
  },
  {
   "cell_type": "code",
   "execution_count": 10,
   "metadata": {
    "execution": {
     "iopub.execute_input": "2022-05-15T14:47:03.833513Z",
     "iopub.status.busy": "2022-05-15T14:47:03.833040Z",
     "iopub.status.idle": "2022-05-15T14:47:03.864388Z",
     "shell.execute_reply": "2022-05-15T14:47:03.863352Z",
     "shell.execute_reply.started": "2022-05-15T14:47:03.833473Z"
    }
   },
   "outputs": [],
   "source": [
    "df_h_edu_only = train_h_edu_only.merge(tra_val)\n",
    "df_h_edu_no = train_h_edu_no.merge(tra_val)\n",
    "\n",
    "\n",
    "#df_h_edu_no.rename(columns = {'rtk' : 'user_id'}, inplace = True)\n",
    "#df_h_edu_only.rename(columns = {'rtk' : 'user_id'}, inplace = True)"
   ]
  },
  {
   "cell_type": "code",
   "execution_count": 173,
   "metadata": {
    "execution": {
     "iopub.execute_input": "2022-05-15T18:08:04.354321Z",
     "iopub.status.busy": "2022-05-15T18:08:04.353883Z",
     "iopub.status.idle": "2022-05-15T18:08:04.384297Z",
     "shell.execute_reply": "2022-05-15T18:08:04.383449Z",
     "shell.execute_reply.started": "2022-05-15T18:08:04.354288Z"
    }
   },
   "outputs": [],
   "source": [
    "\n",
    "df_H_edu_all"
   ]
  },
  {
   "cell_type": "code",
   "execution_count": 59,
   "metadata": {
    "execution": {
     "iopub.execute_input": "2022-05-15T15:37:53.061242Z",
     "iopub.status.busy": "2022-05-15T15:37:53.060926Z",
     "iopub.status.idle": "2022-05-15T15:37:53.076087Z",
     "shell.execute_reply": "2022-05-15T15:37:53.075020Z",
     "shell.execute_reply.started": "2022-05-15T15:37:53.061209Z"
    }
   },
   "outputs": [],
   "source": [
    "train_h_edu_no"
   ]
  },
  {
   "cell_type": "code",
   "execution_count": 11,
   "metadata": {
    "execution": {
     "iopub.execute_input": "2022-05-15T14:47:29.125903Z",
     "iopub.status.busy": "2022-05-15T14:47:29.125564Z",
     "iopub.status.idle": "2022-05-15T14:47:29.152582Z",
     "shell.execute_reply": "2022-05-15T14:47:29.151660Z",
     "shell.execute_reply.started": "2022-05-15T14:47:29.125864Z"
    }
   },
   "outputs": [],
   "source": [
    "display(df_h_edu_only,\n",
    "df_h_edu_no)"
   ]
  },
  {
   "cell_type": "code",
   "execution_count": 16,
   "metadata": {
    "execution": {
     "iopub.execute_input": "2022-05-15T14:51:22.902735Z",
     "iopub.status.busy": "2022-05-15T14:51:22.902421Z",
     "iopub.status.idle": "2022-05-15T14:51:22.924960Z",
     "shell.execute_reply": "2022-05-15T14:51:22.922379Z",
     "shell.execute_reply.started": "2022-05-15T14:51:22.902685Z"
    }
   },
   "outputs": [],
   "source": [
    "trans.rename(columns = {'user_id': 'bank'}, inplace = True)\n",
    "trans"
   ]
  },
  {
   "cell_type": "code",
   "execution_count": 21,
   "metadata": {
    "execution": {
     "iopub.execute_input": "2022-05-15T14:54:45.835016Z",
     "iopub.status.busy": "2022-05-15T14:54:45.834325Z",
     "iopub.status.idle": "2022-05-15T14:54:45.839504Z",
     "shell.execute_reply": "2022-05-15T14:54:45.838946Z",
     "shell.execute_reply.started": "2022-05-15T14:54:45.834979Z"
    }
   },
   "outputs": [],
   "source": [
    "#df_tran_edu_no = df_h_edu_no.merge(trans)\n",
    "df_tran_edu_no.shape[0]"
   ]
  },
  {
   "cell_type": "code",
   "execution_count": 20,
   "metadata": {
    "execution": {
     "iopub.execute_input": "2022-05-15T14:54:28.504186Z",
     "iopub.status.busy": "2022-05-15T14:54:28.503880Z",
     "iopub.status.idle": "2022-05-15T14:54:28.509993Z",
     "shell.execute_reply": "2022-05-15T14:54:28.509231Z",
     "shell.execute_reply.started": "2022-05-15T14:54:28.504154Z"
    }
   },
   "outputs": [],
   "source": [
    "#df_tran_edu_only = df_h_edu_only.merge(trans)\n",
    "df_tran_edu_only.shape[0]"
   ]
  },
  {
   "cell_type": "code",
   "execution_count": 174,
   "metadata": {
    "execution": {
     "iopub.execute_input": "2022-05-15T18:09:38.894336Z",
     "iopub.status.busy": "2022-05-15T18:09:38.893199Z",
     "iopub.status.idle": "2022-05-15T18:09:49.921991Z",
     "shell.execute_reply": "2022-05-15T18:09:49.921029Z",
     "shell.execute_reply.started": "2022-05-15T18:09:38.894192Z"
    }
   },
   "outputs": [],
   "source": [
    "df_tran_H_edu_all = df_H_edu_all.merge(trans)"
   ]
  },
  {
   "cell_type": "code",
   "execution_count": 175,
   "metadata": {
    "execution": {
     "iopub.execute_input": "2022-05-15T18:10:06.632934Z",
     "iopub.status.busy": "2022-05-15T18:10:06.632442Z",
     "iopub.status.idle": "2022-05-15T18:10:06.653204Z",
     "shell.execute_reply": "2022-05-15T18:10:06.652300Z",
     "shell.execute_reply.started": "2022-05-15T18:10:06.632889Z"
    }
   },
   "outputs": [],
   "source": []
  },
  {
   "cell_type": "code",
   "execution_count": 65,
   "metadata": {
    "execution": {
     "iopub.execute_input": "2022-05-15T15:42:59.637419Z",
     "iopub.status.busy": "2022-05-15T15:42:59.636596Z",
     "iopub.status.idle": "2022-05-15T15:42:59.659956Z",
     "shell.execute_reply": "2022-05-15T15:42:59.658761Z",
     "shell.execute_reply.started": "2022-05-15T15:42:59.637370Z"
    }
   },
   "outputs": [],
   "source": [
    "df_tran_edu_only"
   ]
  },
  {
   "cell_type": "markdown",
   "metadata": {},
   "source": [
    "######  опять скрещиваю таблицы "
   ]
  },
  {
   "cell_type": "code",
   "execution_count": null,
   "metadata": {},
   "outputs": [],
   "source": [
    "#таблички идут на свидание\n",
    "df_clik_h_edu_no = click_data.merge(df_h_edu_no)\n",
    "\n",
    "df_clik_h_edu_only = click_data.merge(df_h_edu_only)"
   ]
  },
  {
   "cell_type": "markdown",
   "metadata": {},
   "source": [
    "###### а так же сохраню в в отдельный файл"
   ]
  },
  {
   "cell_type": "code",
   "execution_count": null,
   "metadata": {},
   "outputs": [],
   "source": [
    "#df_clik_h_edu_no.to_csv('df_clik_h_edu_no.csv', sep='\\t', encoding='utf-8')\n",
    "#df_clik_h_edu_only.to_csv('df_clik_h_edu_only.csv', sep='\\t', encoding='utf-8')\n",
    "#к имени надо добавлять .csv"
   ]
  },
  {
   "cell_type": "code",
   "execution_count": null,
   "metadata": {},
   "outputs": [],
   "source": [
    "#посмотрю размер\n",
    "print(df_clik_h_edu_no.shape , df_clik_h_edu_only.shape)"
   ]
  },
  {
   "cell_type": "code",
   "execution_count": null,
   "metadata": {
    "collapsed": true,
    "jupyter": {
     "outputs_hidden": true
    }
   },
   "outputs": [],
   "source": [
    "#переименовать графу времени!\n",
    "#trans.rename (columns = {'transaction_dttm': 'timestamp'}, inplace = True)\n",
    "#display(trans)"
   ]
  },
  {
   "cell_type": "code",
   "execution_count": null,
   "metadata": {},
   "outputs": [],
   "source": [
    "df_all_h_edu_no = trans.merge(df_clik_h_edu_no)\n",
    "#df_all_h_edu_no # тут пока что лажа. чуть позже еще подумаю\n",
    "# все фигня. по дате нет совпадений."
   ]
  },
  {
   "cell_type": "code",
   "execution_count": null,
   "metadata": {},
   "outputs": [],
   "source": []
  },
  {
   "cell_type": "markdown",
   "metadata": {},
   "source": [
    "#  работа с данными которые надо предсказать\n"
   ]
  },
  {
   "cell_type": "code",
   "execution_count": 28,
   "metadata": {
    "execution": {
     "iopub.execute_input": "2022-05-15T14:57:56.519801Z",
     "iopub.status.busy": "2022-05-15T14:57:56.518902Z",
     "iopub.status.idle": "2022-05-15T14:57:56.533137Z",
     "shell.execute_reply": "2022-05-15T14:57:56.532242Z",
     "shell.execute_reply.started": "2022-05-15T14:57:56.519735Z"
    }
   },
   "outputs": [],
   "source": [
    "sub_data.rename(columns={'user_id':'bank'}, inplace = True)\n",
    "sub_data"
   ]
  },
  {
   "cell_type": "code",
   "execution_count": null,
   "metadata": {},
   "outputs": [],
   "source": [
    "# таким образом я узнал, что можно обращаться по индексам\n",
    "#sub_data.bank[0]"
   ]
  },
  {
   "cell_type": "code",
   "execution_count": null,
   "metadata": {},
   "outputs": [],
   "source": [
    "#my_df[\"range\"].isin([45]).any()\n",
    "#trans.user_id.isin([sub_data.bank[0]]).any()"
   ]
  },
  {
   "cell_type": "code",
   "execution_count": null,
   "metadata": {},
   "outputs": [],
   "source": [
    "# появиль новые интересные факты...\n",
    "#щя будем смотреть"
   ]
  },
  {
   "cell_type": "code",
   "execution_count": 47,
   "metadata": {
    "execution": {
     "iopub.execute_input": "2022-05-15T15:08:01.541192Z",
     "iopub.status.busy": "2022-05-15T15:08:01.540729Z",
     "iopub.status.idle": "2022-05-15T15:08:05.675216Z",
     "shell.execute_reply": "2022-05-15T15:08:05.674360Z",
     "shell.execute_reply.started": "2022-05-15T15:08:01.541160Z"
    }
   },
   "outputs": [],
   "source": [
    "df_sub_data = sub_data.merge(trans)\n",
    "df_sub_data\n"
   ]
  },
  {
   "cell_type": "code",
   "execution_count": 48,
   "metadata": {
    "collapsed": true,
    "execution": {
     "iopub.execute_input": "2022-05-15T15:08:17.212863Z",
     "iopub.status.busy": "2022-05-15T15:08:17.212565Z",
     "iopub.status.idle": "2022-05-15T15:08:17.780760Z",
     "shell.execute_reply": "2022-05-15T15:08:17.779757Z",
     "shell.execute_reply.started": "2022-05-15T15:08:17.212832Z"
    },
    "jupyter": {
     "outputs_hidden": true
    }
   },
   "outputs": [],
   "source": [
    "# убрал mcc = -1 т.к. такого кода нет\n",
    "df_sub_data = df_sub_data.loc[df_sub_data['mcc_code'] != -1]\n",
    "df_sub_data"
   ]
  },
  {
   "cell_type": "code",
   "execution_count": 49,
   "metadata": {
    "execution": {
     "iopub.execute_input": "2022-05-15T15:08:32.277295Z",
     "iopub.status.busy": "2022-05-15T15:08:32.276995Z",
     "iopub.status.idle": "2022-05-15T15:08:32.958583Z",
     "shell.execute_reply": "2022-05-15T15:08:32.957654Z",
     "shell.execute_reply.started": "2022-05-15T15:08:32.277264Z"
    }
   },
   "outputs": [],
   "source": [
    "df_sub_data = df_sub_data.reset_index()\n",
    "js = np.array(df_sub_data.index)\n",
    "js = js[1:]\n",
    "js = max(js)\n",
    "js"
   ]
  },
  {
   "cell_type": "code",
   "execution_count": 53,
   "metadata": {
    "collapsed": true,
    "execution": {
     "iopub.execute_input": "2022-05-15T15:09:17.803071Z",
     "iopub.status.busy": "2022-05-15T15:09:17.802804Z",
     "iopub.status.idle": "2022-05-15T15:09:17.823879Z",
     "shell.execute_reply": "2022-05-15T15:09:17.823100Z",
     "shell.execute_reply.started": "2022-05-15T15:09:17.803043Z"
    },
    "jupyter": {
     "outputs_hidden": true
    }
   },
   "outputs": [],
   "source": [
    "df_sub_data.rename(columns={'bank':'user_id'}, inplace = True)\n",
    "#df_sub_data.pop('index')\n",
    "df_sub_data"
   ]
  },
  {
   "cell_type": "markdown",
   "metadata": {},
   "source": [
    "### без учета валюты "
   ]
  },
  {
   "cell_type": "code",
   "execution_count": 55,
   "metadata": {
    "collapsed": true,
    "execution": {
     "iopub.execute_input": "2022-05-15T15:10:02.136435Z",
     "iopub.status.busy": "2022-05-15T15:10:02.136114Z",
     "iopub.status.idle": "2022-05-15T15:12:27.969830Z",
     "shell.execute_reply": "2022-05-15T15:12:27.968810Z",
     "shell.execute_reply.started": "2022-05-15T15:10:02.136401Z"
    },
    "jupyter": {
     "outputs_hidden": true
    }
   },
   "outputs": [],
   "source": [
    "mon = np.zeros( len(pd.unique(df_sub_data['user_id'])) )\n",
    "col_VO = np.zeros( len(pd.unique(df_sub_data['user_id'])) )\n",
    "i = 0\n",
    "j = 0\n",
    "#cou = 0\n",
    "#df_sub_data.reset_index()\n",
    "#js = np.array(df_sub_data.index)\n",
    "#js = js[1:]\n",
    "\n",
    "mon[i] += float(df_sub_data.transaction_amt[j]) \n",
    "# Н учесть первый эл-т тк далее я добав сразу j+1\n",
    "\n",
    "for j in  range (js-1):\n",
    "    #print(j)\n",
    "    if j/(js//100) == int(j/(js//100)):\n",
    "        print(j/(js//100),'%')\n",
    "        \n",
    "    \n",
    "    h1 = str( df_sub_data.user_id[j] )\n",
    "    #print(h1)\n",
    "    h2 = str( df_sub_data.user_id[j + 1] )\n",
    "    #print(h2)\n",
    "    \n",
    "    if h1 == h2: #проверяю нынешний и след\n",
    "        #cou += 1\n",
    "        \n",
    "        m2 = float(df_sub_data.transaction_amt[j+1])\n",
    "        \n",
    "        col_VO[i] += 1\n",
    "        mon[i] += m2\n",
    "    else:\n",
    "        \n",
    "        # типо до этого я плюсовал только j+1 так что каджый раз проспускал первый эл-т\n",
    "        mon [i+1] += float(df_sub_data.transaction_amt[j+1]) \n",
    "        \n",
    "        i += 1\n",
    "print('mon\\n',mon)\n",
    "print('col-VO\\n',col_VO)\n",
    "cr_tran = mon[:]/col_VO[:]\n",
    "print('cr_tran')\n",
    "print(cr_tran)\n"
   ]
  },
  {
   "cell_type": "code",
   "execution_count": 56,
   "metadata": {
    "execution": {
     "iopub.execute_input": "2022-05-15T15:30:15.994105Z",
     "iopub.status.busy": "2022-05-15T15:30:15.993806Z",
     "iopub.status.idle": "2022-05-15T15:30:16.008203Z",
     "shell.execute_reply": "2022-05-15T15:30:16.007356Z",
     "shell.execute_reply.started": "2022-05-15T15:30:15.994073Z"
    }
   },
   "outputs": [],
   "source": [
    "sub_data"
   ]
  },
  {
   "cell_type": "code",
   "execution_count": 57,
   "metadata": {
    "execution": {
     "iopub.execute_input": "2022-05-15T15:31:46.006609Z",
     "iopub.status.busy": "2022-05-15T15:31:46.006302Z",
     "iopub.status.idle": "2022-05-15T15:31:46.029256Z",
     "shell.execute_reply": "2022-05-15T15:31:46.028321Z",
     "shell.execute_reply.started": "2022-05-15T15:31:46.006579Z"
    }
   },
   "outputs": [],
   "source": [
    "#добавлю новые столб and save file\n",
    "sub_data['all_mon'] = mon\n",
    "sub_data['col_VO_tran'] = col_VO\n",
    "sub_data['cr_tran'] = cr_tran\n",
    "sub_data\n",
    "\n",
    "#sub_data.to_csv('./sub_data_new.csv', index = False)#, sep='\\t', encoding='utf-8')"
   ]
  },
  {
   "cell_type": "markdown",
   "metadata": {},
   "source": [
    "#####  таким образом в sub_data у нас общая сумма трат, кол-во трат и ср. сумма трат\n"
   ]
  },
  {
   "cell_type": "code",
   "execution_count": null,
   "metadata": {
    "collapsed": true,
    "execution": {
     "iopub.execute_input": "2022-05-15T12:11:48.195181Z",
     "iopub.status.busy": "2022-05-15T12:11:48.194834Z",
     "iopub.status.idle": "2022-05-15T12:11:48.241680Z",
     "shell.execute_reply": "2022-05-15T12:11:48.240799Z",
     "shell.execute_reply.started": "2022-05-15T12:11:48.195142Z"
    },
    "jupyter": {
     "outputs_hidden": true
    }
   },
   "outputs": [],
   "source": [
    "n = len(pd.unique(df_sub_data['currency_rk'])) \n",
    "print(n)\n",
    "df_sub_data"
   ]
  },
  {
   "cell_type": "code",
   "execution_count": 58,
   "metadata": {
    "execution": {
     "iopub.execute_input": "2022-05-15T15:34:57.768439Z",
     "iopub.status.busy": "2022-05-15T15:34:57.767753Z",
     "iopub.status.idle": "2022-05-15T15:34:57.787418Z",
     "shell.execute_reply": "2022-05-15T15:34:57.786475Z",
     "shell.execute_reply.started": "2022-05-15T15:34:57.768399Z"
    }
   },
   "outputs": [],
   "source": [
    "df_tran_edu_no"
   ]
  },
  {
   "cell_type": "code",
   "execution_count": null,
   "metadata": {},
   "outputs": [],
   "source": []
  },
  {
   "cell_type": "code",
   "execution_count": null,
   "metadata": {},
   "outputs": [],
   "source": [
    "print(mon)"
   ]
  },
  {
   "cell_type": "code",
   "execution_count": null,
   "metadata": {},
   "outputs": [],
   "source": [
    "he = float(df_sub_data.transaction_amt[j])\n",
    "type(he)"
   ]
  },
  {
   "cell_type": "code",
   "execution_count": null,
   "metadata": {},
   "outputs": [],
   "source": [
    " if df_sub_data.user_id[0] == sub_data.user_id[0]:\n",
    "        print(float(df_sub_data.transaction_amt[0]))"
   ]
  },
  {
   "cell_type": "code",
   "execution_count": null,
   "metadata": {
    "collapsed": true,
    "jupyter": {
     "outputs_hidden": true
    }
   },
   "outputs": [],
   "source": [
    "sub_data"
   ]
  },
  {
   "cell_type": "code",
   "execution_count": null,
   "metadata": {
    "collapsed": true,
    "jupyter": {
     "outputs_hidden": true
    }
   },
   "outputs": [],
   "source": [
    "df_sub_data = df_sub_data.reset_index()\n",
    "df_sub_data"
   ]
  },
  {
   "cell_type": "code",
   "execution_count": null,
   "metadata": {
    "execution": {
     "iopub.execute_input": "2022-05-15T12:58:45.333374Z",
     "iopub.status.busy": "2022-05-15T12:58:45.333072Z",
     "iopub.status.idle": "2022-05-15T12:58:45.361675Z",
     "shell.execute_reply": "2022-05-15T12:58:45.360398Z",
     "shell.execute_reply.started": "2022-05-15T12:58:45.333341Z"
    }
   },
   "outputs": [],
   "source": [
    " #del #sub_data\n",
    "display(df_clik_h_edu_no)\n",
    "df_clik_h_edu_no.user_id\n",
    "#trans.rename(columns={})"
   ]
  },
  {
   "cell_type": "code",
   "execution_count": null,
   "metadata": {},
   "outputs": [],
   "source": [
    "trans.shape[0]"
   ]
  },
  {
   "cell_type": "code",
   "execution_count": null,
   "metadata": {},
   "outputs": [],
   "source": [
    "\n",
    "size = trans.shape[0]\n",
    "mon2 = np.zeros( len(pd.unique(trans['user_id']))  ) \n",
    "col_VO2 = np.zeros( len(pd.unique(trans['user_id'])) )\n",
    "i = 0\n",
    "j = 0\n",
    "\n",
    "for j in  range(size-1):\n",
    "    \n",
    "    if j/(size//100) == int(j/(size//100)):\n",
    "        print(j/(size//100),'%')\n",
    "        \n",
    "    u1 = str(trans.user_id[i])\n",
    "    u2 = str(trans.user_id[i+1])\n",
    "    \n",
    "    if u1 == u2:\n",
    "        m2 = float( trans.transaction_amt[j+1] )\n",
    "        col_VO2[i] += 1\n",
    "        mon2 +=m2\n",
    "    else:\n",
    "        mon2[i+1] += float( trans.transaction_amt[j+1])\n",
    "        i += 1\n",
    "        \n",
    "        \n",
    "print('mon\\n',mon2)\n",
    "print('col-VO\\n',col_VO2)\n",
    "cr_tran = mon2[:]/col_VO2[:]\n",
    "print('cr_tran')\n",
    "print(cr_tran)"
   ]
  },
  {
   "cell_type": "code",
   "execution_count": null,
   "metadata": {},
   "outputs": [],
   "source": [
    "#df_clik_h_edu_no.pop('Unnamed: 0')\n",
    "#df_clik_h_edu_no.rename(columns={})"
   ]
  },
  {
   "cell_type": "code",
   "execution_count": 6,
   "metadata": {
    "collapsed": true,
    "execution": {
     "iopub.execute_input": "2022-05-15T14:41:15.085563Z",
     "iopub.status.busy": "2022-05-15T14:41:15.085327Z",
     "iopub.status.idle": "2022-05-15T14:41:15.105338Z",
     "shell.execute_reply": "2022-05-15T14:41:15.104741Z",
     "shell.execute_reply.started": "2022-05-15T14:41:15.085540Z"
    },
    "jupyter": {
     "outputs_hidden": true
    }
   },
   "outputs": [],
   "source": [
    "trans.rename(columns={'user_id': 'bank'}, inplace = True)\n",
    "trans\n",
    "#df_tenm"
   ]
  },
  {
   "cell_type": "code",
   "execution_count": null,
   "metadata": {
    "execution": {
     "iopub.execute_input": "2022-05-15T14:41:17.860603Z",
     "iopub.status.busy": "2022-05-15T14:41:17.860304Z"
    }
   },
   "outputs": [],
   "source": [
    "df_temp = trans.merge(df_clik_h_edu_no)\n",
    "df_temp"
   ]
  },
  {
   "cell_type": "code",
   "execution_count": 5,
   "metadata": {
    "collapsed": true,
    "execution": {
     "iopub.execute_input": "2022-05-15T14:42:59.969371Z",
     "iopub.status.busy": "2022-05-15T14:42:59.969124Z",
     "iopub.status.idle": "2022-05-15T14:43:00.005445Z",
     "shell.execute_reply": "2022-05-15T14:43:00.003691Z",
     "shell.execute_reply.started": "2022-05-15T14:42:59.969348Z"
    },
    "jupyter": {
     "outputs_hidden": true
    }
   },
   "outputs": [],
   "source": [
    "df_clik_h_edu_no"
   ]
  },
  {
   "cell_type": "code",
   "execution_count": 62,
   "metadata": {
    "execution": {
     "iopub.execute_input": "2022-05-15T15:41:27.804120Z",
     "iopub.status.busy": "2022-05-15T15:41:27.803822Z",
     "iopub.status.idle": "2022-05-15T15:41:27.830621Z",
     "shell.execute_reply": "2022-05-15T15:41:27.829722Z",
     "shell.execute_reply.started": "2022-05-15T15:41:27.804086Z"
    }
   },
   "outputs": [],
   "source": [
    "df_h_edu_only_pre = train_h_edu_only.merge(tra_val)\n",
    "df_h_edu_no_pre = train_h_edu_no.merge(tra_val)"
   ]
  },
  {
   "cell_type": "code",
   "execution_count": 64,
   "metadata": {
    "collapsed": true,
    "execution": {
     "iopub.execute_input": "2022-05-15T15:42:06.673719Z",
     "iopub.status.busy": "2022-05-15T15:42:06.673377Z",
     "iopub.status.idle": "2022-05-15T15:42:06.689167Z",
     "shell.execute_reply": "2022-05-15T15:42:06.688138Z",
     "shell.execute_reply.started": "2022-05-15T15:42:06.673681Z"
    },
    "jupyter": {
     "outputs_hidden": true
    }
   },
   "outputs": [],
   "source": [
    "df_h_edu_only"
   ]
  },
  {
   "cell_type": "code",
   "execution_count": 66,
   "metadata": {
    "collapsed": true,
    "execution": {
     "iopub.execute_input": "2022-05-15T15:43:12.795206Z",
     "iopub.status.busy": "2022-05-15T15:43:12.794473Z",
     "iopub.status.idle": "2022-05-15T15:43:12.815654Z",
     "shell.execute_reply": "2022-05-15T15:43:12.814853Z",
     "shell.execute_reply.started": "2022-05-15T15:43:12.795161Z"
    },
    "jupyter": {
     "outputs_hidden": true
    }
   },
   "outputs": [],
   "source": [
    "df_tran_edu_only"
   ]
  },
  {
   "cell_type": "code",
   "execution_count": 67,
   "metadata": {
    "collapsed": true,
    "execution": {
     "iopub.execute_input": "2022-05-15T15:46:39.043468Z",
     "iopub.status.busy": "2022-05-15T15:46:39.042659Z",
     "iopub.status.idle": "2022-05-15T15:46:40.352994Z",
     "shell.execute_reply": "2022-05-15T15:46:40.352379Z",
     "shell.execute_reply.started": "2022-05-15T15:46:39.043428Z"
    },
    "jupyter": {
     "outputs_hidden": true
    }
   },
   "outputs": [],
   "source": [
    "# убрать mcc = -1 from df_tran_edu_only\n",
    "df_tran_edu_only = df_tran_edu_only.loc[df_tran_edu_only['mcc_code'] != -1]\n",
    "df_tran_edu_only"
   ]
  },
  {
   "cell_type": "code",
   "execution_count": 69,
   "metadata": {
    "execution": {
     "iopub.execute_input": "2022-05-15T15:48:14.691396Z",
     "iopub.status.busy": "2022-05-15T15:48:14.690878Z",
     "iopub.status.idle": "2022-05-15T15:48:15.722857Z",
     "shell.execute_reply": "2022-05-15T15:48:15.721863Z",
     "shell.execute_reply.started": "2022-05-15T15:48:14.691344Z"
    }
   },
   "outputs": [],
   "source": [
    "#сбрасываем индексы df_tran_edu_only\n",
    "df_tran_edu_only = df_tran_edu_only.reset_index()\n",
    "js = np.array(df_tran_edu_only.index)\n",
    "js = js[1:]\n",
    "js = max(js)\n",
    "js"
   ]
  },
  {
   "cell_type": "code",
   "execution_count": 72,
   "metadata": {
    "collapsed": true,
    "execution": {
     "iopub.execute_input": "2022-05-15T16:03:01.215758Z",
     "iopub.status.busy": "2022-05-15T16:03:01.215442Z",
     "iopub.status.idle": "2022-05-15T16:05:53.734935Z",
     "shell.execute_reply": "2022-05-15T16:05:53.733870Z",
     "shell.execute_reply.started": "2022-05-15T16:03:01.215725Z"
    },
    "jupyter": {
     "outputs_hidden": true
    }
   },
   "outputs": [],
   "source": [
    "# считаю сумму трат у тех у кого есть вышка\n",
    "mon_h_edu = np.zeros(len(pd.unique(df_h_edu_only['bank'])) )#df_h_edu_only\n",
    "col_VO_h_edu_only = np.zeros(len(pd.unique(df_h_edu_only['bank'])) )\n",
    "i = 0\n",
    "j = 0\n",
    "\n",
    "mon_h_edu[i] += float(df_tran_edu_only.transaction_amt[j])\n",
    "for j in  range (js-1):\n",
    "    #print(j)\n",
    "    if j/(js//100) == int(j/(js//100)):\n",
    "        print(j/(js//100),'%')\n",
    "        \n",
    "    h1 = str(df_tran_edu_only.bank[j] )\n",
    "    h2 = str(df_tran_edu_only.bank[j+1])\n",
    "    \n",
    "    if h1 == h2:\n",
    "        \n",
    "        m2 = float(df_tran_edu_only.transaction_amt[j+1])\n",
    "        col_VO_h_edu_only [i] += 1\n",
    "        mon_h_edu[i] += m2\n",
    "        \n",
    "    else:\n",
    "        mon_h_edu[i+1] += float(df_tran_edu_only.transaction_amt[j+1])\n",
    "        i += 1\n",
    "\n",
    "print('mon\\n',mon_h_edu)\n",
    "print('col-VO\\n',col_VO_h_edu_only)\n",
    "cr_tran_h_edu = mon_h_edu[:]/col_VO_h_edu_only[:]\n",
    "print('cr_tran')\n",
    "print(cr_tran_h_edu)\n",
    "    "
   ]
  },
  {
   "cell_type": "code",
   "execution_count": 75,
   "metadata": {
    "execution": {
     "iopub.execute_input": "2022-05-15T16:08:54.765554Z",
     "iopub.status.busy": "2022-05-15T16:08:54.764906Z",
     "iopub.status.idle": "2022-05-15T16:08:54.789250Z",
     "shell.execute_reply": "2022-05-15T16:08:54.788444Z",
     "shell.execute_reply.started": "2022-05-15T16:08:54.765515Z"
    }
   },
   "outputs": [],
   "source": [
    "df_h_edu_only['all_mon'] = mon_h_edu\n",
    "df_h_edu_only['col_VO_tran'] = col_VO_h_edu_only\n",
    "df_h_edu_only['cr_tran'] = cr_tran_h_edu\n",
    "df_h_edu_only"
   ]
  },
  {
   "cell_type": "code",
   "execution_count": 73,
   "metadata": {
    "collapsed": true,
    "execution": {
     "iopub.execute_input": "2022-05-15T16:06:43.209793Z",
     "iopub.status.busy": "2022-05-15T16:06:43.208939Z",
     "iopub.status.idle": "2022-05-15T16:06:43.975884Z",
     "shell.execute_reply": "2022-05-15T16:06:43.974917Z",
     "shell.execute_reply.started": "2022-05-15T16:06:43.209732Z"
    },
    "jupyter": {
     "outputs_hidden": true
    }
   },
   "outputs": [],
   "source": [
    "df_tran_edu_no = df_tran_edu_no.loc[df_tran_edu_no['mcc_code'] != -1]\n",
    "\n",
    "df_tran_edu_no = df_tran_edu_no.reset_index()\n",
    "jss = np.array(df_tran_edu_no.index)\n",
    "jss = jss[1:]\n",
    "jss = max(jss)\n",
    "print(jss)\n",
    "df_tran_edu_no"
   ]
  },
  {
   "cell_type": "code",
   "execution_count": 78,
   "metadata": {
    "execution": {
     "iopub.execute_input": "2022-05-15T16:12:40.062493Z",
     "iopub.status.busy": "2022-05-15T16:12:40.061789Z",
     "iopub.status.idle": "2022-05-15T16:12:40.067815Z",
     "shell.execute_reply": "2022-05-15T16:12:40.067197Z",
     "shell.execute_reply.started": "2022-05-15T16:12:40.062455Z"
    }
   },
   "outputs": [],
   "source": [
    "jss"
   ]
  },
  {
   "cell_type": "code",
   "execution_count": null,
   "metadata": {},
   "outputs": [],
   "source": []
  },
  {
   "cell_type": "code",
   "execution_count": null,
   "metadata": {
    "execution": {
     "iopub.execute_input": "2022-05-15T16:13:57.264369Z",
     "iopub.status.busy": "2022-05-15T16:13:57.263831Z",
     "iopub.status.idle": "2022-05-15T16:14:55.901503Z",
     "shell.execute_reply": "2022-05-15T16:14:55.900547Z",
     "shell.execute_reply.started": "2022-05-15T16:13:57.264335Z"
    }
   },
   "outputs": [],
   "source": [
    "mon_h_edu_no = np.zeros(len(pd.unique(df_h_edu_no['bank'])) )#df_h_edu_only\n",
    "col_VO_h_edu_no = np.zeros(len(pd.unique(df_h_edu_no['bank'])) )\n",
    "i = 0\n",
    "j = 0\n",
    "\n",
    "mon_h_edu_no[i] += float(df_tran_edu_no.transaction_amt[j])\n",
    "for j in  range (jss-1):\n",
    "    #print(j)\n",
    "    if j/(jss//100) == int(j/(jss//100)):\n",
    "        print(j/(jss//100),'%')\n",
    "        \n",
    "    h1 = str(df_tran_edu_no.bank[j] )\n",
    "    h2 = str(df_tran_edu_no.bank[j+1])\n",
    "    \n",
    "    if h1 == h2:\n",
    "        \n",
    "        m2 = float(df_tran_edu_no.transaction_amt[j+1])\n",
    "        col_VO_h_edu_no [i] += 1\n",
    "        mon_h_edu_no[i] += m2\n",
    "        \n",
    "    else:\n",
    "        mon_h_edu_no[i+1] += float(df_tran_edu_no.transaction_amt[j+1])\n",
    "        i += 1\n",
    "\n",
    "print('mon\\n',mon_h_edu_no)\n",
    "print('col-VO\\n',col_VO_h_edu_no)\n",
    "cr_tran_h_edu_no = mon_h_edu_no[:]/col_VO_h_edu_no[:]\n",
    "print('cr_tran')\n",
    "print(cr_tran_h_edu_no)"
   ]
  },
  {
   "cell_type": "code",
   "execution_count": 77,
   "metadata": {
    "collapsed": true,
    "execution": {
     "iopub.execute_input": "2022-05-15T16:11:30.331711Z",
     "iopub.status.busy": "2022-05-15T16:11:30.331088Z",
     "iopub.status.idle": "2022-05-15T16:11:30.352163Z",
     "shell.execute_reply": "2022-05-15T16:11:30.351506Z",
     "shell.execute_reply.started": "2022-05-15T16:11:30.331674Z"
    },
    "jupyter": {
     "outputs_hidden": true
    }
   },
   "outputs": [],
   "source": [
    "df_tran_edu_no"
   ]
  },
  {
   "cell_type": "code",
   "execution_count": 87,
   "metadata": {
    "execution": {
     "iopub.execute_input": "2022-05-15T16:20:38.494873Z",
     "iopub.status.busy": "2022-05-15T16:20:38.494471Z",
     "iopub.status.idle": "2022-05-15T16:20:38.518454Z",
     "shell.execute_reply": "2022-05-15T16:20:38.517830Z",
     "shell.execute_reply.started": "2022-05-15T16:20:38.494831Z"
    }
   },
   "outputs": [],
   "source": [
    "#add new col\n",
    "df_h_edu_no['all_mon'] = mon_h_edu_no\n",
    "df_h_edu_no['col_VO_tran'] = col_VO_h_edu_no\n",
    "df_h_edu_no['cr_tran'] = cr_tran_h_edu_no\n",
    "df_h_edu_no\n"
   ]
  },
  {
   "cell_type": "code",
   "execution_count": 161,
   "metadata": {
    "execution": {
     "iopub.execute_input": "2022-05-15T17:23:36.486318Z",
     "iopub.status.busy": "2022-05-15T17:23:36.485611Z",
     "iopub.status.idle": "2022-05-15T17:23:36.557516Z",
     "shell.execute_reply": "2022-05-15T17:23:36.556751Z",
     "shell.execute_reply.started": "2022-05-15T17:23:36.486283Z"
    }
   },
   "outputs": [],
   "source": [
    "df_h_edu_no.to_csv('./df_h_edu_no.csv', index=False)  \n",
    "df_h_edu_only.to_csv('./df_h_edu_only.csv', index=False)  "
   ]
  },
  {
   "cell_type": "code",
   "execution_count": 105,
   "metadata": {
    "execution": {
     "iopub.execute_input": "2022-05-15T16:36:44.929931Z",
     "iopub.status.busy": "2022-05-15T16:36:44.929570Z",
     "iopub.status.idle": "2022-05-15T16:36:44.940233Z",
     "shell.execute_reply": "2022-05-15T16:36:44.939577Z",
     "shell.execute_reply.started": "2022-05-15T16:36:44.929886Z"
    }
   },
   "outputs": [],
   "source": [
    "#sub_data # данные которые надо оперделить \n",
    "#df_h_edu_only # данные у кого есть вышка\n",
    "#df_h_edu_no # данные у кого not вышка !!!!!!!!!!!!!!!!!!!!\n",
    "\n",
    "#display(sub_data.cr_tran,df_h_edu_only.cr_tran,df_h_edu_no.cr_tran)\n",
    "sub_data_ar = np.array(sub_data.cr_tran)\n",
    "\n",
    "hEdu_o = np.array(df_h_edu_only.cr_tran)\n",
    "hEdu_no = np.array (df_h_edu_no.cr_tran) \n",
    "print(sub_data_ar.mean(),'\\nyes',hEdu_o.mean(),'\\nno',hEdu_no.mean())\n",
    "print()\n",
    "print(np.median(sub_data_ar),'\\nyes',np.median(hEdu_o),'\\nno',np.median(hEdu_no))"
   ]
  },
  {
   "cell_type": "code",
   "execution_count": 106,
   "metadata": {
    "execution": {
     "iopub.execute_input": "2022-05-15T16:38:47.490385Z",
     "iopub.status.busy": "2022-05-15T16:38:47.489531Z",
     "iopub.status.idle": "2022-05-15T16:38:47.498046Z",
     "shell.execute_reply": "2022-05-15T16:38:47.497110Z",
     "shell.execute_reply.started": "2022-05-15T16:38:47.490336Z"
    }
   },
   "outputs": [],
   "source": [
    "POKAZ = ( (hEdu_o.mean() + np.median(hEdu_o))/2 + ( hEdu_no.mean() + np.median(hEdu_no) )/2 )/2\n",
    "POKAZ"
   ]
  },
  {
   "cell_type": "code",
   "execution_count": 112,
   "metadata": {
    "execution": {
     "iopub.execute_input": "2022-05-15T16:43:23.575939Z",
     "iopub.status.busy": "2022-05-15T16:43:23.575608Z",
     "iopub.status.idle": "2022-05-15T16:43:23.586096Z",
     "shell.execute_reply": "2022-05-15T16:43:23.585005Z",
     "shell.execute_reply.started": "2022-05-15T16:43:23.575902Z"
    }
   },
   "outputs": [],
   "source": [
    "HU_NO_POK =  df_h_edu_no.cr_tran\n",
    "HU_NO_POK < POKAZ\n",
    "\n",
    "cou = 0\n",
    "\n",
    "for i in HU_NO_POK:\n",
    "    if i < POKAZ:\n",
    "        cou +=1\n",
    "        \n",
    "print(\"len\",len(HU_NO_POK))\n",
    "print('cou', cou)\n",
    "print(len(HU_NO_POK)-cou)"
   ]
  },
  {
   "cell_type": "code",
   "execution_count": 113,
   "metadata": {
    "execution": {
     "iopub.execute_input": "2022-05-15T16:44:08.668294Z",
     "iopub.status.busy": "2022-05-15T16:44:08.667858Z",
     "iopub.status.idle": "2022-05-15T16:44:08.677305Z",
     "shell.execute_reply": "2022-05-15T16:44:08.676371Z",
     "shell.execute_reply.started": "2022-05-15T16:44:08.668262Z"
    }
   },
   "outputs": [],
   "source": [
    "HU_NO_POK =  df_h_edu_only.cr_tran\n",
    "HU_NO_POK < POKAZ\n",
    "\n",
    "cou = 0\n",
    "\n",
    "for i in HU_NO_POK:\n",
    "    if i < POKAZ:\n",
    "        cou +=1\n",
    "        \n",
    "print(\"len\",len(HU_NO_POK))\n",
    "print('cou', cou)\n",
    "print(len(HU_NO_POK)-cou)"
   ]
  },
  {
   "cell_type": "code",
   "execution_count": 114,
   "metadata": {
    "execution": {
     "iopub.execute_input": "2022-05-15T16:44:42.604123Z",
     "iopub.status.busy": "2022-05-15T16:44:42.603841Z",
     "iopub.status.idle": "2022-05-15T16:44:42.624862Z",
     "shell.execute_reply": "2022-05-15T16:44:42.623823Z",
     "shell.execute_reply.started": "2022-05-15T16:44:42.604093Z"
    }
   },
   "outputs": [],
   "source": [
    "sub_data"
   ]
  },
  {
   "cell_type": "code",
   "execution_count": 150,
   "metadata": {
    "execution": {
     "iopub.execute_input": "2022-05-15T17:08:37.256317Z",
     "iopub.status.busy": "2022-05-15T17:08:37.255981Z",
     "iopub.status.idle": "2022-05-15T17:08:37.260984Z",
     "shell.execute_reply": "2022-05-15T17:08:37.260062Z",
     "shell.execute_reply.started": "2022-05-15T17:08:37.256281Z"
    }
   },
   "outputs": [],
   "source": [
    "subb = sub_data.copy()"
   ]
  },
  {
   "cell_type": "code",
   "execution_count": 151,
   "metadata": {
    "execution": {
     "iopub.execute_input": "2022-05-15T17:08:38.568384Z",
     "iopub.status.busy": "2022-05-15T17:08:38.567580Z",
     "iopub.status.idle": "2022-05-15T17:08:38.584317Z",
     "shell.execute_reply": "2022-05-15T17:08:38.583142Z",
     "shell.execute_reply.started": "2022-05-15T17:08:38.568336Z"
    }
   },
   "outputs": [],
   "source": [
    "subb#.pop('col_VO_tran')"
   ]
  },
  {
   "cell_type": "code",
   "execution_count": 145,
   "metadata": {
    "execution": {
     "iopub.execute_input": "2022-05-15T17:07:59.586142Z",
     "iopub.status.busy": "2022-05-15T17:07:59.585841Z",
     "iopub.status.idle": "2022-05-15T17:07:59.609474Z",
     "shell.execute_reply": "2022-05-15T17:07:59.608361Z",
     "shell.execute_reply.started": "2022-05-15T17:07:59.586111Z"
    }
   },
   "outputs": [],
   "source": [
    "for i in range( 4000 ):\n",
    "    if subb.cr_tran[i] < POKAZ:\n",
    "        subb.higher_education_proba[i] = float(0)\n",
    "    else:\n",
    "        subb.higher_education_proba[i] = float(1)\n",
    "        \n",
    "     "
   ]
  },
  {
   "cell_type": "markdown",
   "metadata": {},
   "source": []
  },
  {
   "cell_type": "code",
   "execution_count": 156,
   "metadata": {
    "execution": {
     "iopub.execute_input": "2022-05-15T17:11:46.154631Z",
     "iopub.status.busy": "2022-05-15T17:11:46.153791Z",
     "iopub.status.idle": "2022-05-15T17:11:46.161782Z",
     "shell.execute_reply": "2022-05-15T17:11:46.160946Z",
     "shell.execute_reply.started": "2022-05-15T17:11:46.154582Z"
    }
   },
   "outputs": [],
   "source": [
    "#subb.pop('cr_tran')\n",
    "#temp = np.array(subb.higher_education_proba)\n",
    "#type(temp[0])\n",
    "#subb.to_csv('./sample_submission1236.csv', index=False)   \n",
    "#df_clik_h_edu_only.to_csv('df_clik_h_edu_only.csv', sep='\\t', encoding='utf-8')"
   ]
  },
  {
   "cell_type": "code",
   "execution_count": 158,
   "metadata": {
    "execution": {
     "iopub.execute_input": "2022-05-15T17:13:40.159364Z",
     "iopub.status.busy": "2022-05-15T17:13:40.159061Z",
     "iopub.status.idle": "2022-05-15T17:13:40.190166Z",
     "shell.execute_reply": "2022-05-15T17:13:40.189286Z",
     "shell.execute_reply.started": "2022-05-15T17:13:40.159331Z"
    }
   },
   "outputs": [],
   "source": [
    "subb.to_csv('./sample_submission69.csv', index=False)  \n",
    "test = pd.read_csv('./sample_submission69.csv')\n",
    "tempp = np.array(test.higher_education_proba)\n",
    "type(tempp[0])"
   ]
  },
  {
   "cell_type": "code",
   "execution_count": 176,
   "metadata": {
    "execution": {
     "iopub.execute_input": "2022-05-15T18:10:36.529400Z",
     "iopub.status.busy": "2022-05-15T18:10:36.529077Z",
     "iopub.status.idle": "2022-05-15T18:10:36.548624Z",
     "shell.execute_reply": "2022-05-15T18:10:36.548007Z",
     "shell.execute_reply.started": "2022-05-15T18:10:36.529363Z"
    }
   },
   "outputs": [],
   "source": [
    "df_tran_H_edu_all"
   ]
  },
  {
   "cell_type": "code",
   "execution_count": 195,
   "metadata": {
    "execution": {
     "iopub.execute_input": "2022-05-15T18:40:45.673141Z",
     "iopub.status.busy": "2022-05-15T18:40:45.672669Z",
     "iopub.status.idle": "2022-05-15T18:40:45.691384Z",
     "shell.execute_reply": "2022-05-15T18:40:45.690352Z",
     "shell.execute_reply.started": "2022-05-15T18:40:45.673094Z"
    }
   },
   "outputs": [],
   "source": [
    "df_H_edu_all"
   ]
  },
  {
   "cell_type": "code",
   "execution_count": 180,
   "metadata": {
    "execution": {
     "iopub.execute_input": "2022-05-15T18:13:38.644928Z",
     "iopub.status.busy": "2022-05-15T18:13:38.644474Z",
     "iopub.status.idle": "2022-05-15T18:13:39.157106Z",
     "shell.execute_reply": "2022-05-15T18:13:39.156192Z",
     "shell.execute_reply.started": "2022-05-15T18:13:38.644885Z"
    }
   },
   "outputs": [],
   "source": [
    "df_tran_H_edu_all_copy = df_tran_H_edu_all.copy()\n",
    "df_tran_H_edu_all"
   ]
  },
  {
   "cell_type": "code",
   "execution_count": 181,
   "metadata": {
    "execution": {
     "iopub.execute_input": "2022-05-15T18:13:57.296431Z",
     "iopub.status.busy": "2022-05-15T18:13:57.295935Z",
     "iopub.status.idle": "2022-05-15T18:13:58.748362Z",
     "shell.execute_reply": "2022-05-15T18:13:58.747636Z",
     "shell.execute_reply.started": "2022-05-15T18:13:57.296399Z"
    }
   },
   "outputs": [],
   "source": [
    "#df_tran_H_edu_all = df_tran_H_edu_all.loc[df_tran_H_edu_all['mcc_code'] != -1]\n",
    "\n",
    "df_tran_H_edu_all = df_tran_H_edu_all.reset_index()\n",
    "jss = np.array(df_tran_H_edu_all.index)\n",
    "#jss = jss[1:]\n",
    "jss = max(jss)\n",
    "print(jss)\n"
   ]
  },
  {
   "cell_type": "code",
   "execution_count": 185,
   "metadata": {
    "execution": {
     "iopub.execute_input": "2022-05-15T18:14:53.027136Z",
     "iopub.status.busy": "2022-05-15T18:14:53.026839Z",
     "iopub.status.idle": "2022-05-15T18:14:53.043744Z",
     "shell.execute_reply": "2022-05-15T18:14:53.043032Z",
     "shell.execute_reply.started": "2022-05-15T18:14:53.027105Z"
    }
   },
   "outputs": [],
   "source": [
    "df_tran_H_edu_all.head()"
   ]
  },
  {
   "cell_type": "code",
   "execution_count": 187,
   "metadata": {
    "collapsed": true,
    "execution": {
     "iopub.execute_input": "2022-05-15T18:28:35.749969Z",
     "iopub.status.busy": "2022-05-15T18:28:35.749648Z",
     "iopub.status.idle": "2022-05-15T18:33:46.002400Z",
     "shell.execute_reply": "2022-05-15T18:33:46.001452Z",
     "shell.execute_reply.started": "2022-05-15T18:28:35.749936Z"
    },
    "jupyter": {
     "outputs_hidden": true
    }
   },
   "outputs": [],
   "source": [
    "mon_div_all = np.zeros(len(pd.unique(df_tran_H_edu_all['bank'])) )\n",
    "mon_plu_all = np.zeros(len(pd.unique(df_tran_H_edu_all['bank'])) )\n",
    "\n",
    "mon_div_all_USD = np.zeros(len(pd.unique(df_tran_H_edu_all['bank'])) )\n",
    "mon_plu_all_USD = np.zeros(len(pd.unique(df_tran_H_edu_all['bank'])) )\n",
    "\n",
    "mon_div_all_EUR = np.zeros(len(pd.unique(df_tran_H_edu_all['bank'])) )\n",
    "mon_plu_all_EUR = np.zeros(len(pd.unique(df_tran_H_edu_all['bank'])) )\n",
    "\n",
    "mon_div_all_xz = np.zeros(len(pd.unique(df_tran_H_edu_all['bank'])) )\n",
    "mon_plu_all_xz = np.zeros(len(pd.unique(df_tran_H_edu_all['bank'])) )\n",
    "\n",
    "col_VO_all = np.zeros(len(pd.unique(df_tran_H_edu_all['bank'])) )\n",
    "i = 0\n",
    "j = 0\n",
    "\n",
    "mon_div_all[i] += float(df_tran_H_edu_all.transaction_amt[j])\n",
    "\n",
    "for j in  range (jss-1):\n",
    "    #print(j)\n",
    "    if j/(jss//100) == int(j/(jss//100)):\n",
    "        print(j/(jss//100),'%')\n",
    "        \n",
    "    h1 = str(df_tran_H_edu_all.bank[j] )\n",
    "    h2 = str(df_tran_H_edu_all.bank[j+1])\n",
    "    \n",
    "    if h1 == h2:\n",
    "        \n",
    "        m2 = float(df_tran_H_edu_all.transaction_amt[j+1])\n",
    "        col_VO_all [i] += 1\n",
    "        \n",
    "        if float(df_tran_H_edu_all.currency_rk[j+1]) == float(48): #\n",
    "            \n",
    "            if m2 > 0:\n",
    "                mon_plu_all[i] +=m2\n",
    "            else:\n",
    "                mon_div_all[i] += m2\n",
    "                \n",
    "        elif float(df_tran_H_edu_all.currency_rk[j+1]) == float(50):\n",
    "            \n",
    "            if m2 > 0:\n",
    "                mon_plu_all_USD[i] +=m2\n",
    "            else:\n",
    "                mon_div_all_EUR[i] += m2\n",
    "                \n",
    "        elif float(df_tran_H_edu_all.currency_rk[j+1]) == float(60):\n",
    "            \n",
    "            if m2 > 0:\n",
    "                mon_plu_all_EUR[i] +=m2\n",
    "            else:\n",
    "                mon_div_all_EUR[i] += m2\n",
    "                \n",
    "        else:\n",
    "            \n",
    "            if m2 > 0:\n",
    "                mon_plu_all_xz[i] +=m2\n",
    "            else:\n",
    "                mon_div_all_xz[i] += m2\n",
    "            \n",
    "    else:\n",
    "        m2 = float(df_tran_H_edu_all.transaction_amt[j+1])\n",
    "        \n",
    "        if float(df_tran_H_edu_all.currency_rk[j+1]) == float(48): #\n",
    "            \n",
    "            if m2 > 0:\n",
    "                mon_plu_all[i] +=m2\n",
    "            else:\n",
    "                mon_div_all[i] += m2\n",
    "                \n",
    "        elif float(df_tran_H_edu_all.currency_rk[j+1]) == float(50):\n",
    "            \n",
    "            if m2 > 0:\n",
    "                mon_plu_all_USD[i] +=m2\n",
    "            else:\n",
    "                mon_div_all_EUR[i] += m2\n",
    "                \n",
    "        elif float(df_tran_H_edu_all.currency_rk[j+1]) == float(60):\n",
    "            \n",
    "            if m2 > 0:\n",
    "                mon_plu_all_EUR[i] +=m2\n",
    "            else:\n",
    "                mon_div_all_EUR[i] += m2\n",
    "                \n",
    "        else:\n",
    "            \n",
    "            if m2 > 0:\n",
    "                mon_plu_all_xz[i] +=m2\n",
    "            else:\n",
    "                mon_div_all_xz[i] += m2\n",
    "        i += 1\n",
    "\n",
    "\n",
    "print(mon_div_all)\n",
    "print(mon_plu_all)\n",
    "\n",
    "print(mon_div_all_USD)\n",
    "print(mon_plu_all_USD)\n",
    "print(mon_div_all_EUR)\n",
    "print(mon_plu_all_EUR)\n",
    "print(mon_div_all_xz)\n",
    "print(mon_plu_all_xz)\n",
    "print()\n",
    "print('col-VO\\n',col_VO_all)\n",
    "#cr_tran_h_edu_no = mon_h_edu_no[:]/col_VO_h_edu_no[:]\n",
    "#print('cr_tran')\n",
    "#print(cr_tran_h_edu_no)"
   ]
  },
  {
   "cell_type": "code",
   "execution_count": 194,
   "metadata": {
    "execution": {
     "iopub.execute_input": "2022-05-15T18:39:01.252609Z",
     "iopub.status.busy": "2022-05-15T18:39:01.252303Z",
     "iopub.status.idle": "2022-05-15T18:39:01.258881Z",
     "shell.execute_reply": "2022-05-15T18:39:01.257968Z",
     "shell.execute_reply.started": "2022-05-15T18:39:01.252571Z"
    }
   },
   "outputs": [],
   "source": [
    "# все круто\n",
    "#mon_plu_all\n",
    "#print(np.sum(mon_div_all_USD))#mon_div_all_USD\n",
    "#print(np.sum(mon_plu_all_USD))#mon_plu_all_USD\n",
    "#print(np.sum(mon_div_all_EUR))#mon_div_all_EUR\n",
    "#print(np.sum(mon_plu_all_EUR))\n",
    "#print(np.sum(mon_div_all_xz))\n",
    "#np.sum(mon_plu_all_xz)\n"
   ]
  },
  {
   "cell_type": "code",
   "execution_count": 200,
   "metadata": {
    "execution": {
     "iopub.execute_input": "2022-05-15T18:44:06.384062Z",
     "iopub.status.busy": "2022-05-15T18:44:06.383722Z",
     "iopub.status.idle": "2022-05-15T18:44:06.393532Z",
     "shell.execute_reply": "2022-05-15T18:44:06.392821Z",
     "shell.execute_reply.started": "2022-05-15T18:44:06.384029Z"
    }
   },
   "outputs": [],
   "source": [
    "#df_H_edu_all['mon_div_all'] = mon_div_all\n",
    "df_H_edu_all['mon_plu_all'] = mon_plu_all\n",
    "df_H_edu_all['mon_div_all_USD'] = mon_div_all_USD\n",
    "df_H_edu_all['mon_plu_all_USD'] = mon_plu_all_USD\n",
    "df_H_edu_all['mon_div_all_EUR'] = mon_div_all_EUR\n",
    "df_H_edu_all['mon_plu_all_EUR'] = mon_plu_all_EUR\n",
    "df_H_edu_all['mon_div_all_xz'] = mon_div_all_xz\n",
    "df_H_edu_all['mon_plu_all_xz']= mon_plu_all_xz"
   ]
  },
  {
   "cell_type": "code",
   "execution_count": 239,
   "metadata": {
    "execution": {
     "iopub.execute_input": "2022-05-15T19:58:17.479409Z",
     "iopub.status.busy": "2022-05-15T19:58:17.479103Z",
     "iopub.status.idle": "2022-05-15T19:58:17.509924Z",
     "shell.execute_reply": "2022-05-15T19:58:17.509043Z",
     "shell.execute_reply.started": "2022-05-15T19:58:17.479373Z"
    }
   },
   "outputs": [],
   "source": [
    "df_H_edu_all['col_VO_all'] = col_VO_all\n",
    "df_H_edu_all"
   ]
  },
  {
   "cell_type": "code",
   "execution_count": 204,
   "metadata": {
    "execution": {
     "iopub.execute_input": "2022-05-15T18:50:58.340972Z",
     "iopub.status.busy": "2022-05-15T18:50:58.340452Z",
     "iopub.status.idle": "2022-05-15T18:50:58.346195Z",
     "shell.execute_reply": "2022-05-15T18:50:58.345465Z",
     "shell.execute_reply.started": "2022-05-15T18:50:58.340937Z"
    }
   },
   "outputs": [],
   "source": [
    "from sklearn.ensemble import RandomForestClassifier\n",
    "from sklearn.model_selection import train_test_split\n"
   ]
  },
  {
   "cell_type": "code",
   "execution_count": 329,
   "metadata": {
    "execution": {
     "iopub.execute_input": "2022-05-15T20:45:50.316687Z",
     "iopub.status.busy": "2022-05-15T20:45:50.316103Z",
     "iopub.status.idle": "2022-05-15T20:45:50.324563Z",
     "shell.execute_reply": "2022-05-15T20:45:50.323917Z",
     "shell.execute_reply.started": "2022-05-15T20:45:50.316651Z"
    }
   },
   "outputs": [],
   "source": [
    "X = df_H_edu_all[[ 'mon_div_all', 'mon_plu_all', 'mon_div_all_USD', 'mon_plu_all_USD','mon_div_all_EUR','mon_plu_all_EUR','mon_div_all_xz','mon_plu_all_xz','col_VO_all' ]]\n",
    "y = df_H_edu_all['higher_education']\n",
    "\n",
    "X_train, X_test, y_train, y_test = train_test_split(X, y, test_size=0.3, random_state=95)\n",
    "\n",
    "\n",
    "#y_train = np.array(df_H_edu_all.higher_education)\n",
    "#X_train = np.array()"
   ]
  },
  {
   "cell_type": "code",
   "execution_count": 331,
   "metadata": {
    "execution": {
     "iopub.execute_input": "2022-05-15T20:46:02.073002Z",
     "iopub.status.busy": "2022-05-15T20:46:02.072034Z",
     "iopub.status.idle": "2022-05-15T20:46:02.975814Z",
     "shell.execute_reply": "2022-05-15T20:46:02.974907Z",
     "shell.execute_reply.started": "2022-05-15T20:46:02.072959Z"
    }
   },
   "outputs": [],
   "source": [
    "clf = RandomForestClassifier(n_estimators=100)\n",
    "clf.fit(X_train, y_train)\n",
    "y_pred = clf.predict(X_test)"
   ]
  },
  {
   "cell_type": "code",
   "execution_count": 332,
   "metadata": {
    "execution": {
     "iopub.execute_input": "2022-05-15T20:46:05.350164Z",
     "iopub.status.busy": "2022-05-15T20:46:05.349853Z",
     "iopub.status.idle": "2022-05-15T20:46:05.356353Z",
     "shell.execute_reply": "2022-05-15T20:46:05.355771Z",
     "shell.execute_reply.started": "2022-05-15T20:46:05.350129Z"
    }
   },
   "outputs": [],
   "source": [
    "y_pred"
   ]
  },
  {
   "cell_type": "code",
   "execution_count": 333,
   "metadata": {
    "execution": {
     "iopub.execute_input": "2022-05-15T20:46:08.208674Z",
     "iopub.status.busy": "2022-05-15T20:46:08.207630Z",
     "iopub.status.idle": "2022-05-15T20:46:08.214476Z",
     "shell.execute_reply": "2022-05-15T20:46:08.213834Z",
     "shell.execute_reply.started": "2022-05-15T20:46:08.208625Z"
    }
   },
   "outputs": [],
   "source": [
    "from sklearn import metrics\n",
    "print(\"Accuracy:\", metrics.accuracy_score(y_test, y_pred))"
   ]
  },
  {
   "cell_type": "code",
   "execution_count": 215,
   "metadata": {
    "execution": {
     "iopub.execute_input": "2022-05-15T19:13:19.655804Z",
     "iopub.status.busy": "2022-05-15T19:13:19.655305Z",
     "iopub.status.idle": "2022-05-15T19:13:19.669863Z",
     "shell.execute_reply": "2022-05-15T19:13:19.668702Z",
     "shell.execute_reply.started": "2022-05-15T19:13:19.655756Z"
    }
   },
   "outputs": [],
   "source": [
    "sub_data = pd.read_csv('../input/vtbdatafusion2022/sample_submission.csv')\n",
    "print('sample_submission.csv - DONE!')"
   ]
  },
  {
   "cell_type": "code",
   "execution_count": 216,
   "metadata": {
    "execution": {
     "iopub.execute_input": "2022-05-15T19:13:30.513516Z",
     "iopub.status.busy": "2022-05-15T19:13:30.512693Z",
     "iopub.status.idle": "2022-05-15T19:13:30.524251Z",
     "shell.execute_reply": "2022-05-15T19:13:30.522957Z",
     "shell.execute_reply.started": "2022-05-15T19:13:30.513477Z"
    }
   },
   "outputs": [],
   "source": [
    "sub_data.head()"
   ]
  },
  {
   "cell_type": "code",
   "execution_count": 217,
   "metadata": {
    "execution": {
     "iopub.execute_input": "2022-05-15T19:13:49.062951Z",
     "iopub.status.busy": "2022-05-15T19:13:49.062083Z",
     "iopub.status.idle": "2022-05-15T19:13:49.076977Z",
     "shell.execute_reply": "2022-05-15T19:13:49.076014Z",
     "shell.execute_reply.started": "2022-05-15T19:13:49.062888Z"
    }
   },
   "outputs": [],
   "source": [
    "trans.head()"
   ]
  },
  {
   "cell_type": "code",
   "execution_count": 218,
   "metadata": {
    "execution": {
     "iopub.execute_input": "2022-05-15T19:14:12.654542Z",
     "iopub.status.busy": "2022-05-15T19:14:12.653917Z",
     "iopub.status.idle": "2022-05-15T19:14:20.529485Z",
     "shell.execute_reply": "2022-05-15T19:14:20.528660Z",
     "shell.execute_reply.started": "2022-05-15T19:14:12.654504Z"
    }
   },
   "outputs": [],
   "source": [
    "\n",
    "df_sub_data = sub_data.merge(trans)"
   ]
  },
  {
   "cell_type": "code",
   "execution_count": 228,
   "metadata": {
    "execution": {
     "iopub.execute_input": "2022-05-15T19:23:44.248178Z",
     "iopub.status.busy": "2022-05-15T19:23:44.247327Z",
     "iopub.status.idle": "2022-05-15T19:23:44.273440Z",
     "shell.execute_reply": "2022-05-15T19:23:44.272232Z",
     "shell.execute_reply.started": "2022-05-15T19:23:44.248121Z"
    }
   },
   "outputs": [],
   "source": [
    "df_sub_data"
   ]
  },
  {
   "cell_type": "code",
   "execution_count": 226,
   "metadata": {
    "execution": {
     "iopub.execute_input": "2022-05-15T19:21:42.748028Z",
     "iopub.status.busy": "2022-05-15T19:21:42.747284Z",
     "iopub.status.idle": "2022-05-15T19:21:42.761081Z",
     "shell.execute_reply": "2022-05-15T19:21:42.760241Z",
     "shell.execute_reply.started": "2022-05-15T19:21:42.747986Z"
    }
   },
   "outputs": [],
   "source": [
    "sub_data"
   ]
  },
  {
   "cell_type": "code",
   "execution_count": 227,
   "metadata": {
    "execution": {
     "iopub.execute_input": "2022-05-15T19:23:24.931110Z",
     "iopub.status.busy": "2022-05-15T19:23:24.930755Z",
     "iopub.status.idle": "2022-05-15T19:23:24.947716Z",
     "shell.execute_reply": "2022-05-15T19:23:24.946805Z",
     "shell.execute_reply.started": "2022-05-15T19:23:24.931072Z"
    }
   },
   "outputs": [],
   "source": [
    "mon_div_sub = np.zeros(len(pd.unique(sub_data['bank'])) )\n",
    "mon_plu_sub = np.zeros(len(pd.unique(sub_data['bank'])) )\n",
    "\n",
    "mon_div_sub_USD = np.zeros(len(pd.unique(sub_data['bank'])) )\n",
    "mon_plu_sub_USD = np.zeros(len(pd.unique(sub_data['bank'])) )\n",
    "\n",
    "mon_div_sub_EUR = np.zeros(len(pd.unique(sub_data['bank'])) )\n",
    "mon_plu_sub_EUR = np.zeros(len(pd.unique(sub_data['bank'])) )\n",
    "\n",
    "mon_div_sub_xz = np.zeros(len(pd.unique(sub_data['bank'])) )\n",
    "mon_plu_sub_xz = np.zeros(len(pd.unique(sub_data['bank'])) )\n",
    "\n",
    "colVO = np.zeros(len(pd.unique(sub_data['bank'])) )"
   ]
  },
  {
   "cell_type": "code",
   "execution_count": 229,
   "metadata": {
    "execution": {
     "iopub.execute_input": "2022-05-15T19:25:30.493264Z",
     "iopub.status.busy": "2022-05-15T19:25:30.492960Z",
     "iopub.status.idle": "2022-05-15T19:25:31.046335Z",
     "shell.execute_reply": "2022-05-15T19:25:31.045396Z",
     "shell.execute_reply.started": "2022-05-15T19:25:30.493233Z"
    }
   },
   "outputs": [],
   "source": [
    "# df_sub_data   все транзакции \n",
    "# sub_data      сюда вставляем потом\n",
    "\n",
    "#df_tran_H_edu_all = df_tran_H_edu_all.reset_index()\n",
    "jss = np.array(df_sub_data.index)\n",
    "jss = max(jss)\n",
    "print(jss)\n"
   ]
  },
  {
   "cell_type": "code",
   "execution_count": 230,
   "metadata": {
    "execution": {
     "iopub.execute_input": "2022-05-15T19:27:54.416470Z",
     "iopub.status.busy": "2022-05-15T19:27:54.416154Z",
     "iopub.status.idle": "2022-05-15T19:27:54.431074Z",
     "shell.execute_reply": "2022-05-15T19:27:54.430029Z",
     "shell.execute_reply.started": "2022-05-15T19:27:54.416440Z"
    }
   },
   "outputs": [],
   "source": [
    "df_sub_data.head()"
   ]
  },
  {
   "cell_type": "code",
   "execution_count": 233,
   "metadata": {
    "execution": {
     "iopub.execute_input": "2022-05-15T19:47:54.074399Z",
     "iopub.status.busy": "2022-05-15T19:47:54.074061Z",
     "iopub.status.idle": "2022-05-15T19:47:54.081916Z",
     "shell.execute_reply": "2022-05-15T19:47:54.081062Z",
     "shell.execute_reply.started": "2022-05-15T19:47:54.074362Z"
    }
   },
   "outputs": [],
   "source": [
    "print('js',js)\n",
    "df_sub_data.shape"
   ]
  },
  {
   "cell_type": "code",
   "execution_count": 234,
   "metadata": {
    "collapsed": true,
    "execution": {
     "iopub.execute_input": "2022-05-15T19:48:15.947488Z",
     "iopub.status.busy": "2022-05-15T19:48:15.946620Z",
     "iopub.status.idle": "2022-05-15T19:54:58.167729Z",
     "shell.execute_reply": "2022-05-15T19:54:58.166816Z",
     "shell.execute_reply.started": "2022-05-15T19:48:15.947446Z"
    },
    "jupyter": {
     "outputs_hidden": true
    }
   },
   "outputs": [],
   "source": [
    "i = 0\n",
    "j = 0\n",
    "\n",
    "for j in range(jss-1):\n",
    "    if j/(jss//100) == int(j/(jss//100)):\n",
    "        print(j/(jss//100),'%')\n",
    "        \n",
    "    h1 = str(df_sub_data.bank[j] )\n",
    "    h2 = str(df_sub_data.bank[j+1])\n",
    "    \n",
    "    if h1 == h2:\n",
    "        \n",
    "        m2 = float(df_sub_data.transaction_amt[j+1])\n",
    "        colVO [i] += 1\n",
    "        \n",
    "        if float(df_sub_data.currency_rk[j+1]) == float(48): #\n",
    "            \n",
    "            if m2 > 0:\n",
    "                mon_plu_sub[i] +=m2\n",
    "            else:\n",
    "                mon_div_sub[i] += m2\n",
    "                \n",
    "        elif float(df_sub_data.currency_rk[j+1]) == float(50):\n",
    "            \n",
    "            if m2 > 0:\n",
    "                mon_plu_sub_USD[i] +=m2\n",
    "            else:\n",
    "                mon_div_sub_USD[i] += m2\n",
    "                \n",
    "        elif float(df_sub_data.currency_rk[j+1]) == float(60):\n",
    "            \n",
    "            if m2 > 0:\n",
    "                 mon_plu_sub_EUR[i] +=m2\n",
    "            else:\n",
    "                mon_div_sub_EUR[i] += m2\n",
    "                \n",
    "        else:\n",
    "            \n",
    "            if m2 > 0:\n",
    "                mon_plu_sub_xz[i] +=m2\n",
    "            else:\n",
    "                mon_div_sub_xz[i] += m2\n",
    "            \n",
    "    else:\n",
    "        i +=1\n",
    "        m2 = float(df_sub_data.transaction_amt[j+1])\n",
    "        \n",
    "        if float(df_sub_data.currency_rk[j+1]) == float(48): #\n",
    "            \n",
    "            if m2 > 0:\n",
    "                mon_plu_sub[i] +=m2\n",
    "            else:\n",
    "                mon_div_sub[i] += m2\n",
    "                \n",
    "        elif float(df_sub_data.currency_rk[j+1]) == float(50):\n",
    "            \n",
    "            if m2 > 0:\n",
    "                mon_plu_sub_USD[i] +=m2\n",
    "            else:\n",
    "                mon_div_sub_USD[i] += m2\n",
    "                \n",
    "        elif float(df_sub_data.currency_rk[j+1]) == float(60):\n",
    "            \n",
    "            if m2 > 0:\n",
    "                 mon_plu_sub_EUR[i] +=m2\n",
    "            else:\n",
    "                mon_div_sub_EUR[i] += m2\n",
    "                \n",
    "        else:\n",
    " \n",
    "            \n",
    "            if m2 > 0:\n",
    "                mon_plu_sub_xz[i] +=m2\n",
    "            else:\n",
    "                mon_div_sub_xz[i] += m2\n",
    "        #i += 1\n",
    "    \n",
    "\n",
    "print(mon_div_sub)\n",
    "print(mon_plu_sub)\n",
    "\n",
    "print(mon_div_sub_USD)\n",
    "print(mon_plu_sub_USD)\n",
    "print(mon_div_sub_EUR)\n",
    "print(mon_plu_sub_EUR)\n",
    "print(mon_div_sub_xz)\n",
    "print(mon_plu_sub_xz)\n",
    "print()\n",
    "print('col-VO\\n',colVO)\n",
    "\n"
   ]
  },
  {
   "cell_type": "code",
   "execution_count": 306,
   "metadata": {
    "execution": {
     "iopub.execute_input": "2022-05-15T20:38:37.732686Z",
     "iopub.status.busy": "2022-05-15T20:38:37.731760Z",
     "iopub.status.idle": "2022-05-15T20:38:37.742748Z",
     "shell.execute_reply": "2022-05-15T20:38:37.741674Z",
     "shell.execute_reply.started": "2022-05-15T20:38:37.732636Z"
    }
   },
   "outputs": [],
   "source": [
    "sum(mon_plu_sub_USD)\n",
    "mon_plu_sub_USD*1,2\n",
    "sum(mon_plu_sub_USD)\n",
    "mon_plu_sub_EUR*1,2"
   ]
  },
  {
   "cell_type": "code",
   "execution_count": 307,
   "metadata": {
    "execution": {
     "iopub.execute_input": "2022-05-15T20:38:39.932794Z",
     "iopub.status.busy": "2022-05-15T20:38:39.929516Z",
     "iopub.status.idle": "2022-05-15T20:38:39.942382Z",
     "shell.execute_reply": "2022-05-15T20:38:39.941230Z",
     "shell.execute_reply.started": "2022-05-15T20:38:39.932700Z"
    }
   },
   "outputs": [],
   "source": [
    "sub_data['mon_div_sub'] = mon_div_sub\n",
    "sub_data['mon_plu_sub'] = mon_plu_sub\n",
    "\n",
    "sub_data['mon_div_sub_USD'] = mon_div_sub_USD\n",
    "sub_data['mon_plu_sub_USD'] = mon_plu_sub_USD\n",
    "\n",
    "sub_data['mon_div_sub_EUR'] = mon_div_sub_EUR\n",
    "sub_data['mon_plu_sub_EUR'] = mon_plu_sub_EUR\n",
    "\n",
    "sub_data['mon_div_sub_xz'] = mon_div_sub_xz\n",
    "sub_data['mon_plu_sub_xz'] = mon_plu_sub_xz\n",
    "\n"
   ]
  },
  {
   "cell_type": "code",
   "execution_count": 308,
   "metadata": {
    "execution": {
     "iopub.execute_input": "2022-05-15T20:38:54.103718Z",
     "iopub.status.busy": "2022-05-15T20:38:54.103149Z",
     "iopub.status.idle": "2022-05-15T20:38:54.108321Z",
     "shell.execute_reply": "2022-05-15T20:38:54.107436Z",
     "shell.execute_reply.started": "2022-05-15T20:38:54.103675Z"
    }
   },
   "outputs": [],
   "source": [
    "sub_data['colVO'] = colVO"
   ]
  },
  {
   "cell_type": "code",
   "execution_count": 309,
   "metadata": {
    "execution": {
     "iopub.execute_input": "2022-05-15T20:38:58.724733Z",
     "iopub.status.busy": "2022-05-15T20:38:58.723996Z",
     "iopub.status.idle": "2022-05-15T20:38:58.753966Z",
     "shell.execute_reply": "2022-05-15T20:38:58.753031Z",
     "shell.execute_reply.started": "2022-05-15T20:38:58.724677Z"
    }
   },
   "outputs": [],
   "source": [
    "sub_data"
   ]
  },
  {
   "cell_type": "code",
   "execution_count": 310,
   "metadata": {
    "execution": {
     "iopub.execute_input": "2022-05-15T20:39:12.523208Z",
     "iopub.status.busy": "2022-05-15T20:39:12.522919Z",
     "iopub.status.idle": "2022-05-15T20:39:12.553487Z",
     "shell.execute_reply": "2022-05-15T20:39:12.552651Z",
     "shell.execute_reply.started": "2022-05-15T20:39:12.523179Z"
    }
   },
   "outputs": [],
   "source": [
    "seb_data_copy = sub_data.copy()\n",
    "seb_data_copy"
   ]
  },
  {
   "cell_type": "code",
   "execution_count": 311,
   "metadata": {
    "execution": {
     "iopub.execute_input": "2022-05-15T20:39:17.569124Z",
     "iopub.status.busy": "2022-05-15T20:39:17.568816Z",
     "iopub.status.idle": "2022-05-15T20:39:17.600363Z",
     "shell.execute_reply": "2022-05-15T20:39:17.599247Z",
     "shell.execute_reply.started": "2022-05-15T20:39:17.569088Z"
    }
   },
   "outputs": [],
   "source": [
    "#X = df_H_edu_all[[ 'mon_div_all', 'mon_plu_all', 'mon_div_all_USD', 'mon_plu_all_USD','mon_div_all_EUR','mon_plu_all_EUR','mon_div_all_xz','mon_plu_all_xz','col_VO_all' ]]\n",
    "\n",
    "seb_data_copy.rename(columns={'mon_div_sub':'mon_div_all','mon_plu_sub':'mon_plu_all',\n",
    "                         'mon_div_sub_USD':'mon_div_all_USD',  'mon_plu_sub_USD':'mon_plu_all_USD',\n",
    "                         'mon_div_sub_EUR':'mon_div_all_EUR','mon_plu_sub_EUR':'mon_plu_all_EUR',\n",
    "                         'mon_div_sub_xz':'mon_div_all_xz','mon_plu_sub_xz':'mon_plu_all_xz','colVO':'col_VO_all'}, inplace = True)\n",
    "seb_data_copy"
   ]
  },
  {
   "cell_type": "code",
   "execution_count": 274,
   "metadata": {
    "execution": {
     "iopub.execute_input": "2022-05-15T20:22:09.109588Z",
     "iopub.status.busy": "2022-05-15T20:22:09.109302Z",
     "iopub.status.idle": "2022-05-15T20:22:09.116150Z",
     "shell.execute_reply": "2022-05-15T20:22:09.115260Z",
     "shell.execute_reply.started": "2022-05-15T20:22:09.109558Z"
    }
   },
   "outputs": [],
   "source": [
    "seb_data_copy.columns"
   ]
  },
  {
   "cell_type": "code",
   "execution_count": 280,
   "metadata": {
    "execution": {
     "iopub.execute_input": "2022-05-15T20:25:14.931511Z",
     "iopub.status.busy": "2022-05-15T20:25:14.931175Z",
     "iopub.status.idle": "2022-05-15T20:25:14.937932Z",
     "shell.execute_reply": "2022-05-15T20:25:14.937030Z",
     "shell.execute_reply.started": "2022-05-15T20:25:14.931474Z"
    }
   },
   "outputs": [],
   "source": [
    "col"
   ]
  },
  {
   "cell_type": "code",
   "execution_count": 343,
   "metadata": {
    "execution": {
     "iopub.execute_input": "2022-05-15T20:48:04.908212Z",
     "iopub.status.busy": "2022-05-15T20:48:04.907442Z",
     "iopub.status.idle": "2022-05-15T20:48:04.913865Z",
     "shell.execute_reply": "2022-05-15T20:48:04.913035Z",
     "shell.execute_reply.started": "2022-05-15T20:48:04.908168Z"
    }
   },
   "outputs": [],
   "source": [
    "X_test = seb_data_copy[[ 'mon_div_all', 'mon_plu_all', 'mon_div_all_USD', 'mon_plu_all_USD',\n",
    "       'mon_div_all_EUR', 'mon_plu_all_EUR', 'mon_div_all_xz',\n",
    "       'mon_plu_all_xz', 'col_VO_all' ]]\n",
    "#X = df_H_edu_all      [[ 'mon_div_all', 'mon_plu_all', 'mon_div_all_USD', 'mon_plu_all_USD','mon_div_all_EUR','mon_plu_all_EUR','mon_div_all_xz','mon_plu_all_xz','col_VO_all' ]]\n",
    "\n",
    "y_pred = clf.predict(X_test)"
   ]
  },
  {
   "cell_type": "code",
   "execution_count": 344,
   "metadata": {
    "execution": {
     "iopub.execute_input": "2022-05-15T20:48:07.877413Z",
     "iopub.status.busy": "2022-05-15T20:48:07.876982Z",
     "iopub.status.idle": "2022-05-15T20:48:07.949709Z",
     "shell.execute_reply": "2022-05-15T20:48:07.949030Z",
     "shell.execute_reply.started": "2022-05-15T20:48:07.877380Z"
    }
   },
   "outputs": [],
   "source": []
  },
  {
   "cell_type": "code",
   "execution_count": 345,
   "metadata": {
    "execution": {
     "iopub.execute_input": "2022-05-15T20:48:13.599822Z",
     "iopub.status.busy": "2022-05-15T20:48:13.599306Z",
     "iopub.status.idle": "2022-05-15T20:48:13.607413Z",
     "shell.execute_reply": "2022-05-15T20:48:13.606845Z",
     "shell.execute_reply.started": "2022-05-15T20:48:13.599753Z"
    }
   },
   "outputs": [],
   "source": [
    "sum(y_pred)"
   ]
  },
  {
   "cell_type": "code",
   "execution_count": 346,
   "metadata": {
    "execution": {
     "iopub.execute_input": "2022-05-15T20:48:18.762580Z",
     "iopub.status.busy": "2022-05-15T20:48:18.762278Z",
     "iopub.status.idle": "2022-05-15T20:48:18.767820Z",
     "shell.execute_reply": "2022-05-15T20:48:18.767220Z",
     "shell.execute_reply.started": "2022-05-15T20:48:18.762545Z"
    }
   },
   "outputs": [],
   "source": [
    "len(y_pred)"
   ]
  },
  {
   "cell_type": "code",
   "execution_count": 347,
   "metadata": {
    "execution": {
     "iopub.execute_input": "2022-05-15T20:48:26.979673Z",
     "iopub.status.busy": "2022-05-15T20:48:26.978843Z",
     "iopub.status.idle": "2022-05-15T20:48:27.000002Z",
     "shell.execute_reply": "2022-05-15T20:48:26.999003Z",
     "shell.execute_reply.started": "2022-05-15T20:48:26.979635Z"
    }
   },
   "outputs": [],
   "source": [
    "sub_data = pd.read_csv('../input/vtbdatafusion2022/sample_submission.csv')\n",
    "print('sample_submission.csv - DONE!')\n",
    "sub_data.head()"
   ]
  },
  {
   "cell_type": "code",
   "execution_count": 342,
   "metadata": {
    "execution": {
     "iopub.execute_input": "2022-05-15T20:47:48.420576Z",
     "iopub.status.busy": "2022-05-15T20:47:48.418311Z",
     "iopub.status.idle": "2022-05-15T20:47:48.444756Z",
     "shell.execute_reply": "2022-05-15T20:47:48.443551Z",
     "shell.execute_reply.started": "2022-05-15T20:47:48.420531Z"
    }
   },
   "outputs": [],
   "source": [
    "sub_data.higher_education_proba = y_pred"
   ]
  },
  {
   "cell_type": "code",
   "execution_count": 324,
   "metadata": {
    "execution": {
     "iopub.execute_input": "2022-05-15T20:44:41.844892Z",
     "iopub.status.busy": "2022-05-15T20:44:41.844549Z",
     "iopub.status.idle": "2022-05-15T20:44:41.884424Z",
     "shell.execute_reply": "2022-05-15T20:44:41.883536Z",
     "shell.execute_reply.started": "2022-05-15T20:44:41.844855Z"
    }
   },
   "outputs": [],
   "source": [
    "sub_data.to_csv('./sample_submission69+9000=3859.csv', index=False)  \n",
    "test = pd.read_csv('./sample_submission69.csv')\n",
    "tempp = np.array(test.higher_education_proba)\n",
    "type(tempp[0])\n",
    "test"
   ]
  },
  {
   "cell_type": "code",
   "execution_count": null,
   "metadata": {},
   "outputs": [],
   "source": []
  },
  {
   "cell_type": "markdown",
   "metadata": {},
   "source": [
    "пробую другой метод"
   ]
  },
  {
   "cell_type": "code",
   "execution_count": 363,
   "metadata": {
    "execution": {
     "iopub.execute_input": "2022-05-15T21:16:52.503405Z",
     "iopub.status.busy": "2022-05-15T21:16:52.502637Z",
     "iopub.status.idle": "2022-05-15T21:16:52.511493Z",
     "shell.execute_reply": "2022-05-15T21:16:52.510855Z",
     "shell.execute_reply.started": "2022-05-15T21:16:52.503325Z"
    }
   },
   "outputs": [],
   "source": [
    "X = df_H_edu_all[[ 'mon_div_all', 'mon_plu_all', 'mon_div_all_USD', 'mon_plu_all_USD','mon_div_all_EUR','mon_plu_all_EUR','mon_div_all_xz','mon_plu_all_xz','col_VO_all' ]]\n",
    "y = df_H_edu_all['higher_education']\n",
    "\n",
    "X_train, X_test, y_train, y_test = train_test_split(X, y, test_size=0.3, random_state=95)"
   ]
  },
  {
   "cell_type": "code",
   "execution_count": 373,
   "metadata": {
    "execution": {
     "iopub.execute_input": "2022-05-15T21:20:22.760965Z",
     "iopub.status.busy": "2022-05-15T21:20:22.760222Z",
     "iopub.status.idle": "2022-05-15T21:20:37.125772Z",
     "shell.execute_reply": "2022-05-15T21:20:37.124988Z",
     "shell.execute_reply.started": "2022-05-15T21:20:22.760923Z"
    }
   },
   "outputs": [],
   "source": [
    "from sklearn.preprocessing import StandardScaler\n",
    "import matplotlib.pyplot as plt\n",
    "scaler = StandardScaler()\n",
    "scaler.fit(X_train)\n",
    "\n",
    "X_train = scaler.transform(X_train)\n",
    "X_test = scaler.transform(X_test)\n",
    "from sklearn.neighbors import KNeighborsClassifier\n",
    "classifier = KNeighborsClassifier(n_neighbors=5)\n",
    "classifier.fit(X_train, y_train)\n",
    "error = []\n",
    "\n",
    "# Calculating error for K values between 1 and 40\n",
    "for i in range(1, 80\n",
    "              \n",
    "              ):\n",
    "    print(i)\n",
    "    knn = KNeighborsClassifier(n_neighbors=i)\n",
    "    knn.fit(X_train, y_train)\n",
    "    pred_i = knn.predict(X_test)\n",
    "    error.append(np.mean(pred_i != y_test))\n",
    "    \n",
    "plt.figure(figsize=(12, 6))\n",
    "plt.plot(range(1, 80\n",
    "              ), error, color='red', linestyle='dashed', marker='o',\n",
    "         markerfacecolor='blue', markersize=10)\n",
    "plt.title('Error Rate K Value')\n",
    "plt.xlabel('K Value')\n",
    "plt.ylabel('Mean Error')"
   ]
  },
  {
   "cell_type": "code",
   "execution_count": 356,
   "metadata": {
    "execution": {
     "iopub.execute_input": "2022-05-15T21:12:09.015617Z",
     "iopub.status.busy": "2022-05-15T21:12:09.015137Z",
     "iopub.status.idle": "2022-05-15T21:12:09.028433Z",
     "shell.execute_reply": "2022-05-15T21:12:09.027665Z",
     "shell.execute_reply.started": "2022-05-15T21:12:09.015575Z"
    }
   },
   "outputs": [],
   "source": []
  },
  {
   "cell_type": "code",
   "execution_count": 375,
   "metadata": {
    "execution": {
     "iopub.execute_input": "2022-05-15T21:20:50.832720Z",
     "iopub.status.busy": "2022-05-15T21:20:50.832426Z",
     "iopub.status.idle": "2022-05-15T21:20:51.056415Z",
     "shell.execute_reply": "2022-05-15T21:20:51.055294Z",
     "shell.execute_reply.started": "2022-05-15T21:20:50.832688Z"
    }
   },
   "outputs": [],
   "source": [
    "y_pred = knn.predict(X_test)\n"
   ]
  },
  {
   "cell_type": "code",
   "execution_count": 376,
   "metadata": {
    "execution": {
     "iopub.execute_input": "2022-05-15T21:20:53.446635Z",
     "iopub.status.busy": "2022-05-15T21:20:53.446328Z",
     "iopub.status.idle": "2022-05-15T21:20:53.465581Z",
     "shell.execute_reply": "2022-05-15T21:20:53.464734Z",
     "shell.execute_reply.started": "2022-05-15T21:20:53.446600Z"
    }
   },
   "outputs": [],
   "source": [
    "from sklearn.metrics import classification_report, confusion_matrix\n",
    "print(confusion_matrix(y_test, y_pred))\n",
    "print(classification_report(y_test, y_pred))"
   ]
  },
  {
   "cell_type": "markdown",
   "metadata": {},
   "source": [
    "продуем теперь еще раз то что было у меня"
   ]
  },
  {
   "cell_type": "code",
   "execution_count": 381,
   "metadata": {
    "execution": {
     "iopub.execute_input": "2022-05-15T21:22:38.938853Z",
     "iopub.status.busy": "2022-05-15T21:22:38.937941Z",
     "iopub.status.idle": "2022-05-15T21:22:39.440954Z",
     "shell.execute_reply": "2022-05-15T21:22:39.440115Z",
     "shell.execute_reply.started": "2022-05-15T21:22:38.938795Z"
    }
   },
   "outputs": [],
   "source": [
    "X_test = seb_data_copy[[ 'mon_div_all', 'mon_plu_all', 'mon_div_all_USD', 'mon_plu_all_USD',\n",
    "       'mon_div_all_EUR', 'mon_plu_all_EUR', 'mon_div_all_xz',\n",
    "       'mon_plu_all_xz', 'col_VO_all' ]]\n",
    "\n",
    "y_pred = knn.predict(X_test)\n",
    "print(y_pred)"
   ]
  },
  {
   "cell_type": "code",
   "execution_count": 382,
   "metadata": {
    "execution": {
     "iopub.execute_input": "2022-05-15T21:22:45.641740Z",
     "iopub.status.busy": "2022-05-15T21:22:45.641231Z",
     "iopub.status.idle": "2022-05-15T21:22:45.648757Z",
     "shell.execute_reply": "2022-05-15T21:22:45.647835Z",
     "shell.execute_reply.started": "2022-05-15T21:22:45.641706Z"
    }
   },
   "outputs": [],
   "source": [
    "sum(y_pred)"
   ]
  },
  {
   "cell_type": "code",
   "execution_count": null,
   "metadata": {},
   "outputs": [],
   "source": []
  }
 ],
 "metadata": {
  "kernelspec": {
   "display_name": "Python 3 (ipykernel)",
   "language": "python",
   "name": "python3"
  },
  "language_info": {
   "codemirror_mode": {
    "name": "ipython",
    "version": 3
   },
   "file_extension": ".py",
   "mimetype": "text/x-python",
   "name": "python",
   "nbconvert_exporter": "python",
   "pygments_lexer": "ipython3",
   "version": "3.9.7"
  }
 },
 "nbformat": 4,
 "nbformat_minor": 4
}
