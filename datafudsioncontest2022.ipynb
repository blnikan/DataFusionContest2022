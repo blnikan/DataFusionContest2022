{
 "cells": [
  {
   "cell_type": "markdown",
   "metadata": {},
   "source": [
    "<a href=\"https://www.kaggle.com/code/blnikan/datafudsioncontest2022?scriptVersionId=96144101\" target=\"_blank\"><img align=\"left\" alt=\"Kaggle\" title=\"Open in Kaggle\" src=\"https://kaggle.com/static/images/open-in-kaggle.svg\"></a>"
   ]
  },
  {
   "cell_type": "code",
   "execution_count": 4,
   "metadata": {
    "_cell_guid": "b1076dfc-b9ad-4769-8c92-a6c4dae69d19",
    "_uuid": "8f2839f25d086af736a60e9eeb907d3b93b6e0e5",
    "execution": {
     "iopub.execute_input": "2022-05-20T18:11:18.315896Z",
     "iopub.status.busy": "2022-05-20T18:11:18.31557Z",
     "iopub.status.idle": "2022-05-20T18:11:18.325594Z",
     "shell.execute_reply": "2022-05-20T18:11:18.324882Z",
     "shell.execute_reply.started": "2022-05-20T18:11:18.315862Z"
    }
   },
   "outputs": [
    {
     "name": "stdout",
     "output_type": "stream",
     "text": [
      "/kaggle/input/vtbdatafusion2022/currency_rk.csv\n",
      "/kaggle/input/vtbdatafusion2022/sample_submission.csv\n",
      "/kaggle/input/vtbdatafusion2022/click_categories.csv\n",
      "/kaggle/input/vtbdatafusion2022/train_matching.csv\n",
      "/kaggle/input/vtbdatafusion2022/mcc_codes.csv\n",
      "/kaggle/input/vtbdatafusion2022/clickstream.csv\n",
      "/kaggle/input/vtbdatafusion2022/train.csv\n",
      "/kaggle/input/vtbdatafusion2022/transactions.csv\n"
     ]
    }
   ],
   "source": [
    "# This Python 3 environment comes with many helpful analytics libraries installed\n",
    "# It is defined by the kaggle/python Docker image: https://github.com/kaggle/docker-python\n",
    "# For example, here's several helpful packages to load\n",
    "\n",
    "import numpy as np # linear algebra\n",
    "import pandas as pd # data processing, CSV file I/O (e.g. pd.read_csv)\n",
    "\n",
    "# Input data files are available in the read-only \"../input/\" directory\n",
    "# For example, running this (by clicking run or pressing Shift+Enter) will list all files under the input directory\n",
    "\n",
    "import os\n",
    "for dirname, _, filenames in os.walk('/kaggle/input'):\n",
    "    for filename in filenames:\n",
    "        print(os.path.join(dirname, filename))\n",
    "\n",
    "# You can write up to 20GB to the current directory (/kaggle/working/) that gets preserved as output when you create a version using \"Save & Run All\" \n",
    "# You can also write temporary files to /kaggle/temp/, but they won't be saved outside of the current session"
   ]
  },
  {
   "cell_type": "markdown",
   "metadata": {},
   "source": [
    "блакнот на kaggle.com\n",
    "https://www.kaggle.com/code/blnikan/datafudsioncontest2022"
   ]
  },
  {
   "cell_type": "markdown",
   "metadata": {},
   "source": [
    "# Работа с данными для тренеровки"
   ]
  },
  {
   "cell_type": "markdown",
   "metadata": {},
   "source": [
    "##### для начала посмотрим на те данные для которых мы уже знаем есть ли вышка"
   ]
  },
  {
   "cell_type": "code",
   "execution_count": 5,
   "metadata": {
    "execution": {
     "iopub.execute_input": "2022-05-20T18:11:18.382799Z",
     "iopub.status.busy": "2022-05-20T18:11:18.382345Z",
     "iopub.status.idle": "2022-05-20T18:11:18.40154Z",
     "shell.execute_reply": "2022-05-20T18:11:18.40008Z",
     "shell.execute_reply.started": "2022-05-20T18:11:18.382764Z"
    }
   },
   "outputs": [
    {
     "name": "stdout",
     "output_type": "stream",
     "text": [
      "train.csv - DONE!\n"
     ]
    }
   ],
   "source": [
    "train = pd.read_csv(\"../input/vtbdatafusion2022/train.csv\")\n",
    "print('train.csv - DONE!')"
   ]
  },
  {
   "cell_type": "markdown",
   "metadata": {},
   "source": [
    "##### train.csv: Табличный файл с целевой переменной: меткой наличия у клиентов ВТБ высшего образования — 0 и 1. Разметка представлена не для всех клиентов"
   ]
  },
  {
   "cell_type": "code",
   "execution_count": 6,
   "metadata": {
    "execution": {
     "iopub.execute_input": "2022-05-20T18:11:18.454923Z",
     "iopub.status.busy": "2022-05-20T18:11:18.454609Z",
     "iopub.status.idle": "2022-05-20T18:11:18.465583Z",
     "shell.execute_reply": "2022-05-20T18:11:18.464713Z",
     "shell.execute_reply.started": "2022-05-20T18:11:18.454892Z"
    }
   },
   "outputs": [
    {
     "data": {
      "text/html": [
       "<div>\n",
       "<style scoped>\n",
       "    .dataframe tbody tr th:only-of-type {\n",
       "        vertical-align: middle;\n",
       "    }\n",
       "\n",
       "    .dataframe tbody tr th {\n",
       "        vertical-align: top;\n",
       "    }\n",
       "\n",
       "    .dataframe thead th {\n",
       "        text-align: right;\n",
       "    }\n",
       "</style>\n",
       "<table border=\"1\" class=\"dataframe\">\n",
       "  <thead>\n",
       "    <tr style=\"text-align: right;\">\n",
       "      <th></th>\n",
       "      <th>bank</th>\n",
       "      <th>higher_education</th>\n",
       "    </tr>\n",
       "  </thead>\n",
       "  <tbody>\n",
       "    <tr>\n",
       "      <th>0</th>\n",
       "      <td>3755b59782464456bac1aec1a44e0db3</td>\n",
       "      <td>0.0</td>\n",
       "    </tr>\n",
       "    <tr>\n",
       "      <th>1</th>\n",
       "      <td>604a550439d644718ea6e1693fbf03dc</td>\n",
       "      <td>0.0</td>\n",
       "    </tr>\n",
       "    <tr>\n",
       "      <th>2</th>\n",
       "      <td>542d4776ebe5454fb8ab36f1c276fe0e</td>\n",
       "      <td>1.0</td>\n",
       "    </tr>\n",
       "    <tr>\n",
       "      <th>3</th>\n",
       "      <td>ee37fecea44d475ca030cde7ff7d545d</td>\n",
       "      <td>0.0</td>\n",
       "    </tr>\n",
       "    <tr>\n",
       "      <th>4</th>\n",
       "      <td>18617a1100f44a99b3a0772341fec3db</td>\n",
       "      <td>0.0</td>\n",
       "    </tr>\n",
       "  </tbody>\n",
       "</table>\n",
       "</div>"
      ],
      "text/plain": [
       "                               bank  higher_education\n",
       "0  3755b59782464456bac1aec1a44e0db3               0.0\n",
       "1  604a550439d644718ea6e1693fbf03dc               0.0\n",
       "2  542d4776ebe5454fb8ab36f1c276fe0e               1.0\n",
       "3  ee37fecea44d475ca030cde7ff7d545d               0.0\n",
       "4  18617a1100f44a99b3a0772341fec3db               0.0"
      ]
     },
     "execution_count": 6,
     "metadata": {},
     "output_type": "execute_result"
    }
   ],
   "source": [
    "train.head() #вывод верха таблицы"
   ]
  },
  {
   "cell_type": "markdown",
   "metadata": {},
   "source": [
    "##### для начала найдем все транзакции для каждого из этих людей, а для этого мы загрузим еще несколько файлов. А так же соединим эти файлы, чтобы получить одну общую таблицы по всем этим людям"
   ]
  },
  {
   "cell_type": "code",
   "execution_count": 7,
   "metadata": {
    "execution": {
     "iopub.execute_input": "2022-05-20T18:11:18.510354Z",
     "iopub.status.busy": "2022-05-20T18:11:18.50965Z",
     "iopub.status.idle": "2022-05-20T18:11:18.561206Z",
     "shell.execute_reply": "2022-05-20T18:11:18.560059Z",
     "shell.execute_reply.started": "2022-05-20T18:11:18.510306Z"
    }
   },
   "outputs": [
    {
     "name": "stdout",
     "output_type": "stream",
     "text": [
      "train_matching.csv - DONE!\n"
     ]
    }
   ],
   "source": [
    "tra_val = pd.read_csv('../input/vtbdatafusion2022/train_matching.csv')\n",
    "print('train_matching.csv - DONE!')"
   ]
  },
  {
   "cell_type": "markdown",
   "metadata": {},
   "source": [
    "##### train_matching.csv: Целевая переменная — табличный файл с точным соответствием между id клиентов в данных транзакций и кликстримов. Разметка представлена не для всех клиентов, присутствующих в данных транзакций и кликстрима"
   ]
  },
  {
   "cell_type": "code",
   "execution_count": 8,
   "metadata": {
    "execution": {
     "iopub.execute_input": "2022-05-20T18:11:18.597268Z",
     "iopub.status.busy": "2022-05-20T18:11:18.596767Z",
     "iopub.status.idle": "2022-05-20T18:11:18.642899Z",
     "shell.execute_reply": "2022-05-20T18:11:18.64175Z",
     "shell.execute_reply.started": "2022-05-20T18:11:18.59722Z"
    }
   },
   "outputs": [
    {
     "data": {
      "text/html": [
       "<div>\n",
       "<style scoped>\n",
       "    .dataframe tbody tr th:only-of-type {\n",
       "        vertical-align: middle;\n",
       "    }\n",
       "\n",
       "    .dataframe tbody tr th {\n",
       "        vertical-align: top;\n",
       "    }\n",
       "\n",
       "    .dataframe thead th {\n",
       "        text-align: right;\n",
       "    }\n",
       "</style>\n",
       "<table border=\"1\" class=\"dataframe\">\n",
       "  <thead>\n",
       "    <tr style=\"text-align: right;\">\n",
       "      <th></th>\n",
       "      <th>bank</th>\n",
       "      <th>higher_education</th>\n",
       "      <th>rtk</th>\n",
       "    </tr>\n",
       "  </thead>\n",
       "  <tbody>\n",
       "    <tr>\n",
       "      <th>0</th>\n",
       "      <td>604a550439d644718ea6e1693fbf03dc</td>\n",
       "      <td>0.0</td>\n",
       "      <td>fece9b32c7d84acb836c3b1271cfdcc9</td>\n",
       "    </tr>\n",
       "    <tr>\n",
       "      <th>1</th>\n",
       "      <td>542d4776ebe5454fb8ab36f1c276fe0e</td>\n",
       "      <td>1.0</td>\n",
       "      <td>38ac442698524d178f6ca361e0c603bb</td>\n",
       "    </tr>\n",
       "    <tr>\n",
       "      <th>2</th>\n",
       "      <td>ee37fecea44d475ca030cde7ff7d545d</td>\n",
       "      <td>0.0</td>\n",
       "      <td>839669a7588b42ee9e01a9f200e5f638</td>\n",
       "    </tr>\n",
       "    <tr>\n",
       "      <th>3</th>\n",
       "      <td>079f07153c0149d19f54646618452929</td>\n",
       "      <td>0.0</td>\n",
       "      <td>f9d8f9f57453493186964049c43da914</td>\n",
       "    </tr>\n",
       "    <tr>\n",
       "      <th>4</th>\n",
       "      <td>6dee55b3d7284d18bed3094ee3103812</td>\n",
       "      <td>1.0</td>\n",
       "      <td>6d6b702132d94a8692cba48f4e28e7b2</td>\n",
       "    </tr>\n",
       "  </tbody>\n",
       "</table>\n",
       "</div>"
      ],
      "text/plain": [
       "                               bank  higher_education  \\\n",
       "0  604a550439d644718ea6e1693fbf03dc               0.0   \n",
       "1  542d4776ebe5454fb8ab36f1c276fe0e               1.0   \n",
       "2  ee37fecea44d475ca030cde7ff7d545d               0.0   \n",
       "3  079f07153c0149d19f54646618452929               0.0   \n",
       "4  6dee55b3d7284d18bed3094ee3103812               1.0   \n",
       "\n",
       "                                rtk  \n",
       "0  fece9b32c7d84acb836c3b1271cfdcc9  \n",
       "1  38ac442698524d178f6ca361e0c603bb  \n",
       "2  839669a7588b42ee9e01a9f200e5f638  \n",
       "3  f9d8f9f57453493186964049c43da914  \n",
       "4  6d6b702132d94a8692cba48f4e28e7b2  "
      ]
     },
     "execution_count": 8,
     "metadata": {},
     "output_type": "execute_result"
    }
   ],
   "source": [
    "# введем новую переменную в которую сведем первые 2 таблицы.\n",
    "#стоит отметить что будем соединять по 1й табл, чтобы не потерять порядок людей!\n",
    "df_H_edu_all = train.merge(tra_val)\n",
    "df_H_edu_all.head()"
   ]
  },
  {
   "cell_type": "markdown",
   "metadata": {},
   "source": [
    "##### далее загрузим файл в котором содержатся ВСЕ транзакции\n",
    "( это займет какое-то время, тк файл не самый маленький )"
   ]
  },
  {
   "cell_type": "code",
   "execution_count": 9,
   "metadata": {
    "execution": {
     "iopub.execute_input": "2022-05-20T18:11:18.686602Z",
     "iopub.status.busy": "2022-05-20T18:11:18.68604Z",
     "iopub.status.idle": "2022-05-20T18:12:01.372174Z",
     "shell.execute_reply": "2022-05-20T18:12:01.371477Z",
     "shell.execute_reply.started": "2022-05-20T18:11:18.686566Z"
    }
   },
   "outputs": [
    {
     "name": "stdout",
     "output_type": "stream",
     "text": [
      "transactions.csv - DONE!\n"
     ]
    }
   ],
   "source": [
    "trans = pd.read_csv('../input/vtbdatafusion2022/transactions.csv')\n",
    "print('transactions.csv - DONE!')"
   ]
  },
  {
   "cell_type": "markdown",
   "metadata": {},
   "source": [
    "##### transactions.csv: Список транзакций"
   ]
  },
  {
   "cell_type": "code",
   "execution_count": 10,
   "metadata": {
    "execution": {
     "iopub.execute_input": "2022-05-20T18:12:01.374143Z",
     "iopub.status.busy": "2022-05-20T18:12:01.373641Z",
     "iopub.status.idle": "2022-05-20T18:12:01.385184Z",
     "shell.execute_reply": "2022-05-20T18:12:01.384556Z",
     "shell.execute_reply.started": "2022-05-20T18:12:01.374107Z"
    }
   },
   "outputs": [
    {
     "data": {
      "text/html": [
       "<div>\n",
       "<style scoped>\n",
       "    .dataframe tbody tr th:only-of-type {\n",
       "        vertical-align: middle;\n",
       "    }\n",
       "\n",
       "    .dataframe tbody tr th {\n",
       "        vertical-align: top;\n",
       "    }\n",
       "\n",
       "    .dataframe thead th {\n",
       "        text-align: right;\n",
       "    }\n",
       "</style>\n",
       "<table border=\"1\" class=\"dataframe\">\n",
       "  <thead>\n",
       "    <tr style=\"text-align: right;\">\n",
       "      <th></th>\n",
       "      <th>user_id</th>\n",
       "      <th>mcc_code</th>\n",
       "      <th>currency_rk</th>\n",
       "      <th>transaction_amt</th>\n",
       "      <th>transaction_dttm</th>\n",
       "    </tr>\n",
       "  </thead>\n",
       "  <tbody>\n",
       "    <tr>\n",
       "      <th>0</th>\n",
       "      <td>000932580e404dafbecd5916d4640938</td>\n",
       "      <td>5411</td>\n",
       "      <td>48</td>\n",
       "      <td>-361.07230</td>\n",
       "      <td>2020-08-03 08:05:23</td>\n",
       "    </tr>\n",
       "    <tr>\n",
       "      <th>1</th>\n",
       "      <td>000932580e404dafbecd5916d4640938</td>\n",
       "      <td>5499</td>\n",
       "      <td>48</td>\n",
       "      <td>-137.31398</td>\n",
       "      <td>2020-08-05 01:27:40</td>\n",
       "    </tr>\n",
       "    <tr>\n",
       "      <th>2</th>\n",
       "      <td>000932580e404dafbecd5916d4640938</td>\n",
       "      <td>5499</td>\n",
       "      <td>48</td>\n",
       "      <td>-138.84981</td>\n",
       "      <td>2020-08-05 03:28:11</td>\n",
       "    </tr>\n",
       "    <tr>\n",
       "      <th>3</th>\n",
       "      <td>000932580e404dafbecd5916d4640938</td>\n",
       "      <td>4829</td>\n",
       "      <td>48</td>\n",
       "      <td>-309.47653</td>\n",
       "      <td>2020-08-06 00:36:29</td>\n",
       "    </tr>\n",
       "    <tr>\n",
       "      <th>4</th>\n",
       "      <td>000932580e404dafbecd5916d4640938</td>\n",
       "      <td>5411</td>\n",
       "      <td>48</td>\n",
       "      <td>-133.47370</td>\n",
       "      <td>2020-08-09 00:30:13</td>\n",
       "    </tr>\n",
       "  </tbody>\n",
       "</table>\n",
       "</div>"
      ],
      "text/plain": [
       "                            user_id  mcc_code  currency_rk  transaction_amt  \\\n",
       "0  000932580e404dafbecd5916d4640938      5411           48       -361.07230   \n",
       "1  000932580e404dafbecd5916d4640938      5499           48       -137.31398   \n",
       "2  000932580e404dafbecd5916d4640938      5499           48       -138.84981   \n",
       "3  000932580e404dafbecd5916d4640938      4829           48       -309.47653   \n",
       "4  000932580e404dafbecd5916d4640938      5411           48       -133.47370   \n",
       "\n",
       "      transaction_dttm  \n",
       "0  2020-08-03 08:05:23  \n",
       "1  2020-08-05 01:27:40  \n",
       "2  2020-08-05 03:28:11  \n",
       "3  2020-08-06 00:36:29  \n",
       "4  2020-08-09 00:30:13  "
      ]
     },
     "execution_count": 10,
     "metadata": {},
     "output_type": "execute_result"
    }
   ],
   "source": [
    "trans.head()"
   ]
  },
  {
   "cell_type": "markdown",
   "metadata": {},
   "source": [
    "теперь для людей из df_H_edu_all найдем все их траты и запишим их в отдельную таблицу, но для начала надо именить названия поля в таблице trans,  чтобы названия были одинаковыми."
   ]
  },
  {
   "cell_type": "code",
   "execution_count": 11,
   "metadata": {
    "execution": {
     "iopub.execute_input": "2022-05-20T18:12:01.38682Z",
     "iopub.status.busy": "2022-05-20T18:12:01.386451Z",
     "iopub.status.idle": "2022-05-20T18:12:01.410907Z",
     "shell.execute_reply": "2022-05-20T18:12:01.410073Z",
     "shell.execute_reply.started": "2022-05-20T18:12:01.38679Z"
    }
   },
   "outputs": [
    {
     "data": {
      "text/html": [
       "<div>\n",
       "<style scoped>\n",
       "    .dataframe tbody tr th:only-of-type {\n",
       "        vertical-align: middle;\n",
       "    }\n",
       "\n",
       "    .dataframe tbody tr th {\n",
       "        vertical-align: top;\n",
       "    }\n",
       "\n",
       "    .dataframe thead th {\n",
       "        text-align: right;\n",
       "    }\n",
       "</style>\n",
       "<table border=\"1\" class=\"dataframe\">\n",
       "  <thead>\n",
       "    <tr style=\"text-align: right;\">\n",
       "      <th></th>\n",
       "      <th>bank</th>\n",
       "      <th>mcc_code</th>\n",
       "      <th>currency_rk</th>\n",
       "      <th>transaction_amt</th>\n",
       "      <th>transaction_dttm</th>\n",
       "    </tr>\n",
       "  </thead>\n",
       "  <tbody>\n",
       "    <tr>\n",
       "      <th>0</th>\n",
       "      <td>000932580e404dafbecd5916d4640938</td>\n",
       "      <td>5411</td>\n",
       "      <td>48</td>\n",
       "      <td>-361.072300</td>\n",
       "      <td>2020-08-03 08:05:23</td>\n",
       "    </tr>\n",
       "    <tr>\n",
       "      <th>1</th>\n",
       "      <td>000932580e404dafbecd5916d4640938</td>\n",
       "      <td>5499</td>\n",
       "      <td>48</td>\n",
       "      <td>-137.313980</td>\n",
       "      <td>2020-08-05 01:27:40</td>\n",
       "    </tr>\n",
       "    <tr>\n",
       "      <th>2</th>\n",
       "      <td>000932580e404dafbecd5916d4640938</td>\n",
       "      <td>5499</td>\n",
       "      <td>48</td>\n",
       "      <td>-138.849810</td>\n",
       "      <td>2020-08-05 03:28:11</td>\n",
       "    </tr>\n",
       "    <tr>\n",
       "      <th>3</th>\n",
       "      <td>000932580e404dafbecd5916d4640938</td>\n",
       "      <td>4829</td>\n",
       "      <td>48</td>\n",
       "      <td>-309.476530</td>\n",
       "      <td>2020-08-06 00:36:29</td>\n",
       "    </tr>\n",
       "    <tr>\n",
       "      <th>4</th>\n",
       "      <td>000932580e404dafbecd5916d4640938</td>\n",
       "      <td>5411</td>\n",
       "      <td>48</td>\n",
       "      <td>-133.473700</td>\n",
       "      <td>2020-08-09 00:30:13</td>\n",
       "    </tr>\n",
       "    <tr>\n",
       "      <th>...</th>\n",
       "      <td>...</td>\n",
       "      <td>...</td>\n",
       "      <td>...</td>\n",
       "      <td>...</td>\n",
       "      <td>...</td>\n",
       "    </tr>\n",
       "    <tr>\n",
       "      <th>19821905</th>\n",
       "      <td>fffb051877b949f49bed6538393a06ae</td>\n",
       "      <td>5411</td>\n",
       "      <td>48</td>\n",
       "      <td>-40.727768</td>\n",
       "      <td>2021-07-31 05:33:03</td>\n",
       "    </tr>\n",
       "    <tr>\n",
       "      <th>19821906</th>\n",
       "      <td>fffb051877b949f49bed6538393a06ae</td>\n",
       "      <td>5411</td>\n",
       "      <td>48</td>\n",
       "      <td>-277.494350</td>\n",
       "      <td>2021-07-31 08:57:02</td>\n",
       "    </tr>\n",
       "    <tr>\n",
       "      <th>19821907</th>\n",
       "      <td>fffb051877b949f49bed6538393a06ae</td>\n",
       "      <td>5411</td>\n",
       "      <td>48</td>\n",
       "      <td>-138.097350</td>\n",
       "      <td>2021-07-31 08:59:33</td>\n",
       "    </tr>\n",
       "    <tr>\n",
       "      <th>19821908</th>\n",
       "      <td>fffb051877b949f49bed6538393a06ae</td>\n",
       "      <td>6011</td>\n",
       "      <td>48</td>\n",
       "      <td>-86.046776</td>\n",
       "      <td>2021-08-01 23:04:41</td>\n",
       "    </tr>\n",
       "    <tr>\n",
       "      <th>19821909</th>\n",
       "      <td>fffb051877b949f49bed6538393a06ae</td>\n",
       "      <td>6012</td>\n",
       "      <td>48</td>\n",
       "      <td>-4864.049300</td>\n",
       "      <td>2021-08-02 09:20:43</td>\n",
       "    </tr>\n",
       "  </tbody>\n",
       "</table>\n",
       "<p>19821910 rows × 5 columns</p>\n",
       "</div>"
      ],
      "text/plain": [
       "                                      bank  mcc_code  currency_rk  \\\n",
       "0         000932580e404dafbecd5916d4640938      5411           48   \n",
       "1         000932580e404dafbecd5916d4640938      5499           48   \n",
       "2         000932580e404dafbecd5916d4640938      5499           48   \n",
       "3         000932580e404dafbecd5916d4640938      4829           48   \n",
       "4         000932580e404dafbecd5916d4640938      5411           48   \n",
       "...                                    ...       ...          ...   \n",
       "19821905  fffb051877b949f49bed6538393a06ae      5411           48   \n",
       "19821906  fffb051877b949f49bed6538393a06ae      5411           48   \n",
       "19821907  fffb051877b949f49bed6538393a06ae      5411           48   \n",
       "19821908  fffb051877b949f49bed6538393a06ae      6011           48   \n",
       "19821909  fffb051877b949f49bed6538393a06ae      6012           48   \n",
       "\n",
       "          transaction_amt     transaction_dttm  \n",
       "0             -361.072300  2020-08-03 08:05:23  \n",
       "1             -137.313980  2020-08-05 01:27:40  \n",
       "2             -138.849810  2020-08-05 03:28:11  \n",
       "3             -309.476530  2020-08-06 00:36:29  \n",
       "4             -133.473700  2020-08-09 00:30:13  \n",
       "...                   ...                  ...  \n",
       "19821905       -40.727768  2021-07-31 05:33:03  \n",
       "19821906      -277.494350  2021-07-31 08:57:02  \n",
       "19821907      -138.097350  2021-07-31 08:59:33  \n",
       "19821908       -86.046776  2021-08-01 23:04:41  \n",
       "19821909     -4864.049300  2021-08-02 09:20:43  \n",
       "\n",
       "[19821910 rows x 5 columns]"
      ]
     },
     "execution_count": 11,
     "metadata": {},
     "output_type": "execute_result"
    }
   ],
   "source": [
    "trans.rename(columns = {'user_id': 'bank'}, inplace = True)\n",
    "trans"
   ]
  },
  {
   "cell_type": "code",
   "execution_count": 12,
   "metadata": {
    "execution": {
     "iopub.execute_input": "2022-05-20T18:12:01.413854Z",
     "iopub.status.busy": "2022-05-20T18:12:01.412998Z",
     "iopub.status.idle": "2022-05-20T18:12:05.641109Z",
     "shell.execute_reply": "2022-05-20T18:12:05.639998Z",
     "shell.execute_reply.started": "2022-05-20T18:12:01.413809Z"
    },
    "scrolled": false
   },
   "outputs": [
    {
     "data": {
      "text/html": [
       "<div>\n",
       "<style scoped>\n",
       "    .dataframe tbody tr th:only-of-type {\n",
       "        vertical-align: middle;\n",
       "    }\n",
       "\n",
       "    .dataframe tbody tr th {\n",
       "        vertical-align: top;\n",
       "    }\n",
       "\n",
       "    .dataframe thead th {\n",
       "        text-align: right;\n",
       "    }\n",
       "</style>\n",
       "<table border=\"1\" class=\"dataframe\">\n",
       "  <thead>\n",
       "    <tr style=\"text-align: right;\">\n",
       "      <th></th>\n",
       "      <th>bank</th>\n",
       "      <th>higher_education</th>\n",
       "      <th>rtk</th>\n",
       "      <th>mcc_code</th>\n",
       "      <th>currency_rk</th>\n",
       "      <th>transaction_amt</th>\n",
       "      <th>transaction_dttm</th>\n",
       "    </tr>\n",
       "  </thead>\n",
       "  <tbody>\n",
       "    <tr>\n",
       "      <th>0</th>\n",
       "      <td>604a550439d644718ea6e1693fbf03dc</td>\n",
       "      <td>0.0</td>\n",
       "      <td>fece9b32c7d84acb836c3b1271cfdcc9</td>\n",
       "      <td>5921</td>\n",
       "      <td>48</td>\n",
       "      <td>-32.840740</td>\n",
       "      <td>2020-08-03 09:37:40</td>\n",
       "    </tr>\n",
       "    <tr>\n",
       "      <th>1</th>\n",
       "      <td>604a550439d644718ea6e1693fbf03dc</td>\n",
       "      <td>0.0</td>\n",
       "      <td>fece9b32c7d84acb836c3b1271cfdcc9</td>\n",
       "      <td>5411</td>\n",
       "      <td>48</td>\n",
       "      <td>-221.986970</td>\n",
       "      <td>2020-08-03 09:59:39</td>\n",
       "    </tr>\n",
       "    <tr>\n",
       "      <th>2</th>\n",
       "      <td>604a550439d644718ea6e1693fbf03dc</td>\n",
       "      <td>0.0</td>\n",
       "      <td>fece9b32c7d84acb836c3b1271cfdcc9</td>\n",
       "      <td>5411</td>\n",
       "      <td>48</td>\n",
       "      <td>-21.282393</td>\n",
       "      <td>2020-08-03 10:58:54</td>\n",
       "    </tr>\n",
       "    <tr>\n",
       "      <th>3</th>\n",
       "      <td>604a550439d644718ea6e1693fbf03dc</td>\n",
       "      <td>0.0</td>\n",
       "      <td>fece9b32c7d84acb836c3b1271cfdcc9</td>\n",
       "      <td>5462</td>\n",
       "      <td>48</td>\n",
       "      <td>-100.272316</td>\n",
       "      <td>2020-08-04 09:30:49</td>\n",
       "    </tr>\n",
       "    <tr>\n",
       "      <th>4</th>\n",
       "      <td>604a550439d644718ea6e1693fbf03dc</td>\n",
       "      <td>0.0</td>\n",
       "      <td>fece9b32c7d84acb836c3b1271cfdcc9</td>\n",
       "      <td>5411</td>\n",
       "      <td>48</td>\n",
       "      <td>-447.390620</td>\n",
       "      <td>2020-08-04 09:40:23</td>\n",
       "    </tr>\n",
       "  </tbody>\n",
       "</table>\n",
       "</div>"
      ],
      "text/plain": [
       "                               bank  higher_education  \\\n",
       "0  604a550439d644718ea6e1693fbf03dc               0.0   \n",
       "1  604a550439d644718ea6e1693fbf03dc               0.0   \n",
       "2  604a550439d644718ea6e1693fbf03dc               0.0   \n",
       "3  604a550439d644718ea6e1693fbf03dc               0.0   \n",
       "4  604a550439d644718ea6e1693fbf03dc               0.0   \n",
       "\n",
       "                                rtk  mcc_code  currency_rk  transaction_amt  \\\n",
       "0  fece9b32c7d84acb836c3b1271cfdcc9      5921           48       -32.840740   \n",
       "1  fece9b32c7d84acb836c3b1271cfdcc9      5411           48      -221.986970   \n",
       "2  fece9b32c7d84acb836c3b1271cfdcc9      5411           48       -21.282393   \n",
       "3  fece9b32c7d84acb836c3b1271cfdcc9      5462           48      -100.272316   \n",
       "4  fece9b32c7d84acb836c3b1271cfdcc9      5411           48      -447.390620   \n",
       "\n",
       "      transaction_dttm  \n",
       "0  2020-08-03 09:37:40  \n",
       "1  2020-08-03 09:59:39  \n",
       "2  2020-08-03 10:58:54  \n",
       "3  2020-08-04 09:30:49  \n",
       "4  2020-08-04 09:40:23  "
      ]
     },
     "execution_count": 12,
     "metadata": {},
     "output_type": "execute_result"
    }
   ],
   "source": [
    "#объединяем \n",
    "df_tran_H_edu_all = df_H_edu_all.merge(trans)\n",
    "df_tran_H_edu_all.head()"
   ]
  },
  {
   "cell_type": "markdown",
   "metadata": {},
   "source": [
    "в приличном обществе за то что вы увидите дальше я бы получил по лицу, Но пока что есть, то есть"
   ]
  },
  {
   "cell_type": "code",
   "execution_count": 13,
   "metadata": {
    "execution": {
     "iopub.execute_input": "2022-05-20T18:12:05.643229Z",
     "iopub.status.busy": "2022-05-20T18:12:05.642879Z",
     "iopub.status.idle": "2022-05-20T18:12:05.649185Z",
     "shell.execute_reply": "2022-05-20T18:12:05.648141Z",
     "shell.execute_reply.started": "2022-05-20T18:12:05.643183Z"
    }
   },
   "outputs": [
    {
     "name": "stdout",
     "output_type": "stream",
     "text": [
      "5716192\n"
     ]
    }
   ],
   "source": [
    "jss =  df_tran_H_edu_all.shape\n",
    "jss = jss[0]\n",
    "print(jss)"
   ]
  },
  {
   "cell_type": "code",
   "execution_count": 18,
   "metadata": {
    "collapsed": true,
    "execution": {
     "iopub.execute_input": "2022-05-20T18:19:27.579387Z",
     "iopub.status.busy": "2022-05-20T18:19:27.578918Z",
     "iopub.status.idle": "2022-05-20T18:30:32.182518Z",
     "shell.execute_reply": "2022-05-20T18:30:32.181298Z",
     "shell.execute_reply.started": "2022-05-20T18:19:27.579343Z"
    }
   },
   "outputs": [
    {
     "name": "stdout",
     "output_type": "stream",
     "text": [
      "0.0 %\n",
      "1.0 %\n",
      "2.0 %\n",
      "3.0 %\n",
      "4.0 %\n",
      "5.0 %\n",
      "6.0 %\n",
      "7.0 %\n",
      "8.0 %\n",
      "9.0 %\n",
      "10.0 %\n",
      "11.0 %\n",
      "12.0 %\n",
      "13.0 %\n",
      "14.0 %\n",
      "15.0 %\n",
      "16.0 %\n",
      "17.0 %\n",
      "18.0 %\n",
      "19.0 %\n",
      "20.0 %\n",
      "21.0 %\n",
      "22.0 %\n",
      "23.0 %\n",
      "24.0 %\n",
      "25.0 %\n",
      "26.0 %\n",
      "27.0 %\n",
      "28.0 %\n",
      "29.0 %\n",
      "30.0 %\n",
      "31.0 %\n",
      "32.0 %\n",
      "33.0 %\n",
      "34.0 %\n",
      "35.0 %\n",
      "36.0 %\n",
      "37.0 %\n",
      "38.0 %\n",
      "39.0 %\n",
      "40.0 %\n",
      "41.0 %\n",
      "42.0 %\n",
      "43.0 %\n",
      "44.0 %\n",
      "45.0 %\n",
      "46.0 %\n",
      "47.0 %\n",
      "48.0 %\n",
      "49.0 %\n",
      "50.0 %\n",
      "51.0 %\n",
      "52.0 %\n",
      "53.0 %\n",
      "54.0 %\n",
      "55.0 %\n",
      "56.0 %\n",
      "57.0 %\n",
      "58.0 %\n",
      "59.0 %\n",
      "60.0 %\n",
      "61.0 %\n",
      "62.0 %\n",
      "63.0 %\n",
      "64.0 %\n",
      "65.0 %\n",
      "66.0 %\n",
      "67.0 %\n",
      "68.0 %\n",
      "69.0 %\n",
      "70.0 %\n",
      "71.0 %\n",
      "72.0 %\n",
      "73.0 %\n",
      "74.0 %\n",
      "75.0 %\n",
      "76.0 %\n",
      "77.0 %\n",
      "78.0 %\n",
      "79.0 %\n",
      "80.0 %\n",
      "81.0 %\n",
      "82.0 %\n",
      "83.0 %\n",
      "84.0 %\n",
      "85.0 %\n",
      "86.0 %\n",
      "87.0 %\n",
      "88.0 %\n",
      "89.0 %\n",
      "90.0 %\n",
      "91.0 %\n",
      "92.0 %\n",
      "93.0 %\n",
      "94.0 %\n",
      "95.0 %\n",
      "96.0 %\n",
      "97.0 %\n",
      "98.0 %\n",
      "99.0 %\n",
      "100.0 %\n",
      "[ -295101.754666    -586649.94945256  -594878.8081679  ...\n",
      "  -641035.0274984   -878411.886796   -2450963.4044398 ]\n",
      "[  37448.949396    119842.7638746   570724.23411161 ...   94074.77455\n",
      "  576744.153146   1783486.7562    ]\n",
      "[0. 0. 0. ... 0. 0. 0.]\n",
      "[0. 0. 0. ... 0. 0. 0.]\n",
      "[0. 0. 0. ... 0. 0. 0.]\n",
      "[0. 0. 0. ... 0. 0. 0.]\n",
      "[-0.81830984  0.          0.         ...  0.          0.\n",
      "  0.        ]\n",
      "[0.         0.77964108 0.10712013 ... 0.         0.         0.        ]\n",
      "\n",
      "col-VO\n",
      " [ 744.  978. 1088. ... 1357.  534. 1062.]\n"
     ]
    }
   ],
   "source": [
    "mon_div_all = np.zeros(len(pd.unique(df_tran_H_edu_all['bank'])) )\n",
    "mon_plu_all = np.zeros(len(pd.unique(df_tran_H_edu_all['bank'])) )\n",
    "\n",
    "mon_div_all_USD = np.zeros(len(pd.unique(df_tran_H_edu_all['bank'])) )\n",
    "mon_plu_all_USD = np.zeros(len(pd.unique(df_tran_H_edu_all['bank'])) )\n",
    "\n",
    "mon_div_all_EUR = np.zeros(len(pd.unique(df_tran_H_edu_all['bank'])) )\n",
    "mon_plu_all_EUR = np.zeros(len(pd.unique(df_tran_H_edu_all['bank'])) )\n",
    "\n",
    "mon_div_all_xz = np.zeros(len(pd.unique(df_tran_H_edu_all['bank'])) )\n",
    "mon_plu_all_xz = np.zeros(len(pd.unique(df_tran_H_edu_all['bank'])) )\n",
    "\n",
    "col_VO_all = np.zeros(len(pd.unique(df_tran_H_edu_all['bank'])) )\n",
    "\n",
    "mcc_all = np.zeros(len(pd.unique(df_tran_H_edu_all['bank'])) )\n",
    "i = 0\n",
    "j = 0\n",
    "\n",
    "\n",
    "mon_div_all[i] += float(df_tran_H_edu_all.transaction_amt[j])\n",
    "mcc_all[i] += int(df_tran_H_edu_all.mcc_code[j])\n",
    "\n",
    "\n",
    "for j in  range (jss-1):\n",
    "    #подсчет процентов, чтобы знать сколько будет делать\n",
    "    if j/(jss//100) == int(j/(jss//100)): \n",
    "        print(j/(jss//100),'%')\n",
    "        \n",
    "    h1 = str(df_tran_H_edu_all.bank[j] )\n",
    "    h2 = str(df_tran_H_edu_all.bank[j+1])\n",
    "    \n",
    "    if h1 == h2: # сверяю что идентифик j и j+1 одинаковые и тогда считаю для разных валют\n",
    "        \n",
    "        m2 = float(df_tran_H_edu_all.transaction_amt[j+1]) #деньги (j+1)-го\n",
    "        \n",
    "        col_VO_all [i] += 1 #кол-во транзакций для каждого человека\n",
    "        \n",
    "        temp_mcc = int(df_tran_H_edu_all.mcc_code[j+1])\n",
    "        #в этом промежутке самое интересное, а именно траты на авиа белеты и прочее\n",
    "        if int(df_tran_H_edu_all.mcc_code[j+1])>3000: \n",
    "            if int(df_tran_H_edu_all.mcc_code[j+1]) < 4000:\n",
    "                temp_mcc *= 2\n",
    "        mcc_all[i] += temp_mcc #считаю  mcc общий mcc код для каждого\n",
    "            \n",
    "        # тут определяю какая валюта и было списание или пополнение денег\n",
    "        if float(df_tran_H_edu_all.currency_rk[j+1]) == float(48): \n",
    "            \n",
    "            if m2 > 0:\n",
    "                mon_plu_all[i] +=m2\n",
    "            else:\n",
    "                mon_div_all[i] += m2\n",
    "                \n",
    "        elif float(df_tran_H_edu_all.currency_rk[j+1]) == float(50):\n",
    "            \n",
    "            if m2 > 0:\n",
    "                mon_plu_all_USD[i] +=m2\n",
    "            else:\n",
    "                mon_div_all_EUR[i] += m2\n",
    "                \n",
    "        elif float(df_tran_H_edu_all.currency_rk[j+1]) == float(60):\n",
    "            \n",
    "            if m2 > 0:\n",
    "                mon_plu_all_EUR[i] +=m2\n",
    "            else:\n",
    "                mon_div_all_EUR[i] += m2\n",
    "                \n",
    "        else:\n",
    "            \n",
    "            if m2 > 0:\n",
    "                mon_plu_all_xz[i] +=m2\n",
    "            else:\n",
    "                mon_div_all_xz[i] += m2\n",
    "            \n",
    "    else:\n",
    "        m2 = float(df_tran_H_edu_all.transaction_amt[j+1])\n",
    "        \n",
    "        if float(df_tran_H_edu_all.currency_rk[j+1]) == float(48): #\n",
    "            \n",
    "            if m2 > 0:\n",
    "                mon_plu_all[i] +=m2\n",
    "            else:\n",
    "                mon_div_all[i] += m2\n",
    "                \n",
    "        elif float(df_tran_H_edu_all.currency_rk[j+1]) == float(50):\n",
    "            \n",
    "            if m2 > 0:\n",
    "                mon_plu_all_USD[i] +=m2\n",
    "            else:\n",
    "                mon_div_all_EUR[i] += m2\n",
    "                \n",
    "        elif float(df_tran_H_edu_all.currency_rk[j+1]) == float(60):\n",
    "            \n",
    "            if m2 > 0:\n",
    "                mon_plu_all_EUR[i] +=m2\n",
    "            else:\n",
    "                mon_div_all_EUR[i] += m2\n",
    "                \n",
    "        else:\n",
    "            \n",
    "            if m2 > 0:\n",
    "                mon_plu_all_xz[i] +=m2\n",
    "            else:\n",
    "                mon_div_all_xz[i] += m2\n",
    "        i += 1\n",
    "\n",
    "\n",
    "print(mon_div_all)\n",
    "print(mon_plu_all)\n",
    "\n",
    "print(mon_div_all_USD)\n",
    "print(mon_plu_all_USD)\n",
    "print(mon_div_all_EUR)\n",
    "print(mon_plu_all_EUR)\n",
    "print(mon_div_all_xz)\n",
    "print(mon_plu_all_xz)\n",
    "print()\n",
    "print('col-VO\\n',col_VO_all)"
   ]
  },
  {
   "cell_type": "markdown",
   "metadata": {},
   "source": [
    "теперь добавляем эти данные в таблицу df_H_edu_all \n",
    "стоит заметить что именно для этого нам надо было не потерять порядок людей"
   ]
  },
  {
   "cell_type": "code",
   "execution_count": 19,
   "metadata": {
    "execution": {
     "iopub.execute_input": "2022-05-20T18:30:52.293874Z",
     "iopub.status.busy": "2022-05-20T18:30:52.292931Z",
     "iopub.status.idle": "2022-05-20T18:30:52.305987Z",
     "shell.execute_reply": "2022-05-20T18:30:52.305164Z",
     "shell.execute_reply.started": "2022-05-20T18:30:52.293834Z"
    }
   },
   "outputs": [],
   "source": [
    "df_H_edu_all['mon_div_all'] = mon_div_all\n",
    "df_H_edu_all['mon_plu_all'] = mon_plu_all\n",
    "\n",
    "df_H_edu_all['mon_div_all_USD'] = mon_div_all_USD\n",
    "df_H_edu_all['mon_plu_all_USD'] = mon_plu_all_USD\n",
    "\n",
    "df_H_edu_all['mon_div_all_EUR'] = mon_div_all_EUR\n",
    "df_H_edu_all['mon_plu_all_EUR'] = mon_plu_all_EUR\n",
    "\n",
    "df_H_edu_all['mcc_all'] = mcc_all\n",
    "df_H_edu_all['col_VO_all'] = col_VO_all"
   ]
  },
  {
   "cell_type": "code",
   "execution_count": 20,
   "metadata": {
    "execution": {
     "iopub.execute_input": "2022-05-20T18:31:17.628717Z",
     "iopub.status.busy": "2022-05-20T18:31:17.627745Z",
     "iopub.status.idle": "2022-05-20T18:31:17.652308Z",
     "shell.execute_reply": "2022-05-20T18:31:17.651452Z",
     "shell.execute_reply.started": "2022-05-20T18:31:17.628659Z"
    }
   },
   "outputs": [
    {
     "data": {
      "text/html": [
       "<div>\n",
       "<style scoped>\n",
       "    .dataframe tbody tr th:only-of-type {\n",
       "        vertical-align: middle;\n",
       "    }\n",
       "\n",
       "    .dataframe tbody tr th {\n",
       "        vertical-align: top;\n",
       "    }\n",
       "\n",
       "    .dataframe thead th {\n",
       "        text-align: right;\n",
       "    }\n",
       "</style>\n",
       "<table border=\"1\" class=\"dataframe\">\n",
       "  <thead>\n",
       "    <tr style=\"text-align: right;\">\n",
       "      <th></th>\n",
       "      <th>bank</th>\n",
       "      <th>higher_education</th>\n",
       "      <th>rtk</th>\n",
       "      <th>mon_div_all</th>\n",
       "      <th>mon_plu_all</th>\n",
       "      <th>mon_div_all_USD</th>\n",
       "      <th>mon_plu_all_USD</th>\n",
       "      <th>mon_div_all_EUR</th>\n",
       "      <th>mon_plu_all_EUR</th>\n",
       "      <th>mcc_all</th>\n",
       "      <th>col_VO_all</th>\n",
       "    </tr>\n",
       "  </thead>\n",
       "  <tbody>\n",
       "    <tr>\n",
       "      <th>0</th>\n",
       "      <td>604a550439d644718ea6e1693fbf03dc</td>\n",
       "      <td>0.0</td>\n",
       "      <td>fece9b32c7d84acb836c3b1271cfdcc9</td>\n",
       "      <td>-2.951018e+05</td>\n",
       "      <td>37448.949396</td>\n",
       "      <td>0.0</td>\n",
       "      <td>0.0</td>\n",
       "      <td>0.0</td>\n",
       "      <td>0.0</td>\n",
       "      <td>3975536.0</td>\n",
       "      <td>744.0</td>\n",
       "    </tr>\n",
       "    <tr>\n",
       "      <th>1</th>\n",
       "      <td>542d4776ebe5454fb8ab36f1c276fe0e</td>\n",
       "      <td>1.0</td>\n",
       "      <td>38ac442698524d178f6ca361e0c603bb</td>\n",
       "      <td>-5.866499e+05</td>\n",
       "      <td>119842.763875</td>\n",
       "      <td>0.0</td>\n",
       "      <td>0.0</td>\n",
       "      <td>0.0</td>\n",
       "      <td>0.0</td>\n",
       "      <td>5605085.0</td>\n",
       "      <td>978.0</td>\n",
       "    </tr>\n",
       "    <tr>\n",
       "      <th>2</th>\n",
       "      <td>ee37fecea44d475ca030cde7ff7d545d</td>\n",
       "      <td>0.0</td>\n",
       "      <td>839669a7588b42ee9e01a9f200e5f638</td>\n",
       "      <td>-5.948788e+05</td>\n",
       "      <td>570724.234112</td>\n",
       "      <td>0.0</td>\n",
       "      <td>0.0</td>\n",
       "      <td>0.0</td>\n",
       "      <td>0.0</td>\n",
       "      <td>5329428.0</td>\n",
       "      <td>1088.0</td>\n",
       "    </tr>\n",
       "    <tr>\n",
       "      <th>3</th>\n",
       "      <td>079f07153c0149d19f54646618452929</td>\n",
       "      <td>0.0</td>\n",
       "      <td>f9d8f9f57453493186964049c43da914</td>\n",
       "      <td>-8.026645e+05</td>\n",
       "      <td>312552.970140</td>\n",
       "      <td>0.0</td>\n",
       "      <td>0.0</td>\n",
       "      <td>0.0</td>\n",
       "      <td>0.0</td>\n",
       "      <td>3962309.0</td>\n",
       "      <td>766.0</td>\n",
       "    </tr>\n",
       "    <tr>\n",
       "      <th>4</th>\n",
       "      <td>6dee55b3d7284d18bed3094ee3103812</td>\n",
       "      <td>1.0</td>\n",
       "      <td>6d6b702132d94a8692cba48f4e28e7b2</td>\n",
       "      <td>-1.229149e+06</td>\n",
       "      <td>985159.508026</td>\n",
       "      <td>0.0</td>\n",
       "      <td>0.0</td>\n",
       "      <td>0.0</td>\n",
       "      <td>0.0</td>\n",
       "      <td>7911281.0</td>\n",
       "      <td>1480.0</td>\n",
       "    </tr>\n",
       "  </tbody>\n",
       "</table>\n",
       "</div>"
      ],
      "text/plain": [
       "                               bank  higher_education  \\\n",
       "0  604a550439d644718ea6e1693fbf03dc               0.0   \n",
       "1  542d4776ebe5454fb8ab36f1c276fe0e               1.0   \n",
       "2  ee37fecea44d475ca030cde7ff7d545d               0.0   \n",
       "3  079f07153c0149d19f54646618452929               0.0   \n",
       "4  6dee55b3d7284d18bed3094ee3103812               1.0   \n",
       "\n",
       "                                rtk   mon_div_all    mon_plu_all  \\\n",
       "0  fece9b32c7d84acb836c3b1271cfdcc9 -2.951018e+05   37448.949396   \n",
       "1  38ac442698524d178f6ca361e0c603bb -5.866499e+05  119842.763875   \n",
       "2  839669a7588b42ee9e01a9f200e5f638 -5.948788e+05  570724.234112   \n",
       "3  f9d8f9f57453493186964049c43da914 -8.026645e+05  312552.970140   \n",
       "4  6d6b702132d94a8692cba48f4e28e7b2 -1.229149e+06  985159.508026   \n",
       "\n",
       "   mon_div_all_USD  mon_plu_all_USD  mon_div_all_EUR  mon_plu_all_EUR  \\\n",
       "0              0.0              0.0              0.0              0.0   \n",
       "1              0.0              0.0              0.0              0.0   \n",
       "2              0.0              0.0              0.0              0.0   \n",
       "3              0.0              0.0              0.0              0.0   \n",
       "4              0.0              0.0              0.0              0.0   \n",
       "\n",
       "     mcc_all  col_VO_all  \n",
       "0  3975536.0       744.0  \n",
       "1  5605085.0       978.0  \n",
       "2  5329428.0      1088.0  \n",
       "3  3962309.0       766.0  \n",
       "4  7911281.0      1480.0  "
      ]
     },
     "execution_count": 20,
     "metadata": {},
     "output_type": "execute_result"
    }
   ],
   "source": [
    "df_H_edu_all.head()"
   ]
  },
  {
   "cell_type": "markdown",
   "metadata": {},
   "source": [
    "# Построение дерева"
   ]
  },
  {
   "cell_type": "code",
   "execution_count": 21,
   "metadata": {
    "execution": {
     "iopub.execute_input": "2022-05-20T18:31:53.142967Z",
     "iopub.status.busy": "2022-05-20T18:31:53.142401Z",
     "iopub.status.idle": "2022-05-20T18:31:54.585975Z",
     "shell.execute_reply": "2022-05-20T18:31:54.585203Z",
     "shell.execute_reply.started": "2022-05-20T18:31:53.14293Z"
    }
   },
   "outputs": [],
   "source": [
    "from sklearn.ensemble import RandomForestClassifier\n",
    "from sklearn.model_selection import train_test_split"
   ]
  },
  {
   "cell_type": "code",
   "execution_count": 22,
   "metadata": {
    "execution": {
     "iopub.execute_input": "2022-05-20T18:31:57.621367Z",
     "iopub.status.busy": "2022-05-20T18:31:57.621066Z",
     "iopub.status.idle": "2022-05-20T18:31:57.636376Z",
     "shell.execute_reply": "2022-05-20T18:31:57.635531Z",
     "shell.execute_reply.started": "2022-05-20T18:31:57.62133Z"
    }
   },
   "outputs": [],
   "source": [
    "X = df_H_edu_all[[ 'mon_div_all', 'mon_plu_all', \n",
    "                  'mon_div_all_USD', 'mon_plu_all_USD',\n",
    "                  'mon_div_all_EUR','mon_plu_all_EUR',\n",
    "                  'mcc_all' , 'col_VO_all'\n",
    "                 ]]\n",
    "y = df_H_edu_all['higher_education']\n",
    "\n",
    "X_train, X_test, y_train, y_test = train_test_split(X, y, test_size=0.3, random_state=85)"
   ]
  },
  {
   "cell_type": "code",
   "execution_count": 23,
   "metadata": {
    "execution": {
     "iopub.execute_input": "2022-05-20T18:31:58.308032Z",
     "iopub.status.busy": "2022-05-20T18:31:58.307749Z",
     "iopub.status.idle": "2022-05-20T18:31:59.170372Z",
     "shell.execute_reply": "2022-05-20T18:31:59.169416Z",
     "shell.execute_reply.started": "2022-05-20T18:31:58.307989Z"
    }
   },
   "outputs": [],
   "source": [
    "rfc = RandomForestClassifier(n_estimators=100)\n",
    "rfc.fit(X_train, y_train)\n",
    "y_pred = rfc.predict(X_test)"
   ]
  },
  {
   "cell_type": "markdown",
   "metadata": {},
   "source": [
    "теперь определим точность которую мы получаем"
   ]
  },
  {
   "cell_type": "code",
   "execution_count": 24,
   "metadata": {
    "execution": {
     "iopub.execute_input": "2022-05-20T18:31:59.850287Z",
     "iopub.status.busy": "2022-05-20T18:31:59.849893Z",
     "iopub.status.idle": "2022-05-20T18:31:59.856968Z",
     "shell.execute_reply": "2022-05-20T18:31:59.856362Z",
     "shell.execute_reply.started": "2022-05-20T18:31:59.850237Z"
    }
   },
   "outputs": [
    {
     "name": "stdout",
     "output_type": "stream",
     "text": [
      "Accuracy: 0.7184058730991085\n"
     ]
    }
   ],
   "source": [
    "from sklearn import metrics\n",
    "print(\"Accuracy:\", metrics.accuracy_score(y_test, y_pred))"
   ]
  },
  {
   "cell_type": "code",
   "execution_count": null,
   "metadata": {},
   "outputs": [],
   "source": []
  }
 ],
 "metadata": {
  "kernelspec": {
   "display_name": "Python 3 (ipykernel)",
   "language": "python",
   "name": "python3"
  },
  "language_info": {
   "codemirror_mode": {
    "name": "ipython",
    "version": 3
   },
   "file_extension": ".py",
   "mimetype": "text/x-python",
   "name": "python",
   "nbconvert_exporter": "python",
   "pygments_lexer": "ipython3",
   "version": "3.9.12"
  }
 },
 "nbformat": 4,
 "nbformat_minor": 4
}
